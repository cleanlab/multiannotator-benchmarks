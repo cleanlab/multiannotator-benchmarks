{
 "cells": [
  {
   "cell_type": "markdown",
   "id": "ff9a2343",
   "metadata": {},
   "source": [
    "# This notebook trains the model, gets it's pred_probs and then saves results as npy files"
   ]
  },
  {
   "cell_type": "code",
   "execution_count": null,
   "id": "9ddb36d5",
   "metadata": {},
   "outputs": [],
   "source": [
    "# Initial steps for running on server\n",
    "# !pip install autogluon #install autogluon"
   ]
  },
  {
   "cell_type": "code",
   "execution_count": null,
   "id": "2b924c30",
   "metadata": {},
   "outputs": [],
   "source": [
    "from autogluon.vision import ImagePredictor, ImageDataset\n",
    "import pandas as pd\n",
    "import io\n",
    "import os\n",
    "!pwd # get absolute path of notebook\n",
    "path = os.getcwd()"
   ]
  },
  {
   "cell_type": "markdown",
   "id": "e4842df3",
   "metadata": {},
   "source": [
    "### Load data"
   ]
  },
  {
   "cell_type": "code",
   "execution_count": null,
   "id": "1bb5cd49",
   "metadata": {},
   "outputs": [],
   "source": [
    "# Load train files\n",
    "train_data = './data/model_data/cifar10_train_dataset.csv'\n",
    "train_dataset_noisy_labels_loaded = pd.read_csv(train_data)\n",
    "\n",
    "# Load test files\n",
    "test_data = './data/model_data/cifar10_test_dataset.csv'\n",
    "test_dataset_perfect_labels = pd.read_csv(test_data)"
   ]
  },
  {
   "cell_type": "code",
   "execution_count": null,
   "id": "d693ff8b",
   "metadata": {},
   "outputs": [],
   "source": [
    "# Create mini train dataset\n",
    "num_from_each_group = 15\n",
    "mini_train = train_dataset_noisy_labels_loaded.groupby(\"label\").head(num_from_each_group)\n",
    "mini_train.groupby(\"label\")[\"image\"].count().reset_index()"
   ]
  },
  {
   "cell_type": "markdown",
   "id": "9e765226",
   "metadata": {},
   "source": [
    "### Train model"
   ]
  },
  {
   "cell_type": "code",
   "execution_count": null,
   "id": "98902d34",
   "metadata": {},
   "outputs": [],
   "source": [
    "# Train and save trained model-- only works on remote server!\n",
    "\n",
    "# init model\n",
    "predictor = ImagePredictor(verbosity=2)\n",
    "\n",
    "# train model [mini_train vs full train + fix epochs and time_limit]\n",
    "predictor.fit(\n",
    "    train_data=mini_train,\n",
    "    ngpus_per_trial=1,\n",
    "    hyperparameters={\"holdout_frac\": 0.2},\n",
    "    time_limit=21600,\n",
    "    random_state=12345,\n",
    ")"
   ]
  },
  {
   "cell_type": "markdown",
   "id": "8b954f70",
   "metadata": {},
   "source": [
    "### Get predictions + Save results"
   ]
  },
  {
   "cell_type": "code",
   "execution_count": null,
   "id": "b417e260",
   "metadata": {},
   "outputs": [],
   "source": [
    "# get pred_probs and preds\n",
    "pred_probs = predictor.predict_proba(\n",
    "    data=test_dataset_perfect_labels, as_pandas=False\n",
    ")\n",
    "\n",
    "preds = pred_probs.argmax(axis=1)"
   ]
  },
  {
   "cell_type": "code",
   "execution_count": null,
   "id": "46f64843",
   "metadata": {},
   "outputs": [],
   "source": [
    "# save model results as .npy files\n",
    "np.save('./data/model_data/test_pred_probs.npy',pred_probs)\n",
    "np.save('./data/model_data/test_labels.npy', test_dataset_perfect_labels['label'].values)\n",
    "np.save('./data/model_data/test_images.npy', test_dataset_perfect_labels['image'].values)\n",
    "np.save('./data/model_data/test_preds.npy', preds)"
   ]
  },
  {
   "cell_type": "code",
   "execution_count": null,
   "id": "377879f4",
   "metadata": {},
   "outputs": [],
   "source": [
    "# # Optionally save model to local machine\n",
    "# filename = './data/model_data/predictor.ag'\n",
    "# predictor.save(filename)"
   ]
  }
 ],
 "metadata": {
  "kernelspec": {
   "display_name": "Python 3 (ipykernel)",
   "language": "python",
   "name": "python3"
  },
  "language_info": {
   "codemirror_mode": {
    "name": "ipython",
    "version": 3
   },
   "file_extension": ".py",
   "mimetype": "text/x-python",
   "name": "python",
   "nbconvert_exporter": "python",
   "pygments_lexer": "ipython3",
   "version": "3.8.13"
  }
 },
 "nbformat": 4,
 "nbformat_minor": 5
}
