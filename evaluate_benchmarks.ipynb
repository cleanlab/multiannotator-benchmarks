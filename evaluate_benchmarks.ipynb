{
 "cells": [
  {
   "cell_type": "markdown",
   "id": "bd3aea21",
   "metadata": {},
   "source": [
    "# CL for multi-annotator data [cifar10h] [benchmarking]\n",
    "- This notebook uses the results from the model_train_pred notebook to evaluate model performance. Also evaluates general multi-annotator dataset health"
   ]
  },
  {
   "cell_type": "code",
   "execution_count": 217,
   "id": "a08c4f94",
   "metadata": {},
   "outputs": [
    {
     "name": "stdout",
     "output_type": "stream",
     "text": [
      "The autoreload extension is already loaded. To reload it, use:\n",
      "  %reload_ext autoreload\n"
     ]
    }
   ],
   "source": [
    "%load_ext autoreload\n",
    "%autoreload 2\n",
    "\n",
    "import cleanlab\n",
    "from cleanlab.rank import get_label_quality_scores, get_label_quality_ensemble_scores\n",
    "from cleanlab.internal.label_quality_utils import get_normalized_entropy\n",
    "from cleanlab.filter import find_label_issues\n",
    "import sys\n",
    "import numpy as np\n",
    "import pandas as pd\n",
    "from pathlib import Path\n",
    "from sklearn.metrics import roc_auc_score, f1_score, precision_score, recall_score, precision_recall_curve, roc_curve, accuracy_score, log_loss\n",
    "from matplotlib import pyplot as plt\n",
    "from IPython.display import Image, display\n",
    "import os\n",
    "\n",
    "sys.path.insert(0, \"../\")\n",
    "from utils.eval_metrics import lift_at_k\n",
    "from utils.active_learning_scores import least_confidence\n",
    "# experimental version of label quality ensemble scores with additional weighting schemes\n",
    "from utils.label_quality_ensemble_scores_experimental import get_label_quality_ensemble_scores_experimental\n",
    "\n",
    "path = os.getcwd()\n",
    "pd.set_option('display.max_rows', None)\n",
    "pd.set_option('display.max_columns', None)\n",
    "pd.set_option('display.max_colwidth', None)"
   ]
  },
  {
   "cell_type": "code",
   "execution_count": 218,
   "id": "fc62522c",
   "metadata": {},
   "outputs": [
    {
     "name": "stdout",
     "output_type": "stream",
     "text": [
      "/Users/uly/Documents/Cleanlab/multiannotator_benchmarks\r\n"
     ]
    }
   ],
   "source": [
    "!pwd"
   ]
  },
  {
   "cell_type": "markdown",
   "id": "69495f73",
   "metadata": {},
   "source": [
    "### Load/Analyze Cifar10h Data"
   ]
  },
  {
   "cell_type": "code",
   "execution_count": 219,
   "id": "e5b69b02",
   "metadata": {},
   "outputs": [
    {
     "data": {
      "text/html": [
       "<div>\n",
       "<style scoped>\n",
       "    .dataframe tbody tr th:only-of-type {\n",
       "        vertical-align: middle;\n",
       "    }\n",
       "\n",
       "    .dataframe tbody tr th {\n",
       "        vertical-align: top;\n",
       "    }\n",
       "\n",
       "    .dataframe thead th {\n",
       "        text-align: right;\n",
       "    }\n",
       "</style>\n",
       "<table border=\"1\" class=\"dataframe\">\n",
       "  <thead>\n",
       "    <tr style=\"text-align: right;\">\n",
       "      <th></th>\n",
       "      <th>annotator_id</th>\n",
       "      <th>trial_index</th>\n",
       "      <th>is_attn_check</th>\n",
       "      <th>true_category</th>\n",
       "      <th>chosen_category</th>\n",
       "      <th>true_label</th>\n",
       "      <th>chosen_label</th>\n",
       "      <th>correct_guess</th>\n",
       "      <th>cifar10_test_test_idx</th>\n",
       "      <th>image_filename</th>\n",
       "      <th>subcategory</th>\n",
       "      <th>reaction_time</th>\n",
       "      <th>time_elapsed</th>\n",
       "    </tr>\n",
       "  </thead>\n",
       "  <tbody>\n",
       "    <tr>\n",
       "      <th>0</th>\n",
       "      <td>0</td>\n",
       "      <td>0</td>\n",
       "      <td>0</td>\n",
       "      <td>ship</td>\n",
       "      <td>ship</td>\n",
       "      <td>8</td>\n",
       "      <td>8</td>\n",
       "      <td>1</td>\n",
       "      <td>6798</td>\n",
       "      <td>cabin_cruiser_s_000814.png</td>\n",
       "      <td>cabin_cruiser</td>\n",
       "      <td>1342</td>\n",
       "      <td>1342</td>\n",
       "    </tr>\n",
       "    <tr>\n",
       "      <th>1</th>\n",
       "      <td>0</td>\n",
       "      <td>1</td>\n",
       "      <td>0</td>\n",
       "      <td>deer</td>\n",
       "      <td>horse</td>\n",
       "      <td>4</td>\n",
       "      <td>7</td>\n",
       "      <td>0</td>\n",
       "      <td>1118</td>\n",
       "      <td>alces_alces_s_000236.png</td>\n",
       "      <td>alces_alces</td>\n",
       "      <td>4305</td>\n",
       "      <td>6244</td>\n",
       "    </tr>\n",
       "    <tr>\n",
       "      <th>2</th>\n",
       "      <td>0</td>\n",
       "      <td>2</td>\n",
       "      <td>0</td>\n",
       "      <td>horse</td>\n",
       "      <td>horse</td>\n",
       "      <td>7</td>\n",
       "      <td>7</td>\n",
       "      <td>1</td>\n",
       "      <td>5965</td>\n",
       "      <td>stud_mare_s_001236.png</td>\n",
       "      <td>stud_mare</td>\n",
       "      <td>2811</td>\n",
       "      <td>9274</td>\n",
       "    </tr>\n",
       "    <tr>\n",
       "      <th>3</th>\n",
       "      <td>0</td>\n",
       "      <td>3</td>\n",
       "      <td>0</td>\n",
       "      <td>truck</td>\n",
       "      <td>automobile</td>\n",
       "      <td>9</td>\n",
       "      <td>1</td>\n",
       "      <td>0</td>\n",
       "      <td>6167</td>\n",
       "      <td>delivery_van_s_000100.png</td>\n",
       "      <td>delivery_van</td>\n",
       "      <td>1136</td>\n",
       "      <td>10610</td>\n",
       "    </tr>\n",
       "    <tr>\n",
       "      <th>4</th>\n",
       "      <td>0</td>\n",
       "      <td>4</td>\n",
       "      <td>0</td>\n",
       "      <td>deer</td>\n",
       "      <td>bird</td>\n",
       "      <td>4</td>\n",
       "      <td>2</td>\n",
       "      <td>0</td>\n",
       "      <td>373</td>\n",
       "      <td>elk_s_000359.png</td>\n",
       "      <td>elk</td>\n",
       "      <td>4410</td>\n",
       "      <td>15994</td>\n",
       "    </tr>\n",
       "  </tbody>\n",
       "</table>\n",
       "</div>"
      ],
      "text/plain": [
       "   annotator_id  trial_index  is_attn_check true_category chosen_category  \\\n",
       "0             0            0              0          ship            ship   \n",
       "1             0            1              0          deer           horse   \n",
       "2             0            2              0         horse           horse   \n",
       "3             0            3              0         truck      automobile   \n",
       "4             0            4              0          deer            bird   \n",
       "\n",
       "   true_label  chosen_label  correct_guess  cifar10_test_test_idx  \\\n",
       "0           8             8              1                   6798   \n",
       "1           4             7              0                   1118   \n",
       "2           7             7              1                   5965   \n",
       "3           9             1              0                   6167   \n",
       "4           4             2              0                    373   \n",
       "\n",
       "               image_filename    subcategory  reaction_time  time_elapsed  \n",
       "0  cabin_cruiser_s_000814.png  cabin_cruiser           1342          1342  \n",
       "1    alces_alces_s_000236.png    alces_alces           4305          6244  \n",
       "2      stud_mare_s_001236.png      stud_mare           2811          9274  \n",
       "3   delivery_van_s_000100.png   delivery_van           1136         10610  \n",
       "4            elk_s_000359.png            elk           4410         15994  "
      ]
     },
     "execution_count": 219,
     "metadata": {},
     "output_type": "execute_result"
    }
   ],
   "source": [
    "# If this line throws an error, make sure you correctly downloaded and unzipped cifar10h-raw data\n",
    "\n",
    "pred_probs_multiannotator = np.load('./data/cifar10h/cifar10h-probs.npy')\n",
    "df = pd.read_csv('./data/cifar10h/cifar10h-raw.csv')\n",
    "df = df[df.cifar10_test_test_idx != -99999] # dropping all attention check trials\n",
    "df.head()"
   ]
  },
  {
   "cell_type": "code",
   "execution_count": 220,
   "id": "11c39b16",
   "metadata": {},
   "outputs": [
    {
     "data": {
      "text/html": [
       "<div>\n",
       "<style scoped>\n",
       "    .dataframe tbody tr th:only-of-type {\n",
       "        vertical-align: middle;\n",
       "    }\n",
       "\n",
       "    .dataframe tbody tr th {\n",
       "        vertical-align: top;\n",
       "    }\n",
       "\n",
       "    .dataframe thead th {\n",
       "        text-align: right;\n",
       "    }\n",
       "</style>\n",
       "<table border=\"1\" class=\"dataframe\">\n",
       "  <thead>\n",
       "    <tr style=\"text-align: right;\">\n",
       "      <th></th>\n",
       "      <th>annotator_id</th>\n",
       "      <th>trial_index</th>\n",
       "      <th>is_attn_check</th>\n",
       "      <th>true_label</th>\n",
       "      <th>chosen_label</th>\n",
       "      <th>correct_guess</th>\n",
       "      <th>cifar10_test_test_idx</th>\n",
       "      <th>reaction_time</th>\n",
       "      <th>time_elapsed</th>\n",
       "    </tr>\n",
       "  </thead>\n",
       "  <tbody>\n",
       "    <tr>\n",
       "      <th>count</th>\n",
       "      <td>514200.000000</td>\n",
       "      <td>514200.000000</td>\n",
       "      <td>514200.0</td>\n",
       "      <td>514200.000000</td>\n",
       "      <td>514200.000000</td>\n",
       "      <td>514200.000000</td>\n",
       "      <td>514200.000000</td>\n",
       "      <td>5.142000e+05</td>\n",
       "      <td>5.142000e+05</td>\n",
       "    </tr>\n",
       "    <tr>\n",
       "      <th>mean</th>\n",
       "      <td>1285.000000</td>\n",
       "      <td>104.000000</td>\n",
       "      <td>0.0</td>\n",
       "      <td>4.500000</td>\n",
       "      <td>4.525208</td>\n",
       "      <td>0.948744</td>\n",
       "      <td>5000.431614</td>\n",
       "      <td>1.935603e+03</td>\n",
       "      <td>2.931535e+05</td>\n",
       "    </tr>\n",
       "    <tr>\n",
       "      <th>std</th>\n",
       "      <td>742.184437</td>\n",
       "      <td>60.592963</td>\n",
       "      <td>0.0</td>\n",
       "      <td>2.872284</td>\n",
       "      <td>2.870586</td>\n",
       "      <td>0.220520</td>\n",
       "      <td>2886.618758</td>\n",
       "      <td>1.162328e+04</td>\n",
       "      <td>2.222935e+05</td>\n",
       "    </tr>\n",
       "    <tr>\n",
       "      <th>min</th>\n",
       "      <td>0.000000</td>\n",
       "      <td>0.000000</td>\n",
       "      <td>0.0</td>\n",
       "      <td>0.000000</td>\n",
       "      <td>0.000000</td>\n",
       "      <td>0.000000</td>\n",
       "      <td>0.000000</td>\n",
       "      <td>-6.277500e+04</td>\n",
       "      <td>4.810000e+02</td>\n",
       "    </tr>\n",
       "    <tr>\n",
       "      <th>25%</th>\n",
       "      <td>642.000000</td>\n",
       "      <td>51.750000</td>\n",
       "      <td>0.0</td>\n",
       "      <td>2.000000</td>\n",
       "      <td>2.000000</td>\n",
       "      <td>1.000000</td>\n",
       "      <td>2502.000000</td>\n",
       "      <td>1.206000e+03</td>\n",
       "      <td>1.371220e+05</td>\n",
       "    </tr>\n",
       "    <tr>\n",
       "      <th>50%</th>\n",
       "      <td>1285.000000</td>\n",
       "      <td>104.000000</td>\n",
       "      <td>0.0</td>\n",
       "      <td>4.500000</td>\n",
       "      <td>5.000000</td>\n",
       "      <td>1.000000</td>\n",
       "      <td>5000.000000</td>\n",
       "      <td>1.483000e+03</td>\n",
       "      <td>2.709670e+05</td>\n",
       "    </tr>\n",
       "    <tr>\n",
       "      <th>75%</th>\n",
       "      <td>1928.000000</td>\n",
       "      <td>156.250000</td>\n",
       "      <td>0.0</td>\n",
       "      <td>7.000000</td>\n",
       "      <td>7.000000</td>\n",
       "      <td>1.000000</td>\n",
       "      <td>7500.000000</td>\n",
       "      <td>1.969000e+03</td>\n",
       "      <td>4.106732e+05</td>\n",
       "    </tr>\n",
       "    <tr>\n",
       "      <th>max</th>\n",
       "      <td>2570.000000</td>\n",
       "      <td>208.000000</td>\n",
       "      <td>0.0</td>\n",
       "      <td>9.000000</td>\n",
       "      <td>9.000000</td>\n",
       "      <td>1.000000</td>\n",
       "      <td>9999.000000</td>\n",
       "      <td>7.686536e+06</td>\n",
       "      <td>9.029878e+06</td>\n",
       "    </tr>\n",
       "  </tbody>\n",
       "</table>\n",
       "</div>"
      ],
      "text/plain": [
       "        annotator_id    trial_index  is_attn_check     true_label  \\\n",
       "count  514200.000000  514200.000000       514200.0  514200.000000   \n",
       "mean     1285.000000     104.000000            0.0       4.500000   \n",
       "std       742.184437      60.592963            0.0       2.872284   \n",
       "min         0.000000       0.000000            0.0       0.000000   \n",
       "25%       642.000000      51.750000            0.0       2.000000   \n",
       "50%      1285.000000     104.000000            0.0       4.500000   \n",
       "75%      1928.000000     156.250000            0.0       7.000000   \n",
       "max      2570.000000     208.000000            0.0       9.000000   \n",
       "\n",
       "        chosen_label  correct_guess  cifar10_test_test_idx  reaction_time  \\\n",
       "count  514200.000000  514200.000000          514200.000000   5.142000e+05   \n",
       "mean        4.525208       0.948744            5000.431614   1.935603e+03   \n",
       "std         2.870586       0.220520            2886.618758   1.162328e+04   \n",
       "min         0.000000       0.000000               0.000000  -6.277500e+04   \n",
       "25%         2.000000       1.000000            2502.000000   1.206000e+03   \n",
       "50%         5.000000       1.000000            5000.000000   1.483000e+03   \n",
       "75%         7.000000       1.000000            7500.000000   1.969000e+03   \n",
       "max         9.000000       1.000000            9999.000000   7.686536e+06   \n",
       "\n",
       "       time_elapsed  \n",
       "count  5.142000e+05  \n",
       "mean   2.931535e+05  \n",
       "std    2.222935e+05  \n",
       "min    4.810000e+02  \n",
       "25%    1.371220e+05  \n",
       "50%    2.709670e+05  \n",
       "75%    4.106732e+05  \n",
       "max    9.029878e+06  "
      ]
     },
     "execution_count": 220,
     "metadata": {},
     "output_type": "execute_result"
    }
   ],
   "source": [
    "df.describe()"
   ]
  },
  {
   "cell_type": "markdown",
   "id": "063e4d8b",
   "metadata": {},
   "source": [
    "#### restructure dataset information\n",
    "- num_datapoints (N), num_annotators (M)\n",
    "- hlabels: (N,M)\n",
    "- hlabels_error_mask: (N,M) where True=error\n",
    "- hannotator_mask: (N,M) where True=annotator x anotated that\n",
    "- htrue_labels: (K=10,000,) # indexed same way as cifar10\n",
    "- htrue_images: (K=10,000,)"
   ]
  },
  {
   "cell_type": "code",
   "execution_count": 221,
   "id": "5c869ae5",
   "metadata": {},
   "outputs": [
    {
     "name": "stdout",
     "output_type": "stream",
     "text": [
      "(10000, 2571) nan (10000, 2571) 0 (10000, 2571) 0\n",
      "(10000, 2571) nan (10000, 2571) 487844 (10000, 2571) 514200\n"
     ]
    }
   ],
   "source": [
    "# get annotations per annotator in numpy array (rows = annotations, cols = annotators)\n",
    "\n",
    "num_datapoints = df['cifar10_test_test_idx'].max() + 1\n",
    "num_annotators = df['annotator_id'].max() + 1\n",
    "\n",
    "hlabels = np.full((num_datapoints, num_annotators), np.nan) # all annotator labels np.full([height, width, 9], np.nan)\n",
    "hlabels_error_mask = np.zeros((num_datapoints, num_annotators), dtype=bool) # mask of annotator errors\n",
    "hannotator_mask = np.zeros((num_datapoints, num_annotators), dtype=bool) # mask of what each person annotated\n",
    "\n",
    "print(hlabels.shape, hlabels.sum(), hlabels_error_mask.shape, hlabels_error_mask.sum(), hannotator_mask.shape, hannotator_mask.sum())\n",
    "\n",
    "for annotator_id in range(num_annotators):\n",
    "    adf = df[df.annotator_id == annotator_id] # 200 annotations per annotator\n",
    "    annotations_idx = adf['cifar10_test_test_idx'].values\n",
    "    annotations = adf['chosen_label'].values\n",
    "    errors = adf['correct_guess'].values\n",
    "    \n",
    "    hlabels[annotations_idx, annotator_id] = annotations\n",
    "    hlabels_error_mask[annotations_idx, annotator_id] = errors\n",
    "    hannotator_mask[annotations_idx, annotator_id] = True\n",
    "\n",
    "print(hlabels.shape, hlabels.sum(), hlabels_error_mask.shape, hlabels_error_mask.sum(), hannotator_mask.shape, hannotator_mask.sum())"
   ]
  },
  {
   "cell_type": "code",
   "execution_count": 222,
   "id": "87f15235",
   "metadata": {},
   "outputs": [],
   "source": [
    "# get true labels as numpy array (rows = true labels,) and true images\n",
    "\n",
    "htrue_labels = np.zeros((num_datapoints, ))\n",
    "htrue_images = np.empty((num_datapoints, ) ,dtype=object)\n",
    "\n",
    "idx_to_label = \\\n",
    "[(idx,label,image) for idx,label,image in zip(df['cifar10_test_test_idx'],df['true_label'],df['image_filename'])]\n",
    "idx_to_label = list(set(idx_to_label))\n",
    "\n",
    "idx = [idx_to_label[0] for idx_to_label in idx_to_label]\n",
    "true_label = [idx_to_label[1] for idx_to_label in idx_to_label]\n",
    "htrue_image = [idx_to_label[2] for idx_to_label in idx_to_label]\n",
    "\n",
    "htrue_labels[idx] = true_label\n",
    "htrue_images[idx] = htrue_image"
   ]
  },
  {
   "cell_type": "markdown",
   "id": "def07fd6",
   "metadata": {},
   "source": [
    "#### get accuracy of individual annotators"
   ]
  },
  {
   "cell_type": "code",
   "execution_count": 223,
   "id": "86d8c70f",
   "metadata": {},
   "outputs": [
    {
     "data": {
      "image/png": "[encoded data removed]",
      "text/plain": [
       "<Figure size 1080x720 with 1 Axes>"
      ]
     },
     "metadata": {
      "needs_background": "light"
     },
     "output_type": "display_data"
    },
    {
     "data": {
      "text/html": [
       "<div>\n",
       "<style scoped>\n",
       "    .dataframe tbody tr th:only-of-type {\n",
       "        vertical-align: middle;\n",
       "    }\n",
       "\n",
       "    .dataframe tbody tr th {\n",
       "        vertical-align: top;\n",
       "    }\n",
       "\n",
       "    .dataframe thead th {\n",
       "        text-align: right;\n",
       "    }\n",
       "</style>\n",
       "<table border=\"1\" class=\"dataframe\">\n",
       "  <thead>\n",
       "    <tr style=\"text-align: right;\">\n",
       "      <th></th>\n",
       "      <th>score</th>\n",
       "    </tr>\n",
       "  </thead>\n",
       "  <tbody>\n",
       "    <tr>\n",
       "      <th>count</th>\n",
       "      <td>2571.000000</td>\n",
       "    </tr>\n",
       "    <tr>\n",
       "      <th>mean</th>\n",
       "      <td>0.948744</td>\n",
       "    </tr>\n",
       "    <tr>\n",
       "      <th>std</th>\n",
       "      <td>0.057286</td>\n",
       "    </tr>\n",
       "    <tr>\n",
       "      <th>min</th>\n",
       "      <td>0.090000</td>\n",
       "    </tr>\n",
       "    <tr>\n",
       "      <th>25%</th>\n",
       "      <td>0.940000</td>\n",
       "    </tr>\n",
       "    <tr>\n",
       "      <th>50%</th>\n",
       "      <td>0.960000</td>\n",
       "    </tr>\n",
       "    <tr>\n",
       "      <th>75%</th>\n",
       "      <td>0.970000</td>\n",
       "    </tr>\n",
       "    <tr>\n",
       "      <th>max</th>\n",
       "      <td>1.000000</td>\n",
       "    </tr>\n",
       "  </tbody>\n",
       "</table>\n",
       "</div>"
      ],
      "text/plain": [
       "             score\n",
       "count  2571.000000\n",
       "mean      0.948744\n",
       "std       0.057286\n",
       "min       0.090000\n",
       "25%       0.940000\n",
       "50%       0.960000\n",
       "75%       0.970000\n",
       "max       1.000000"
      ]
     },
     "execution_count": 223,
     "metadata": {},
     "output_type": "execute_result"
    }
   ],
   "source": [
    "# Get accuracy of individual annotators\n",
    "def plt_annotator_accuracy(labels_error_mask, annotator_mask):\n",
    "    annotator_accuracy = labels_error_mask.sum(axis=0) / annotator_mask.sum(axis=0)\n",
    "    plt.boxplot(annotator_accuracy)\n",
    "    plt.show()\n",
    "\n",
    "    df_describe = pd.DataFrame(annotator_accuracy, columns=['score'])\n",
    "    return df_describe\n",
    "\n",
    "df_describe = plt_annotator_accuracy(hlabels_error_mask, hannotator_mask)\n",
    "df_describe.describe()"
   ]
  },
  {
   "cell_type": "markdown",
   "id": "8268d90f",
   "metadata": {},
   "source": [
    "#### get accuracy of consensus labels"
   ]
  },
  {
   "cell_type": "code",
   "execution_count": 224,
   "id": "1b837561",
   "metadata": {},
   "outputs": [],
   "source": [
    "# Compute the consensus_labels\n",
    "# TODO: conditional based on consensus_method, consensus_method can be a List[str], add dawid-skene\n",
    "def get_consensus_labels(labels_multiannotator, pred_probs):\n",
    "    mode_labels_multiannotator = labels_multiannotator.mode(axis=1)\n",
    "    consensus_labels = []\n",
    "    for i in range(len(mode_labels_multiannotator)):\n",
    "        consensus_labels.append( int(mode_labels_multiannotator.iloc[i][pred_probs[i][mode_labels_multiannotator.iloc[i].dropna().astype(int).to_numpy()\n",
    "                    ].argmax()\n",
    "                ]\n",
    "            )\n",
    "        )\n",
    "    return np.array(consensus_labels)\n",
    "\n",
    "def get_consensus_accuracy_report(labels, true_labels, annotator_mask, pred_probs_multiannotator):\n",
    "    labels_multiannotator = pd.DataFrame(labels)\n",
    "    consensus_labels = get_consensus_labels(labels_multiannotator, pred_probs_multiannotator)\n",
    "    correct_consensus = (true_labels == consensus_labels) + 0\n",
    "    all_consensus = [1] * len(true_labels)\n",
    "    correct_consensus.sum() / len(correct_consensus)\n",
    "\n",
    "    num_annotators_per_example = annotator_mask.sum(axis=1)\n",
    "\n",
    "    consensus_accuracy = pd.DataFrame(zip(correct_consensus, num_annotators_per_example,all_consensus), columns=['consense','num_a','total_seen'])\n",
    "    consensus_accuracy = consensus_accuracy.groupby('num_a')[[\"consense\", \"total_seen\"]].sum().reset_index()\n",
    "    consensus_accuracy['consensus_acc'] = consensus_accuracy['consense'] / consensus_accuracy['total_seen']\n",
    "    return consensus_accuracy\n",
    "\n",
    "# per example, number of annotators that agree with consensus label (% agreement = x with lower confidence bound = confidence interval for true proportion of annotators that greed (jonas share))\n",
    "# plot accuracy of consensus label given number of annotators that agree\n",
    "# if acc to num annotators and num annotator agreement % then we perform best\n",
    "\n",
    "def plot_labels_multiannotator(labels, true_labels, pred_probs_multiannotator=None):\n",
    "    labels_multiannotator = pd.DataFrame(labels)\n",
    "    \n",
    "    if pred_probs_multiannotator is None:\n",
    "        pred_counts = labels.sum(axis=1)\n",
    "        pred_probs_multiannotator = labels / pred_counts[:,np.newaxis]\n",
    "\n",
    "    consensus_labels = get_consensus_labels(labels_multiannotator, pred_probs_multiannotator)\n",
    "    consensus_labels_tile = np.repeat(consensus_labels[:,np.newaxis], labels_multiannotator.shape[1], axis=1)\n",
    "    num_annotators_per_ex = np.count_nonzero(~np.isnan(labels), axis=1)\n",
    "    annotator_agreement = (labels_multiannotator == consensus_labels_tile) # Number of annotators matches consensus\n",
    "    annotator_agreement = annotator_agreement.sum(axis=1)\n",
    "    bin_consensus = (true_labels == consensus_labels) + 0\n",
    "    consensus_accuracy = pd.DataFrame(zip(annotator_agreement,bin_consensus), columns=['annotator_agreement','bin_consense'])\n",
    "    _ = consensus_accuracy.boxplot(by=['bin_consense'], figsize=(7,7))\n",
    "    consensus_accuracy = consensus_accuracy.groupby('bin_consense')[['annotator_agreement']].sum().reset_index()\n",
    "\n",
    "    return consensus_accuracy    "
   ]
  },
  {
   "cell_type": "code",
   "execution_count": 225,
   "id": "548fb4d0",
   "metadata": {},
   "outputs": [
    {
     "data": {
      "text/html": [
       "<div>\n",
       "<style scoped>\n",
       "    .dataframe tbody tr th:only-of-type {\n",
       "        vertical-align: middle;\n",
       "    }\n",
       "\n",
       "    .dataframe tbody tr th {\n",
       "        vertical-align: top;\n",
       "    }\n",
       "\n",
       "    .dataframe thead th {\n",
       "        text-align: right;\n",
       "    }\n",
       "</style>\n",
       "<table border=\"1\" class=\"dataframe\">\n",
       "  <thead>\n",
       "    <tr style=\"text-align: right;\">\n",
       "      <th></th>\n",
       "      <th>bin_consense</th>\n",
       "      <th>annotator_agreement</th>\n",
       "    </tr>\n",
       "  </thead>\n",
       "  <tbody>\n",
       "    <tr>\n",
       "      <th>0</th>\n",
       "      <td>0</td>\n",
       "      <td>2326</td>\n",
       "    </tr>\n",
       "    <tr>\n",
       "      <th>1</th>\n",
       "      <td>1</td>\n",
       "      <td>486587</td>\n",
       "    </tr>\n",
       "  </tbody>\n",
       "</table>\n",
       "</div>"
      ],
      "text/plain": [
       "   bin_consense  annotator_agreement\n",
       "0             0                 2326\n",
       "1             1               486587"
      ]
     },
     "execution_count": 225,
     "metadata": {},
     "output_type": "execute_result"
    },
    {
     "data": {
      "image/png": "[encoded data removed]",
      "text/plain": [
       "<Figure size 504x504 with 1 Axes>"
      ]
     },
     "metadata": {
      "needs_background": "light"
     },
     "output_type": "display_data"
    }
   ],
   "source": [
    "plot_labels_multiannotator(hlabels, htrue_labels)"
   ]
  },
  {
   "cell_type": "code",
   "execution_count": 226,
   "id": "7db88867",
   "metadata": {},
   "outputs": [
    {
     "data": {
      "text/html": [
       "<div>\n",
       "<style scoped>\n",
       "    .dataframe tbody tr th:only-of-type {\n",
       "        vertical-align: middle;\n",
       "    }\n",
       "\n",
       "    .dataframe tbody tr th {\n",
       "        vertical-align: top;\n",
       "    }\n",
       "\n",
       "    .dataframe thead th {\n",
       "        text-align: right;\n",
       "    }\n",
       "</style>\n",
       "<table border=\"1\" class=\"dataframe\">\n",
       "  <thead>\n",
       "    <tr style=\"text-align: right;\">\n",
       "      <th></th>\n",
       "      <th>num_a</th>\n",
       "      <th>consense</th>\n",
       "      <th>total_seen</th>\n",
       "      <th>consensus_acc</th>\n",
       "    </tr>\n",
       "  </thead>\n",
       "  <tbody>\n",
       "    <tr>\n",
       "      <th>0</th>\n",
       "      <td>50</td>\n",
       "      <td>2798</td>\n",
       "      <td>2816</td>\n",
       "      <td>0.993608</td>\n",
       "    </tr>\n",
       "    <tr>\n",
       "      <th>1</th>\n",
       "      <td>51</td>\n",
       "      <td>3332</td>\n",
       "      <td>3362</td>\n",
       "      <td>0.991077</td>\n",
       "    </tr>\n",
       "    <tr>\n",
       "      <th>2</th>\n",
       "      <td>52</td>\n",
       "      <td>2161</td>\n",
       "      <td>2181</td>\n",
       "      <td>0.990830</td>\n",
       "    </tr>\n",
       "    <tr>\n",
       "      <th>3</th>\n",
       "      <td>53</td>\n",
       "      <td>979</td>\n",
       "      <td>986</td>\n",
       "      <td>0.992901</td>\n",
       "    </tr>\n",
       "    <tr>\n",
       "      <th>4</th>\n",
       "      <td>54</td>\n",
       "      <td>339</td>\n",
       "      <td>341</td>\n",
       "      <td>0.994135</td>\n",
       "    </tr>\n",
       "    <tr>\n",
       "      <th>5</th>\n",
       "      <td>55</td>\n",
       "      <td>93</td>\n",
       "      <td>95</td>\n",
       "      <td>0.978947</td>\n",
       "    </tr>\n",
       "    <tr>\n",
       "      <th>6</th>\n",
       "      <td>56</td>\n",
       "      <td>36</td>\n",
       "      <td>36</td>\n",
       "      <td>1.000000</td>\n",
       "    </tr>\n",
       "    <tr>\n",
       "      <th>7</th>\n",
       "      <td>57</td>\n",
       "      <td>80</td>\n",
       "      <td>80</td>\n",
       "      <td>1.000000</td>\n",
       "    </tr>\n",
       "    <tr>\n",
       "      <th>8</th>\n",
       "      <td>58</td>\n",
       "      <td>49</td>\n",
       "      <td>49</td>\n",
       "      <td>1.000000</td>\n",
       "    </tr>\n",
       "    <tr>\n",
       "      <th>9</th>\n",
       "      <td>59</td>\n",
       "      <td>38</td>\n",
       "      <td>38</td>\n",
       "      <td>1.000000</td>\n",
       "    </tr>\n",
       "    <tr>\n",
       "      <th>10</th>\n",
       "      <td>60</td>\n",
       "      <td>9</td>\n",
       "      <td>9</td>\n",
       "      <td>1.000000</td>\n",
       "    </tr>\n",
       "    <tr>\n",
       "      <th>11</th>\n",
       "      <td>61</td>\n",
       "      <td>6</td>\n",
       "      <td>6</td>\n",
       "      <td>1.000000</td>\n",
       "    </tr>\n",
       "    <tr>\n",
       "      <th>12</th>\n",
       "      <td>63</td>\n",
       "      <td>1</td>\n",
       "      <td>1</td>\n",
       "      <td>1.000000</td>\n",
       "    </tr>\n",
       "  </tbody>\n",
       "</table>\n",
       "</div>"
      ],
      "text/plain": [
       "    num_a  consense  total_seen  consensus_acc\n",
       "0      50      2798        2816       0.993608\n",
       "1      51      3332        3362       0.991077\n",
       "2      52      2161        2181       0.990830\n",
       "3      53       979         986       0.992901\n",
       "4      54       339         341       0.994135\n",
       "5      55        93          95       0.978947\n",
       "6      56        36          36       1.000000\n",
       "7      57        80          80       1.000000\n",
       "8      58        49          49       1.000000\n",
       "9      59        38          38       1.000000\n",
       "10     60         9           9       1.000000\n",
       "11     61         6           6       1.000000\n",
       "12     63         1           1       1.000000"
      ]
     },
     "execution_count": 226,
     "metadata": {},
     "output_type": "execute_result"
    }
   ],
   "source": [
    "consensus_accuracy = get_consensus_accuracy_report(hlabels, \n",
    "                              htrue_labels, \n",
    "                              hannotator_mask, \n",
    "                              pred_probs_multiannotator)\n",
    "consensus_accuracy"
   ]
  },
  {
   "cell_type": "code",
   "execution_count": 227,
   "id": "5b8ea0a5",
   "metadata": {},
   "outputs": [
    {
     "data": {
      "text/plain": [
       "<AxesSubplot:xlabel='num_a'>"
      ]
     },
     "execution_count": 227,
     "metadata": {},
     "output_type": "execute_result"
    },
    {
     "data": {
      "image/png": "[encoded data removed]",
      "text/plain": [
       "<Figure size 1080x720 with 1 Axes>"
      ]
     },
     "metadata": {
      "needs_background": "light"
     },
     "output_type": "display_data"
    }
   ],
   "source": [
    "consensus_accuracy[['num_a','consensus_acc']].plot(kind='line',x='num_a',y='consensus_acc',color='pink')"
   ]
  },
  {
   "cell_type": "code",
   "execution_count": 228,
   "id": "285ad229",
   "metadata": {},
   "outputs": [],
   "source": [
    "# make prec/recall plot for conensus_labels correct/not correct for each example given preds from model are now our scores\n",
    "# high level: when few annotators. unreliable"
   ]
  },
  {
   "cell_type": "markdown",
   "id": "cebea05a",
   "metadata": {},
   "source": [
    "### Try random dropout of random number of examples\n",
    "- randomly flip some 1 bits in annotator mask per row\n",
    "- apply annotator mask to labels (nan where it is 0) and\n",
    "- labels_error_mask (false where it is 0)\n",
    "- calculate new pred_probs multiannotator"
   ]
  },
  {
   "cell_type": "code",
   "execution_count": 229,
   "id": "7fab7576",
   "metadata": {},
   "outputs": [],
   "source": [
    "# labels- all annotator labels np.full([height, width, 9], np.nan)\n",
    "# labels_error_mask- mask of annotator errors\n",
    "# annotator_mask- mask of what each person annotated\n",
    "\n",
    "def get_sample_labels(x_sample, y_sample, labels, labels_error_mask, annotator_mask):\n",
    "    s_annotator_mask = annotator_mask.copy()\n",
    "    s_annotator_mask[(x_sample,y_sample)] = 0\n",
    "    s_labels_error_mask = s_annotator_mask & labels_error_mask\n",
    "    s_labels = labels.copy()\n",
    "    np.copyto(s_labels, np.nan, where=s_annotator_mask)\n",
    "    print('Total idxs dropped: ', annotator_mask.sum() - s_annotator_mask.sum())\n",
    "    return s_labels, s_labels_error_mask, s_annotator_mask"
   ]
  },
  {
   "cell_type": "markdown",
   "id": "329cb01a",
   "metadata": {},
   "source": [
    "**randomly drop x percent of all labels**"
   ]
  },
  {
   "cell_type": "code",
   "execution_count": 230,
   "id": "9bba96f2",
   "metadata": {},
   "outputs": [
    {
     "name": "stdout",
     "output_type": "stream",
     "text": [
      "Total idxs dropped:  205680\n"
     ]
    }
   ],
   "source": [
    "# randomly drop x percent of all labels\n",
    "percent_dropped = 0.4\n",
    "\n",
    "x,y = np.where(hannotator_mask == 1)\n",
    "drop_idx = np.random.choice(np.arange(len(x)), int(len(x)*percent_dropped), replace=False)\n",
    "x_sample = x[drop_idx]\n",
    "y_sample = y[drop_idx]\n",
    "s_labels, s_labels_error_mask, s_annotator_mask = get_sample_labels(x_sample, y_sample, hlabels, hlabels_error_mask, hannotator_mask)"
   ]
  },
  {
   "cell_type": "code",
   "execution_count": 231,
   "id": "f4c5a27c",
   "metadata": {},
   "outputs": [
    {
     "data": {
      "image/png": "[encoded data removed]",
      "text/plain": [
       "<Figure size 1080x720 with 1 Axes>"
      ]
     },
     "metadata": {
      "needs_background": "light"
     },
     "output_type": "display_data"
    },
    {
     "data": {
      "text/html": [
       "<div>\n",
       "<style scoped>\n",
       "    .dataframe tbody tr th:only-of-type {\n",
       "        vertical-align: middle;\n",
       "    }\n",
       "\n",
       "    .dataframe tbody tr th {\n",
       "        vertical-align: top;\n",
       "    }\n",
       "\n",
       "    .dataframe thead th {\n",
       "        text-align: right;\n",
       "    }\n",
       "</style>\n",
       "<table border=\"1\" class=\"dataframe\">\n",
       "  <thead>\n",
       "    <tr style=\"text-align: right;\">\n",
       "      <th></th>\n",
       "      <th>score</th>\n",
       "    </tr>\n",
       "  </thead>\n",
       "  <tbody>\n",
       "    <tr>\n",
       "      <th>count</th>\n",
       "      <td>2571.000000</td>\n",
       "    </tr>\n",
       "    <tr>\n",
       "      <th>mean</th>\n",
       "      <td>0.949137</td>\n",
       "    </tr>\n",
       "    <tr>\n",
       "      <th>std</th>\n",
       "      <td>0.058495</td>\n",
       "    </tr>\n",
       "    <tr>\n",
       "      <th>min</th>\n",
       "      <td>0.065041</td>\n",
       "    </tr>\n",
       "    <tr>\n",
       "      <th>25%</th>\n",
       "      <td>0.939655</td>\n",
       "    </tr>\n",
       "    <tr>\n",
       "      <th>50%</th>\n",
       "      <td>0.958333</td>\n",
       "    </tr>\n",
       "    <tr>\n",
       "      <th>75%</th>\n",
       "      <td>0.974138</td>\n",
       "    </tr>\n",
       "    <tr>\n",
       "      <th>max</th>\n",
       "      <td>1.000000</td>\n",
       "    </tr>\n",
       "  </tbody>\n",
       "</table>\n",
       "</div>"
      ],
      "text/plain": [
       "             score\n",
       "count  2571.000000\n",
       "mean      0.949137\n",
       "std       0.058495\n",
       "min       0.065041\n",
       "25%       0.939655\n",
       "50%       0.958333\n",
       "75%       0.974138\n",
       "max       1.000000"
      ]
     },
     "execution_count": 231,
     "metadata": {},
     "output_type": "execute_result"
    }
   ],
   "source": [
    "df_describe = plt_annotator_accuracy(s_labels_error_mask, s_annotator_mask)\n",
    "df_describe.describe()"
   ]
  },
  {
   "cell_type": "code",
   "execution_count": 232,
   "id": "411181a5",
   "metadata": {},
   "outputs": [
    {
     "data": {
      "text/html": [
       "<div>\n",
       "<style scoped>\n",
       "    .dataframe tbody tr th:only-of-type {\n",
       "        vertical-align: middle;\n",
       "    }\n",
       "\n",
       "    .dataframe tbody tr th {\n",
       "        vertical-align: top;\n",
       "    }\n",
       "\n",
       "    .dataframe thead th {\n",
       "        text-align: right;\n",
       "    }\n",
       "</style>\n",
       "<table border=\"1\" class=\"dataframe\">\n",
       "  <thead>\n",
       "    <tr style=\"text-align: right;\">\n",
       "      <th></th>\n",
       "      <th>num_a</th>\n",
       "      <th>consense</th>\n",
       "      <th>total_seen</th>\n",
       "      <th>consensus_acc</th>\n",
       "    </tr>\n",
       "  </thead>\n",
       "  <tbody>\n",
       "    <tr>\n",
       "      <th>0</th>\n",
       "      <td>18</td>\n",
       "      <td>3</td>\n",
       "      <td>3</td>\n",
       "      <td>1.000000</td>\n",
       "    </tr>\n",
       "    <tr>\n",
       "      <th>1</th>\n",
       "      <td>19</td>\n",
       "      <td>9</td>\n",
       "      <td>9</td>\n",
       "      <td>1.000000</td>\n",
       "    </tr>\n",
       "    <tr>\n",
       "      <th>2</th>\n",
       "      <td>20</td>\n",
       "      <td>16</td>\n",
       "      <td>16</td>\n",
       "      <td>1.000000</td>\n",
       "    </tr>\n",
       "    <tr>\n",
       "      <th>3</th>\n",
       "      <td>21</td>\n",
       "      <td>22</td>\n",
       "      <td>22</td>\n",
       "      <td>1.000000</td>\n",
       "    </tr>\n",
       "    <tr>\n",
       "      <th>4</th>\n",
       "      <td>22</td>\n",
       "      <td>49</td>\n",
       "      <td>50</td>\n",
       "      <td>0.980000</td>\n",
       "    </tr>\n",
       "    <tr>\n",
       "      <th>5</th>\n",
       "      <td>23</td>\n",
       "      <td>103</td>\n",
       "      <td>104</td>\n",
       "      <td>0.990385</td>\n",
       "    </tr>\n",
       "    <tr>\n",
       "      <th>6</th>\n",
       "      <td>24</td>\n",
       "      <td>206</td>\n",
       "      <td>209</td>\n",
       "      <td>0.985646</td>\n",
       "    </tr>\n",
       "    <tr>\n",
       "      <th>7</th>\n",
       "      <td>25</td>\n",
       "      <td>281</td>\n",
       "      <td>285</td>\n",
       "      <td>0.985965</td>\n",
       "    </tr>\n",
       "    <tr>\n",
       "      <th>8</th>\n",
       "      <td>26</td>\n",
       "      <td>471</td>\n",
       "      <td>474</td>\n",
       "      <td>0.993671</td>\n",
       "    </tr>\n",
       "    <tr>\n",
       "      <th>9</th>\n",
       "      <td>27</td>\n",
       "      <td>610</td>\n",
       "      <td>615</td>\n",
       "      <td>0.991870</td>\n",
       "    </tr>\n",
       "    <tr>\n",
       "      <th>10</th>\n",
       "      <td>28</td>\n",
       "      <td>781</td>\n",
       "      <td>789</td>\n",
       "      <td>0.989861</td>\n",
       "    </tr>\n",
       "    <tr>\n",
       "      <th>11</th>\n",
       "      <td>29</td>\n",
       "      <td>933</td>\n",
       "      <td>938</td>\n",
       "      <td>0.994670</td>\n",
       "    </tr>\n",
       "    <tr>\n",
       "      <th>12</th>\n",
       "      <td>30</td>\n",
       "      <td>1061</td>\n",
       "      <td>1068</td>\n",
       "      <td>0.993446</td>\n",
       "    </tr>\n",
       "    <tr>\n",
       "      <th>13</th>\n",
       "      <td>31</td>\n",
       "      <td>1079</td>\n",
       "      <td>1087</td>\n",
       "      <td>0.992640</td>\n",
       "    </tr>\n",
       "    <tr>\n",
       "      <th>14</th>\n",
       "      <td>32</td>\n",
       "      <td>1062</td>\n",
       "      <td>1073</td>\n",
       "      <td>0.989748</td>\n",
       "    </tr>\n",
       "    <tr>\n",
       "      <th>15</th>\n",
       "      <td>33</td>\n",
       "      <td>928</td>\n",
       "      <td>939</td>\n",
       "      <td>0.988285</td>\n",
       "    </tr>\n",
       "    <tr>\n",
       "      <th>16</th>\n",
       "      <td>34</td>\n",
       "      <td>724</td>\n",
       "      <td>733</td>\n",
       "      <td>0.987722</td>\n",
       "    </tr>\n",
       "    <tr>\n",
       "      <th>17</th>\n",
       "      <td>35</td>\n",
       "      <td>604</td>\n",
       "      <td>612</td>\n",
       "      <td>0.986928</td>\n",
       "    </tr>\n",
       "    <tr>\n",
       "      <th>18</th>\n",
       "      <td>36</td>\n",
       "      <td>405</td>\n",
       "      <td>407</td>\n",
       "      <td>0.995086</td>\n",
       "    </tr>\n",
       "    <tr>\n",
       "      <th>19</th>\n",
       "      <td>37</td>\n",
       "      <td>266</td>\n",
       "      <td>267</td>\n",
       "      <td>0.996255</td>\n",
       "    </tr>\n",
       "    <tr>\n",
       "      <th>20</th>\n",
       "      <td>38</td>\n",
       "      <td>141</td>\n",
       "      <td>143</td>\n",
       "      <td>0.986014</td>\n",
       "    </tr>\n",
       "    <tr>\n",
       "      <th>21</th>\n",
       "      <td>39</td>\n",
       "      <td>74</td>\n",
       "      <td>74</td>\n",
       "      <td>1.000000</td>\n",
       "    </tr>\n",
       "    <tr>\n",
       "      <th>22</th>\n",
       "      <td>40</td>\n",
       "      <td>39</td>\n",
       "      <td>41</td>\n",
       "      <td>0.951220</td>\n",
       "    </tr>\n",
       "    <tr>\n",
       "      <th>23</th>\n",
       "      <td>41</td>\n",
       "      <td>24</td>\n",
       "      <td>24</td>\n",
       "      <td>1.000000</td>\n",
       "    </tr>\n",
       "    <tr>\n",
       "      <th>24</th>\n",
       "      <td>42</td>\n",
       "      <td>9</td>\n",
       "      <td>9</td>\n",
       "      <td>1.000000</td>\n",
       "    </tr>\n",
       "    <tr>\n",
       "      <th>25</th>\n",
       "      <td>43</td>\n",
       "      <td>3</td>\n",
       "      <td>3</td>\n",
       "      <td>1.000000</td>\n",
       "    </tr>\n",
       "    <tr>\n",
       "      <th>26</th>\n",
       "      <td>44</td>\n",
       "      <td>4</td>\n",
       "      <td>4</td>\n",
       "      <td>1.000000</td>\n",
       "    </tr>\n",
       "    <tr>\n",
       "      <th>27</th>\n",
       "      <td>47</td>\n",
       "      <td>1</td>\n",
       "      <td>1</td>\n",
       "      <td>1.000000</td>\n",
       "    </tr>\n",
       "    <tr>\n",
       "      <th>28</th>\n",
       "      <td>50</td>\n",
       "      <td>1</td>\n",
       "      <td>1</td>\n",
       "      <td>1.000000</td>\n",
       "    </tr>\n",
       "  </tbody>\n",
       "</table>\n",
       "</div>"
      ],
      "text/plain": [
       "    num_a  consense  total_seen  consensus_acc\n",
       "0      18         3           3       1.000000\n",
       "1      19         9           9       1.000000\n",
       "2      20        16          16       1.000000\n",
       "3      21        22          22       1.000000\n",
       "4      22        49          50       0.980000\n",
       "5      23       103         104       0.990385\n",
       "6      24       206         209       0.985646\n",
       "7      25       281         285       0.985965\n",
       "8      26       471         474       0.993671\n",
       "9      27       610         615       0.991870\n",
       "10     28       781         789       0.989861\n",
       "11     29       933         938       0.994670\n",
       "12     30      1061        1068       0.993446\n",
       "13     31      1079        1087       0.992640\n",
       "14     32      1062        1073       0.989748\n",
       "15     33       928         939       0.988285\n",
       "16     34       724         733       0.987722\n",
       "17     35       604         612       0.986928\n",
       "18     36       405         407       0.995086\n",
       "19     37       266         267       0.996255\n",
       "20     38       141         143       0.986014\n",
       "21     39        74          74       1.000000\n",
       "22     40        39          41       0.951220\n",
       "23     41        24          24       1.000000\n",
       "24     42         9           9       1.000000\n",
       "25     43         3           3       1.000000\n",
       "26     44         4           4       1.000000\n",
       "27     47         1           1       1.000000\n",
       "28     50         1           1       1.000000"
      ]
     },
     "execution_count": 232,
     "metadata": {},
     "output_type": "execute_result"
    }
   ],
   "source": [
    "consensus_accuracy = get_consensus_accuracy_report(s_labels, \n",
    "                              htrue_labels, \n",
    "                              s_annotator_mask, \n",
    "                              pred_probs_multiannotator)\n",
    "consensus_accuracy"
   ]
  },
  {
   "cell_type": "code",
   "execution_count": 233,
   "id": "68954e5a",
   "metadata": {},
   "outputs": [
    {
     "data": {
      "text/plain": [
       "<AxesSubplot:xlabel='num_a'>"
      ]
     },
     "execution_count": 233,
     "metadata": {},
     "output_type": "execute_result"
    },
    {
     "data": {
      "image/png": "[encoded data removed]",
      "text/plain": [
       "<Figure size 1080x720 with 1 Axes>"
      ]
     },
     "metadata": {
      "needs_background": "light"
     },
     "output_type": "display_data"
    }
   ],
   "source": [
    "consensus_accuracy[['num_a','consensus_acc']].plot(kind='line',x='num_a',y='consensus_acc',color='pink')\n",
    "# x axis can be lower bound on consensus labels (i.e. how many annotators agreed)"
   ]
  },
  {
   "cell_type": "code",
   "execution_count": 234,
   "id": "78236f65",
   "metadata": {},
   "outputs": [
    {
     "data": {
      "text/html": [
       "<div>\n",
       "<style scoped>\n",
       "    .dataframe tbody tr th:only-of-type {\n",
       "        vertical-align: middle;\n",
       "    }\n",
       "\n",
       "    .dataframe tbody tr th {\n",
       "        vertical-align: top;\n",
       "    }\n",
       "\n",
       "    .dataframe thead th {\n",
       "        text-align: right;\n",
       "    }\n",
       "</style>\n",
       "<table border=\"1\" class=\"dataframe\">\n",
       "  <thead>\n",
       "    <tr style=\"text-align: right;\">\n",
       "      <th></th>\n",
       "      <th>bin_consense</th>\n",
       "      <th>annotator_agreement</th>\n",
       "    </tr>\n",
       "  </thead>\n",
       "  <tbody>\n",
       "    <tr>\n",
       "      <th>0</th>\n",
       "      <td>0</td>\n",
       "      <td>1137</td>\n",
       "    </tr>\n",
       "    <tr>\n",
       "      <th>1</th>\n",
       "      <td>1</td>\n",
       "      <td>194471</td>\n",
       "    </tr>\n",
       "  </tbody>\n",
       "</table>\n",
       "</div>"
      ],
      "text/plain": [
       "   bin_consense  annotator_agreement\n",
       "0             0                 1137\n",
       "1             1               194471"
      ]
     },
     "execution_count": 234,
     "metadata": {},
     "output_type": "execute_result"
    },
    {
     "data": {
      "image/png": "[encoded data removed]",
      "text/plain": [
       "<Figure size 504x504 with 1 Axes>"
      ]
     },
     "metadata": {
      "needs_background": "light"
     },
     "output_type": "display_data"
    }
   ],
   "source": [
    "plot_labels_multiannotator(s_labels, htrue_labels)"
   ]
  },
  {
   "cell_type": "markdown",
   "id": "60400057",
   "metadata": {},
   "source": [
    "**Drop x rows per every annotator**"
   ]
  },
  {
   "cell_type": "code",
   "execution_count": 235,
   "id": "7e56a1e8",
   "metadata": {},
   "outputs": [
    {
     "name": "stdout",
     "output_type": "stream",
     "text": [
      "rows dropped:  80\n",
      "Total idxs dropped:  205680\n"
     ]
    }
   ],
   "source": [
    "percent_dropped = 0.4\n",
    "rows_dropped = int(200 * percent_dropped)\n",
    "print('rows dropped: ', rows_dropped)\n",
    "\n",
    "x,y = np.where(hannotator_mask == 1)\n",
    "df_delete = pd.DataFrame(zip(x,y),columns=['x','y'])\n",
    "df_keep = df_delete.drop(df_delete.groupby('y').sample(n=200 - rows_dropped).index)\n",
    "x_sample,y_sample = df_keep['x'].values, df_keep['y'].values\n",
    "s_labels, s_labels_error_mask, s_annotator_mask = get_sample_labels(x_sample, y_sample, hlabels, hlabels_error_mask, hannotator_mask)"
   ]
  },
  {
   "cell_type": "code",
   "execution_count": 236,
   "id": "f694a5d7",
   "metadata": {},
   "outputs": [
    {
     "data": {
      "image/png": "[encoded data removed]",
      "text/plain": [
       "<Figure size 1080x720 with 1 Axes>"
      ]
     },
     "metadata": {
      "needs_background": "light"
     },
     "output_type": "display_data"
    },
    {
     "data": {
      "text/html": [
       "<div>\n",
       "<style scoped>\n",
       "    .dataframe tbody tr th:only-of-type {\n",
       "        vertical-align: middle;\n",
       "    }\n",
       "\n",
       "    .dataframe tbody tr th {\n",
       "        vertical-align: top;\n",
       "    }\n",
       "\n",
       "    .dataframe thead th {\n",
       "        text-align: right;\n",
       "    }\n",
       "</style>\n",
       "<table border=\"1\" class=\"dataframe\">\n",
       "  <thead>\n",
       "    <tr style=\"text-align: right;\">\n",
       "      <th></th>\n",
       "      <th>score</th>\n",
       "    </tr>\n",
       "  </thead>\n",
       "  <tbody>\n",
       "    <tr>\n",
       "      <th>count</th>\n",
       "      <td>2571.000000</td>\n",
       "    </tr>\n",
       "    <tr>\n",
       "      <th>mean</th>\n",
       "      <td>0.948726</td>\n",
       "    </tr>\n",
       "    <tr>\n",
       "      <th>std</th>\n",
       "      <td>0.058881</td>\n",
       "    </tr>\n",
       "    <tr>\n",
       "      <th>min</th>\n",
       "      <td>0.075000</td>\n",
       "    </tr>\n",
       "    <tr>\n",
       "      <th>25%</th>\n",
       "      <td>0.941667</td>\n",
       "    </tr>\n",
       "    <tr>\n",
       "      <th>50%</th>\n",
       "      <td>0.958333</td>\n",
       "    </tr>\n",
       "    <tr>\n",
       "      <th>75%</th>\n",
       "      <td>0.975000</td>\n",
       "    </tr>\n",
       "    <tr>\n",
       "      <th>max</th>\n",
       "      <td>1.000000</td>\n",
       "    </tr>\n",
       "  </tbody>\n",
       "</table>\n",
       "</div>"
      ],
      "text/plain": [
       "             score\n",
       "count  2571.000000\n",
       "mean      0.948726\n",
       "std       0.058881\n",
       "min       0.075000\n",
       "25%       0.941667\n",
       "50%       0.958333\n",
       "75%       0.975000\n",
       "max       1.000000"
      ]
     },
     "execution_count": 236,
     "metadata": {},
     "output_type": "execute_result"
    }
   ],
   "source": [
    "df_describe = plt_annotator_accuracy(s_labels_error_mask, s_annotator_mask)\n",
    "df_describe.describe()"
   ]
  },
  {
   "cell_type": "code",
   "execution_count": 237,
   "id": "45f5184f",
   "metadata": {},
   "outputs": [
    {
     "data": {
      "text/html": [
       "<div>\n",
       "<style scoped>\n",
       "    .dataframe tbody tr th:only-of-type {\n",
       "        vertical-align: middle;\n",
       "    }\n",
       "\n",
       "    .dataframe tbody tr th {\n",
       "        vertical-align: top;\n",
       "    }\n",
       "\n",
       "    .dataframe thead th {\n",
       "        text-align: right;\n",
       "    }\n",
       "</style>\n",
       "<table border=\"1\" class=\"dataframe\">\n",
       "  <thead>\n",
       "    <tr style=\"text-align: right;\">\n",
       "      <th></th>\n",
       "      <th>num_a</th>\n",
       "      <th>consense</th>\n",
       "      <th>total_seen</th>\n",
       "      <th>consensus_acc</th>\n",
       "    </tr>\n",
       "  </thead>\n",
       "  <tbody>\n",
       "    <tr>\n",
       "      <th>0</th>\n",
       "      <td>18</td>\n",
       "      <td>2</td>\n",
       "      <td>2</td>\n",
       "      <td>1.000000</td>\n",
       "    </tr>\n",
       "    <tr>\n",
       "      <th>1</th>\n",
       "      <td>19</td>\n",
       "      <td>5</td>\n",
       "      <td>5</td>\n",
       "      <td>1.000000</td>\n",
       "    </tr>\n",
       "    <tr>\n",
       "      <th>2</th>\n",
       "      <td>20</td>\n",
       "      <td>11</td>\n",
       "      <td>11</td>\n",
       "      <td>1.000000</td>\n",
       "    </tr>\n",
       "    <tr>\n",
       "      <th>3</th>\n",
       "      <td>21</td>\n",
       "      <td>23</td>\n",
       "      <td>23</td>\n",
       "      <td>1.000000</td>\n",
       "    </tr>\n",
       "    <tr>\n",
       "      <th>4</th>\n",
       "      <td>22</td>\n",
       "      <td>50</td>\n",
       "      <td>50</td>\n",
       "      <td>1.000000</td>\n",
       "    </tr>\n",
       "    <tr>\n",
       "      <th>5</th>\n",
       "      <td>23</td>\n",
       "      <td>117</td>\n",
       "      <td>118</td>\n",
       "      <td>0.991525</td>\n",
       "    </tr>\n",
       "    <tr>\n",
       "      <th>6</th>\n",
       "      <td>24</td>\n",
       "      <td>185</td>\n",
       "      <td>187</td>\n",
       "      <td>0.989305</td>\n",
       "    </tr>\n",
       "    <tr>\n",
       "      <th>7</th>\n",
       "      <td>25</td>\n",
       "      <td>309</td>\n",
       "      <td>310</td>\n",
       "      <td>0.996774</td>\n",
       "    </tr>\n",
       "    <tr>\n",
       "      <th>8</th>\n",
       "      <td>26</td>\n",
       "      <td>434</td>\n",
       "      <td>435</td>\n",
       "      <td>0.997701</td>\n",
       "    </tr>\n",
       "    <tr>\n",
       "      <th>9</th>\n",
       "      <td>27</td>\n",
       "      <td>625</td>\n",
       "      <td>631</td>\n",
       "      <td>0.990491</td>\n",
       "    </tr>\n",
       "    <tr>\n",
       "      <th>10</th>\n",
       "      <td>28</td>\n",
       "      <td>836</td>\n",
       "      <td>841</td>\n",
       "      <td>0.994055</td>\n",
       "    </tr>\n",
       "    <tr>\n",
       "      <th>11</th>\n",
       "      <td>29</td>\n",
       "      <td>916</td>\n",
       "      <td>927</td>\n",
       "      <td>0.988134</td>\n",
       "    </tr>\n",
       "    <tr>\n",
       "      <th>12</th>\n",
       "      <td>30</td>\n",
       "      <td>1074</td>\n",
       "      <td>1083</td>\n",
       "      <td>0.991690</td>\n",
       "    </tr>\n",
       "    <tr>\n",
       "      <th>13</th>\n",
       "      <td>31</td>\n",
       "      <td>1061</td>\n",
       "      <td>1073</td>\n",
       "      <td>0.988816</td>\n",
       "    </tr>\n",
       "    <tr>\n",
       "      <th>14</th>\n",
       "      <td>32</td>\n",
       "      <td>1017</td>\n",
       "      <td>1024</td>\n",
       "      <td>0.993164</td>\n",
       "    </tr>\n",
       "    <tr>\n",
       "      <th>15</th>\n",
       "      <td>33</td>\n",
       "      <td>960</td>\n",
       "      <td>973</td>\n",
       "      <td>0.986639</td>\n",
       "    </tr>\n",
       "    <tr>\n",
       "      <th>16</th>\n",
       "      <td>34</td>\n",
       "      <td>767</td>\n",
       "      <td>772</td>\n",
       "      <td>0.993523</td>\n",
       "    </tr>\n",
       "    <tr>\n",
       "      <th>17</th>\n",
       "      <td>35</td>\n",
       "      <td>547</td>\n",
       "      <td>552</td>\n",
       "      <td>0.990942</td>\n",
       "    </tr>\n",
       "    <tr>\n",
       "      <th>18</th>\n",
       "      <td>36</td>\n",
       "      <td>378</td>\n",
       "      <td>383</td>\n",
       "      <td>0.986945</td>\n",
       "    </tr>\n",
       "    <tr>\n",
       "      <th>19</th>\n",
       "      <td>37</td>\n",
       "      <td>268</td>\n",
       "      <td>272</td>\n",
       "      <td>0.985294</td>\n",
       "    </tr>\n",
       "    <tr>\n",
       "      <th>20</th>\n",
       "      <td>38</td>\n",
       "      <td>167</td>\n",
       "      <td>168</td>\n",
       "      <td>0.994048</td>\n",
       "    </tr>\n",
       "    <tr>\n",
       "      <th>21</th>\n",
       "      <td>39</td>\n",
       "      <td>73</td>\n",
       "      <td>74</td>\n",
       "      <td>0.986486</td>\n",
       "    </tr>\n",
       "    <tr>\n",
       "      <th>22</th>\n",
       "      <td>40</td>\n",
       "      <td>39</td>\n",
       "      <td>40</td>\n",
       "      <td>0.975000</td>\n",
       "    </tr>\n",
       "    <tr>\n",
       "      <th>23</th>\n",
       "      <td>41</td>\n",
       "      <td>20</td>\n",
       "      <td>20</td>\n",
       "      <td>1.000000</td>\n",
       "    </tr>\n",
       "    <tr>\n",
       "      <th>24</th>\n",
       "      <td>42</td>\n",
       "      <td>13</td>\n",
       "      <td>13</td>\n",
       "      <td>1.000000</td>\n",
       "    </tr>\n",
       "    <tr>\n",
       "      <th>25</th>\n",
       "      <td>43</td>\n",
       "      <td>8</td>\n",
       "      <td>8</td>\n",
       "      <td>1.000000</td>\n",
       "    </tr>\n",
       "    <tr>\n",
       "      <th>26</th>\n",
       "      <td>44</td>\n",
       "      <td>2</td>\n",
       "      <td>2</td>\n",
       "      <td>1.000000</td>\n",
       "    </tr>\n",
       "    <tr>\n",
       "      <th>27</th>\n",
       "      <td>45</td>\n",
       "      <td>2</td>\n",
       "      <td>2</td>\n",
       "      <td>1.000000</td>\n",
       "    </tr>\n",
       "    <tr>\n",
       "      <th>28</th>\n",
       "      <td>48</td>\n",
       "      <td>1</td>\n",
       "      <td>1</td>\n",
       "      <td>1.000000</td>\n",
       "    </tr>\n",
       "  </tbody>\n",
       "</table>\n",
       "</div>"
      ],
      "text/plain": [
       "    num_a  consense  total_seen  consensus_acc\n",
       "0      18         2           2       1.000000\n",
       "1      19         5           5       1.000000\n",
       "2      20        11          11       1.000000\n",
       "3      21        23          23       1.000000\n",
       "4      22        50          50       1.000000\n",
       "5      23       117         118       0.991525\n",
       "6      24       185         187       0.989305\n",
       "7      25       309         310       0.996774\n",
       "8      26       434         435       0.997701\n",
       "9      27       625         631       0.990491\n",
       "10     28       836         841       0.994055\n",
       "11     29       916         927       0.988134\n",
       "12     30      1074        1083       0.991690\n",
       "13     31      1061        1073       0.988816\n",
       "14     32      1017        1024       0.993164\n",
       "15     33       960         973       0.986639\n",
       "16     34       767         772       0.993523\n",
       "17     35       547         552       0.990942\n",
       "18     36       378         383       0.986945\n",
       "19     37       268         272       0.985294\n",
       "20     38       167         168       0.994048\n",
       "21     39        73          74       0.986486\n",
       "22     40        39          40       0.975000\n",
       "23     41        20          20       1.000000\n",
       "24     42        13          13       1.000000\n",
       "25     43         8           8       1.000000\n",
       "26     44         2           2       1.000000\n",
       "27     45         2           2       1.000000\n",
       "28     48         1           1       1.000000"
      ]
     },
     "execution_count": 237,
     "metadata": {},
     "output_type": "execute_result"
    }
   ],
   "source": [
    "consensus_accuracy = get_consensus_accuracy_report(s_labels, \n",
    "                              htrue_labels, \n",
    "                              s_annotator_mask, \n",
    "                              pred_probs_multiannotator)\n",
    "consensus_accuracy"
   ]
  },
  {
   "cell_type": "code",
   "execution_count": 238,
   "id": "ab8ec817",
   "metadata": {},
   "outputs": [
    {
     "data": {
      "text/plain": [
       "<AxesSubplot:xlabel='num_a'>"
      ]
     },
     "execution_count": 238,
     "metadata": {},
     "output_type": "execute_result"
    },
    {
     "data": {
      "image/png": "[encoded data removed]",
      "text/plain": [
       "<Figure size 1080x720 with 1 Axes>"
      ]
     },
     "metadata": {
      "needs_background": "light"
     },
     "output_type": "display_data"
    }
   ],
   "source": [
    "consensus_accuracy[['num_a','consensus_acc']].plot(kind='line',x='num_a',y='consensus_acc',color='pink')"
   ]
  },
  {
   "cell_type": "code",
   "execution_count": 239,
   "id": "16c3ea24",
   "metadata": {},
   "outputs": [
    {
     "data": {
      "text/html": [
       "<div>\n",
       "<style scoped>\n",
       "    .dataframe tbody tr th:only-of-type {\n",
       "        vertical-align: middle;\n",
       "    }\n",
       "\n",
       "    .dataframe tbody tr th {\n",
       "        vertical-align: top;\n",
       "    }\n",
       "\n",
       "    .dataframe thead th {\n",
       "        text-align: right;\n",
       "    }\n",
       "</style>\n",
       "<table border=\"1\" class=\"dataframe\">\n",
       "  <thead>\n",
       "    <tr style=\"text-align: right;\">\n",
       "      <th></th>\n",
       "      <th>bin_consense</th>\n",
       "      <th>annotator_agreement</th>\n",
       "    </tr>\n",
       "  </thead>\n",
       "  <tbody>\n",
       "    <tr>\n",
       "      <th>0</th>\n",
       "      <td>0</td>\n",
       "      <td>1075</td>\n",
       "    </tr>\n",
       "    <tr>\n",
       "      <th>1</th>\n",
       "      <td>1</td>\n",
       "      <td>194559</td>\n",
       "    </tr>\n",
       "  </tbody>\n",
       "</table>\n",
       "</div>"
      ],
      "text/plain": [
       "   bin_consense  annotator_agreement\n",
       "0             0                 1075\n",
       "1             1               194559"
      ]
     },
     "execution_count": 239,
     "metadata": {},
     "output_type": "execute_result"
    },
    {
     "data": {
      "image/png": "[encoded data removed]",
      "text/plain": [
       "<Figure size 504x504 with 1 Axes>"
      ]
     },
     "metadata": {
      "needs_background": "light"
     },
     "output_type": "display_data"
    }
   ],
   "source": [
    "plot_labels_multiannotator(s_labels, htrue_labels)"
   ]
  },
  {
   "cell_type": "markdown",
   "id": "160cbe52",
   "metadata": {},
   "source": [
    "**Drop x values for every row**"
   ]
  },
  {
   "cell_type": "code",
   "execution_count": 240,
   "id": "963b457c",
   "metadata": {},
   "outputs": [
    {
     "name": "stdout",
     "output_type": "stream",
     "text": [
      "vals dropped:  20\n",
      "Total idxs dropped:  214200\n"
     ]
    }
   ],
   "source": [
    "# rows have min 50 values\n",
    "percent_dropped = 0.4\n",
    "vals_dropped = int(50 * percent_dropped)\n",
    "print('vals dropped: ', vals_dropped)\n",
    "\n",
    "x,y = np.where(hannotator_mask == 1)\n",
    "df_delete = pd.DataFrame(zip(x,y),columns=['x','y'])\n",
    "df_keep = df_delete.drop(df_delete.groupby('x').sample(n=50 - vals_dropped).index)\n",
    "x_sample,y_sample = df_keep['x'].values, df_keep['y'].values\n",
    "s_labels, s_labels_error_mask, s_annotator_mask = get_sample_labels(x_sample, y_sample, hlabels, hlabels_error_mask, hannotator_mask)"
   ]
  },
  {
   "cell_type": "code",
   "execution_count": 241,
   "id": "d8711b17",
   "metadata": {},
   "outputs": [
    {
     "data": {
      "text/html": [
       "<div>\n",
       "<style scoped>\n",
       "    .dataframe tbody tr th:only-of-type {\n",
       "        vertical-align: middle;\n",
       "    }\n",
       "\n",
       "    .dataframe tbody tr th {\n",
       "        vertical-align: top;\n",
       "    }\n",
       "\n",
       "    .dataframe thead th {\n",
       "        text-align: right;\n",
       "    }\n",
       "</style>\n",
       "<table border=\"1\" class=\"dataframe\">\n",
       "  <thead>\n",
       "    <tr style=\"text-align: right;\">\n",
       "      <th></th>\n",
       "      <th>num_a</th>\n",
       "      <th>consense</th>\n",
       "      <th>total_seen</th>\n",
       "      <th>consensus_acc</th>\n",
       "    </tr>\n",
       "  </thead>\n",
       "  <tbody>\n",
       "    <tr>\n",
       "      <th>0</th>\n",
       "      <td>30</td>\n",
       "      <td>9910</td>\n",
       "      <td>10000</td>\n",
       "      <td>0.991</td>\n",
       "    </tr>\n",
       "  </tbody>\n",
       "</table>\n",
       "</div>"
      ],
      "text/plain": [
       "   num_a  consense  total_seen  consensus_acc\n",
       "0     30      9910       10000          0.991"
      ]
     },
     "execution_count": 241,
     "metadata": {},
     "output_type": "execute_result"
    }
   ],
   "source": [
    "consensus_accuracy = get_consensus_accuracy_report(s_labels, \n",
    "                              htrue_labels, \n",
    "                              s_annotator_mask, \n",
    "                              pred_probs_multiannotator)\n",
    "consensus_accuracy"
   ]
  },
  {
   "cell_type": "code",
   "execution_count": 242,
   "id": "b5cb82de",
   "metadata": {},
   "outputs": [
    {
     "data": {
      "text/html": [
       "<div>\n",
       "<style scoped>\n",
       "    .dataframe tbody tr th:only-of-type {\n",
       "        vertical-align: middle;\n",
       "    }\n",
       "\n",
       "    .dataframe tbody tr th {\n",
       "        vertical-align: top;\n",
       "    }\n",
       "\n",
       "    .dataframe thead th {\n",
       "        text-align: right;\n",
       "    }\n",
       "</style>\n",
       "<table border=\"1\" class=\"dataframe\">\n",
       "  <thead>\n",
       "    <tr style=\"text-align: right;\">\n",
       "      <th></th>\n",
       "      <th>bin_consense</th>\n",
       "      <th>annotator_agreement</th>\n",
       "    </tr>\n",
       "  </thead>\n",
       "  <tbody>\n",
       "    <tr>\n",
       "      <th>0</th>\n",
       "      <td>0</td>\n",
       "      <td>1138</td>\n",
       "    </tr>\n",
       "    <tr>\n",
       "      <th>1</th>\n",
       "      <td>1</td>\n",
       "      <td>202498</td>\n",
       "    </tr>\n",
       "  </tbody>\n",
       "</table>\n",
       "</div>"
      ],
      "text/plain": [
       "   bin_consense  annotator_agreement\n",
       "0             0                 1138\n",
       "1             1               202498"
      ]
     },
     "execution_count": 242,
     "metadata": {},
     "output_type": "execute_result"
    },
    {
     "data": {
      "image/png": "[encoded data removed]",
      "text/plain": [
       "<Figure size 504x504 with 1 Axes>"
      ]
     },
     "metadata": {
      "needs_background": "light"
     },
     "output_type": "display_data"
    }
   ],
   "source": [
    "plot_labels_multiannotator(s_labels, htrue_labels)"
   ]
  },
  {
   "cell_type": "markdown",
   "id": "0e059999",
   "metadata": {},
   "source": [
    "### Load models and data"
   ]
  },
  {
   "cell_type": "code",
   "execution_count": 243,
   "id": "cf25dd1f",
   "metadata": {},
   "outputs": [],
   "source": [
    "# dictionaries to map to display name\n",
    "method_adjust_pred_probs_display_dict = {\n",
    "    \"self_confidence-False\": \"Self Confidence\",\n",
    "    \"self_confidence-True\": \"Adjusted Self Confidence\",\n",
    "    \"normalized_margin-False\": \"Normalized Margin\",\n",
    "    \"normalized_margin-True\": \"Adjusted Normalized Margin\",\n",
    "    \"confidence_weighted_entropy-False\": \"Confidence Weighted Entropy\",\n",
    "    \"entropy-False\": \"Entropy\",\n",
    "    \"least_confidence-False\": \"Least Confidence\",\n",
    "}\n",
    "\n",
    "model_display_name_dict = {\"resnet18\": \"ResNet-18\",}\n",
    "\n",
    "models = [\"resnet18\"] # can also be: \"resnet50d\", \"efficientnet_b1\", \"twins_pcpvt_base\", \"swin_base_patch4_window7_224\"\n",
    "\n",
    "# args to pass to get_label_quality_scores()\n",
    "score_params = \\\n",
    "[\n",
    "    (\"self_confidence\", False),\n",
    "    (\"self_confidence\", True),\n",
    "    (\"normalized_margin\", False),\n",
    "    (\"normalized_margin\", True),\n",
    "    (\"confidence_weighted_entropy\", False)\n",
    "]"
   ]
  },
  {
   "cell_type": "code",
   "execution_count": 262,
   "id": "e41d5bf2",
   "metadata": {},
   "outputs": [],
   "source": [
    "# read numpy files from model_train_pred\n",
    "numpy_out_folder = './data/model_data_070622/'\n",
    "pred_probs = np.load(numpy_out_folder + \"test_pred_probs.npy\")\n",
    "pred_labels = np.load(numpy_out_folder + \"test_preds.npy\")\n",
    "true_labels = np.load(numpy_out_folder + \"test_labels.npy\")\n",
    "images = np.load(numpy_out_folder + \"test_images.npy\", allow_pickle=True)\n",
    "idxs = [int(image.split('/')[-1][-8:-4]) for image in images]\n",
    "\n",
    "# boolean mask of label errors\n",
    "labels = pred_labels # labels can change to annotator labels!!\n",
    "label_errors_target = labels != true_labels\n",
    "\n",
    "# set all cifar10h annotator data to the correct indexing\n",
    "htrue_labels = htrue_labels[idxs]\n",
    "htrue_images = htrue_images[idxs]\n",
    "hlabels = hlabels[idxs]\n",
    "hlabels_error_mask = hlabels_error_mask[idxs]\n",
    "hannotator_mask = hannotator_mask[idxs]\n",
    "\n",
    "assert np.array_equal(htrue_labels, true_labels) # check cifar10h sort matches what our model predicted on"
   ]
  },
  {
   "cell_type": "code",
   "execution_count": 263,
   "id": "5a4747fb",
   "metadata": {},
   "outputs": [],
   "source": [
    "# # get all correct indexing from cifar10h annotator data\n",
    "# idxs = [int(image[-10:-4]) for image in htrue_images]\n",
    "\n",
    "# # read numpy files from model_train_pred\n",
    "# numpy_out_folder = './data/model_data_070622/'\n",
    "# pred_probs = np.load(numpy_out_folder + \"test_pred_probs.npy\")\n",
    "# pred_labels = np.load(numpy_out_folder + \"test_preds.npy\")\n",
    "# true_labels = np.load(numpy_out_folder + \"test_labels.npy\")\n",
    "# images = np.load(numpy_out_folder + \"test_images.npy\", allow_pickle=True)\n",
    "\n",
    "# # # set all cifar10 model train data to the correct indexing\n",
    "# # pred_probs[idxs] = pred_probs\n",
    "# # pred_labels[idxs] = pred_labels\n",
    "# # true_labels[idxs] = true_labels\n",
    "# # images[idxs] = images\n",
    "\n",
    "# # boolean mask of label errors\n",
    "# labels = pred_labels # labels can change to annotator labels!!\n",
    "# label_errors_target = labels != true_labels\n",
    "\n",
    "# # assert np.array_equal(htrue_labels, true_labels) # check cifar10h sort matches what our model predicted on"
   ]
  },
  {
   "cell_type": "code",
   "execution_count": 265,
   "id": "836e106a",
   "metadata": {},
   "outputs": [
    {
     "data": {
      "text/plain": [
       "array(['station_wagon_s_001699.png', 'wagon_s_000143.png',\n",
       "       'station_wagon_s_000488.png', 'auto_s_000208.png',\n",
       "       'auto_s_000257.png', 'coupe_s_000412.png',\n",
       "       'convertible_s_000268.png', 'coupe_s_002275.png',\n",
       "       'station_wagon_s_000290.png', 'estate_car_s_001247.png',\n",
       "       'car_s_000864.png', 'convertible_s_000204.png',\n",
       "       'compact_car_s_000416.png', 'station_wagon_s_002362.png',\n",
       "       'shooting_brake_s_000257.png', 'compact_s_002585.png',\n",
       "       'coupe_s_000776.png', 'motorcar_s_001551.png',\n",
       "       'motorcar_s_002479.png', 'shooting_brake_s_000973.png'],\n",
       "      dtype=object)"
      ]
     },
     "execution_count": 265,
     "metadata": {},
     "output_type": "execute_result"
    }
   ],
   "source": [
    "cifar10h_indexing = range(10000)\n",
    "htest_images = htrue_images[:20]"
   ]
  },
  {
   "cell_type": "code",
   "execution_count": 266,
   "id": "41b870ee",
   "metadata": {},
   "outputs": [
    {
     "data": {
      "text/plain": [
       "array(['/datasets/ulyana/multiannotator_benchmarks/data/cifar10/test/automobile/test_batch_index_3549.png',\n",
       "       '/datasets/ulyana/multiannotator_benchmarks/data/cifar10/test/automobile/test_batch_index_8489.png',\n",
       "       '/datasets/ulyana/multiannotator_benchmarks/data/cifar10/test/automobile/test_batch_index_0869.png',\n",
       "       '/datasets/ulyana/multiannotator_benchmarks/data/cifar10/test/automobile/test_batch_index_8536.png',\n",
       "       '/datasets/ulyana/multiannotator_benchmarks/data/cifar10/test/automobile/test_batch_index_7282.png',\n",
       "       '/datasets/ulyana/multiannotator_benchmarks/data/cifar10/test/automobile/test_batch_index_1500.png',\n",
       "       '/datasets/ulyana/multiannotator_benchmarks/data/cifar10/test/automobile/test_batch_index_0105.png',\n",
       "       '/datasets/ulyana/multiannotator_benchmarks/data/cifar10/test/automobile/test_batch_index_3976.png',\n",
       "       '/datasets/ulyana/multiannotator_benchmarks/data/cifar10/test/automobile/test_batch_index_5431.png',\n",
       "       '/datasets/ulyana/multiannotator_benchmarks/data/cifar10/test/automobile/test_batch_index_0987.png',\n",
       "       '/datasets/ulyana/multiannotator_benchmarks/data/cifar10/test/automobile/test_batch_index_4822.png',\n",
       "       '/datasets/ulyana/multiannotator_benchmarks/data/cifar10/test/automobile/test_batch_index_2045.png',\n",
       "       '/datasets/ulyana/multiannotator_benchmarks/data/cifar10/test/automobile/test_batch_index_6984.png',\n",
       "       '/datasets/ulyana/multiannotator_benchmarks/data/cifar10/test/automobile/test_batch_index_3460.png',\n",
       "       '/datasets/ulyana/multiannotator_benchmarks/data/cifar10/test/automobile/test_batch_index_9634.png',\n",
       "       '/datasets/ulyana/multiannotator_benchmarks/data/cifar10/test/automobile/test_batch_index_5483.png',\n",
       "       '/datasets/ulyana/multiannotator_benchmarks/data/cifar10/test/automobile/test_batch_index_3029.png',\n",
       "       '/datasets/ulyana/multiannotator_benchmarks/data/cifar10/test/automobile/test_batch_index_9563.png',\n",
       "       '/datasets/ulyana/multiannotator_benchmarks/data/cifar10/test/automobile/test_batch_index_3988.png',\n",
       "       '/datasets/ulyana/multiannotator_benchmarks/data/cifar10/test/automobile/test_batch_index_0006.png'],\n",
       "      dtype=object)"
      ]
     },
     "execution_count": 266,
     "metadata": {},
     "output_type": "execute_result"
    }
   ],
   "source": [
    "images[:20]"
   ]
  },
  {
   "cell_type": "code",
   "execution_count": 254,
   "id": "0524d314",
   "metadata": {},
   "outputs": [
    {
     "data": {
      "text/plain": [
       "array(['/datasets/ulyana/multiannotator_benchmarks/data/cifar10/test/automobile/test_batch_index_3549.png',\n",
       "       '/datasets/ulyana/multiannotator_benchmarks/data/cifar10/test/airplane/test_batch_index_1735.png',\n",
       "       '/datasets/ulyana/multiannotator_benchmarks/data/cifar10/test/airplane/test_batch_index_2249.png',\n",
       "       '/datasets/ulyana/multiannotator_benchmarks/data/cifar10/test/ship/test_batch_index_4361.png',\n",
       "       '/datasets/ulyana/multiannotator_benchmarks/data/cifar10/test/airplane/test_batch_index_8156.png',\n",
       "       '/datasets/ulyana/multiannotator_benchmarks/data/cifar10/test/airplane/test_batch_index_4763.png',\n",
       "       '/datasets/ulyana/multiannotator_benchmarks/data/cifar10/test/airplane/test_batch_index_2532.png',\n",
       "       '/datasets/ulyana/multiannotator_benchmarks/data/cifar10/test/airplane/test_batch_index_1090.png',\n",
       "       '/datasets/ulyana/multiannotator_benchmarks/data/cifar10/test/airplane/test_batch_index_2461.png',\n",
       "       '/datasets/ulyana/multiannotator_benchmarks/data/cifar10/test/airplane/test_batch_index_5074.png'],\n",
       "      dtype=object)"
      ]
     },
     "execution_count": 254,
     "metadata": {},
     "output_type": "execute_result"
    }
   ],
   "source": [
    "images[:10]"
   ]
  },
  {
   "cell_type": "code",
   "execution_count": 255,
   "id": "249ae44c",
   "metadata": {},
   "outputs": [
    {
     "data": {
      "text/plain": [
       "array(['domestic_cat_s_000907.png', 'hydrofoil_s_000078.png',\n",
       "       'sea_boat_s_001456.png', 'jetliner_s_001705.png',\n",
       "       'green_frog_s_001658.png', 'crapaud_s_002124.png',\n",
       "       'shooting_brake_s_000973.png', 'green_frog_s_000634.png',\n",
       "       'tabby_cat_s_001397.png', 'wagon_s_002806.png'], dtype=object)"
      ]
     },
     "execution_count": 255,
     "metadata": {},
     "output_type": "execute_result"
    }
   ],
   "source": [
    "htrue_images[:10]"
   ]
  },
  {
   "cell_type": "code",
   "execution_count": 256,
   "id": "92ba83a2",
   "metadata": {},
   "outputs": [
    {
     "data": {
      "text/plain": [
       "[907, 78, 1456, 1705, 1658, 2124, 973, 634, 1397, 2806]"
      ]
     },
     "execution_count": 256,
     "metadata": {},
     "output_type": "execute_result"
    }
   ],
   "source": [
    "idxs[:10]"
   ]
  },
  {
   "cell_type": "code",
   "execution_count": null,
   "id": "5fd6ce66",
   "metadata": {},
   "outputs": [],
   "source": []
  },
  {
   "cell_type": "code",
   "execution_count": null,
   "id": "8d9460e7",
   "metadata": {},
   "outputs": [],
   "source": [
    "%%time\n",
    "plt.rcParams[\"figure.figsize\"] = (15, 10)\n",
    "\n",
    "results = []\n",
    "results_list = []\n",
    "precision_recall_curves  = []\n",
    "for score_param in score_params:\n",
    "    method, adjust_pred_probs = score_param\n",
    "    # compute scores\n",
    "    label_quality_scores = get_label_quality_scores(labels=labels, pred_probs=pred_probs, method=method, adjust_pred_probs=adjust_pred_probs)\n",
    "    # compute accuracy of detecting label errors\n",
    "    auroc = roc_auc_score(label_errors_target, 1 - label_quality_scores)\n",
    "    # compute Lift@K evaluation metric\n",
    "    lift_at_k_dict = {}\n",
    "    for k in range(1000, 11000, 1000):\n",
    "        lift_at_k_dict[f\"lift_at_{k}\"] = lift_at_k(label_errors_target, 1 - label_quality_scores, k=k)\n",
    "    # save results\n",
    "    results = {\n",
    "        \"dataset\": \"cifar10\",\n",
    "        \"model\": \"resnet18\",\n",
    "        \"noise_config\": \"Noise Amount: 0.2 | Sparsity: 0.4\",\n",
    "        \"method\": method,\n",
    "        \"adjust_pred_probs\": adjust_pred_probs,\n",
    "        \"auroc\": auroc\n",
    "    }\n",
    "    # add the lift at k metrics\n",
    "    results.update(lift_at_k_dict)\n",
    "    # save results\n",
    "    results_list.append(results)\n",
    "    \n",
    "    # compute precision-recall curve using label quality scores\n",
    "    precision, recall, thresholds = precision_recall_curve(label_errors_target, 1 - label_quality_scores)\n",
    "    \n",
    "    # compute au-roc curve using label quality scores\n",
    "    fpr, tpr, thresholds = roc_curve(label_errors_target,  1 - label_quality_scores)\n",
    "    \n",
    "    precision_recall_curve_results = {\n",
    "        \"method\": method,\n",
    "        \"adjust_pred_probs\": adjust_pred_probs,\n",
    "        \"dataset\": \"cifar10\",\n",
    "        \"model\": \"resnet18\",\n",
    "        \"label_quality_scores\": label_quality_scores,\n",
    "        \"precision\": precision,\n",
    "        \"recall\": recall,\n",
    "        \"thresholds\": thresholds\n",
    "    }\n",
    "\n",
    "#     # store precision-recall curve results\n",
    "#     precision_recall_curves.append(precision_recall_curve_results)\n",
    "    \n",
    "#     # store precision-recall curve results\n",
    "#     auroc_curves.append(precision_recall_curve_results)\n",
    "    \n",
    "    # plot prc\n",
    "    plt.subplot(1, 2, 1)\n",
    "    plt.plot(recall, precision, label=f\"{method}-{str(adjust_pred_probs)}\")\n",
    "    plt.xlabel(\"Recall\", fontsize=14)\n",
    "    plt.ylabel(\"Precision\", fontsize=14)\n",
    "    plt.title(\"Precision-Recall Curve: Label Error Detection on CIFAR-10h \\n Model: resnet-18\", fontsize=14, fontweight=\"bold\")\n",
    "    plt.legend()\n",
    "    \n",
    "    plt.subplot(1, 2, 2)\n",
    "    plt.plot(fpr, tpr, label=f\"{method}-{str(adjust_pred_probs)}\")\n",
    "    plt.xlabel(\"False Positive Rate\", fontsize=14)\n",
    "    plt.ylabel(\"True Positive Rate\", fontsize=14)\n",
    "    plt.title(\"AU ROC Curve: Label Error Detection on CIFAR-10h \\n Model: resnet-18\", fontsize=14, fontweight=\"bold\")\n",
    "    plt.legend()\n",
    "\n",
    "plt.show()"
   ]
  },
  {
   "cell_type": "code",
   "execution_count": 65,
   "id": "41f33c2e",
   "metadata": {},
   "outputs": [
    {
     "data": {
      "text/html": [
       "<div>\n",
       "<style scoped>\n",
       "    .dataframe tbody tr th:only-of-type {\n",
       "        vertical-align: middle;\n",
       "    }\n",
       "\n",
       "    .dataframe tbody tr th {\n",
       "        vertical-align: top;\n",
       "    }\n",
       "\n",
       "    .dataframe thead th {\n",
       "        text-align: right;\n",
       "    }\n",
       "</style>\n",
       "<table border=\"1\" class=\"dataframe\">\n",
       "  <thead>\n",
       "    <tr style=\"text-align: right;\">\n",
       "      <th></th>\n",
       "      <th>dataset</th>\n",
       "      <th>model</th>\n",
       "      <th>noise_config</th>\n",
       "      <th>method</th>\n",
       "      <th>adjust_pred_probs</th>\n",
       "      <th>auroc</th>\n",
       "      <th>lift_at_1000</th>\n",
       "      <th>lift_at_2000</th>\n",
       "      <th>lift_at_3000</th>\n",
       "      <th>lift_at_4000</th>\n",
       "      <th>lift_at_5000</th>\n",
       "      <th>lift_at_6000</th>\n",
       "      <th>lift_at_7000</th>\n",
       "      <th>lift_at_8000</th>\n",
       "      <th>lift_at_9000</th>\n",
       "      <th>lift_at_10000</th>\n",
       "    </tr>\n",
       "  </thead>\n",
       "  <tbody>\n",
       "    <tr>\n",
       "      <th>0</th>\n",
       "      <td>cifar10</td>\n",
       "      <td>resnet18</td>\n",
       "      <td>Noise Amount: 0.2 | Sparsity: 0.4</td>\n",
       "      <td>self_confidence</td>\n",
       "      <td>False</td>\n",
       "      <td>0.894945</td>\n",
       "      <td>6.754032</td>\n",
       "      <td>4.223790</td>\n",
       "      <td>2.983871</td>\n",
       "      <td>2.303427</td>\n",
       "      <td>1.891129</td>\n",
       "      <td>1.599462</td>\n",
       "      <td>1.379608</td>\n",
       "      <td>1.214718</td>\n",
       "      <td>1.097670</td>\n",
       "      <td>1.0</td>\n",
       "    </tr>\n",
       "    <tr>\n",
       "      <th>1</th>\n",
       "      <td>cifar10</td>\n",
       "      <td>resnet18</td>\n",
       "      <td>Noise Amount: 0.2 | Sparsity: 0.4</td>\n",
       "      <td>self_confidence</td>\n",
       "      <td>True</td>\n",
       "      <td>0.896848</td>\n",
       "      <td>6.834677</td>\n",
       "      <td>4.233871</td>\n",
       "      <td>2.983871</td>\n",
       "      <td>2.313508</td>\n",
       "      <td>1.883065</td>\n",
       "      <td>1.599462</td>\n",
       "      <td>1.376728</td>\n",
       "      <td>1.214718</td>\n",
       "      <td>1.102151</td>\n",
       "      <td>1.0</td>\n",
       "    </tr>\n",
       "    <tr>\n",
       "      <th>2</th>\n",
       "      <td>cifar10</td>\n",
       "      <td>resnet18</td>\n",
       "      <td>Noise Amount: 0.2 | Sparsity: 0.4</td>\n",
       "      <td>normalized_margin</td>\n",
       "      <td>False</td>\n",
       "      <td>0.905005</td>\n",
       "      <td>6.895161</td>\n",
       "      <td>4.364919</td>\n",
       "      <td>3.051075</td>\n",
       "      <td>2.343750</td>\n",
       "      <td>1.911290</td>\n",
       "      <td>1.609543</td>\n",
       "      <td>1.382488</td>\n",
       "      <td>1.222278</td>\n",
       "      <td>1.097670</td>\n",
       "      <td>1.0</td>\n",
       "    </tr>\n",
       "    <tr>\n",
       "      <th>3</th>\n",
       "      <td>cifar10</td>\n",
       "      <td>resnet18</td>\n",
       "      <td>Noise Amount: 0.2 | Sparsity: 0.4</td>\n",
       "      <td>normalized_margin</td>\n",
       "      <td>True</td>\n",
       "      <td>0.907119</td>\n",
       "      <td>7.096774</td>\n",
       "      <td>4.364919</td>\n",
       "      <td>3.030914</td>\n",
       "      <td>2.328629</td>\n",
       "      <td>1.899194</td>\n",
       "      <td>1.599462</td>\n",
       "      <td>1.376728</td>\n",
       "      <td>1.227319</td>\n",
       "      <td>1.102151</td>\n",
       "      <td>1.0</td>\n",
       "    </tr>\n",
       "    <tr>\n",
       "      <th>4</th>\n",
       "      <td>cifar10</td>\n",
       "      <td>resnet18</td>\n",
       "      <td>Noise Amount: 0.2 | Sparsity: 0.4</td>\n",
       "      <td>confidence_weighted_entropy</td>\n",
       "      <td>False</td>\n",
       "      <td>0.883981</td>\n",
       "      <td>6.512097</td>\n",
       "      <td>4.122984</td>\n",
       "      <td>2.930108</td>\n",
       "      <td>2.278226</td>\n",
       "      <td>1.875000</td>\n",
       "      <td>1.586022</td>\n",
       "      <td>1.370968</td>\n",
       "      <td>1.214718</td>\n",
       "      <td>1.095430</td>\n",
       "      <td>1.0</td>\n",
       "    </tr>\n",
       "  </tbody>\n",
       "</table>\n",
       "</div>"
      ],
      "text/plain": [
       "   dataset     model                       noise_config  \\\n",
       "0  cifar10  resnet18  Noise Amount: 0.2 | Sparsity: 0.4   \n",
       "1  cifar10  resnet18  Noise Amount: 0.2 | Sparsity: 0.4   \n",
       "2  cifar10  resnet18  Noise Amount: 0.2 | Sparsity: 0.4   \n",
       "3  cifar10  resnet18  Noise Amount: 0.2 | Sparsity: 0.4   \n",
       "4  cifar10  resnet18  Noise Amount: 0.2 | Sparsity: 0.4   \n",
       "\n",
       "                        method  adjust_pred_probs     auroc  lift_at_1000  \\\n",
       "0              self_confidence              False  0.894945      6.754032   \n",
       "1              self_confidence               True  0.896848      6.834677   \n",
       "2            normalized_margin              False  0.905005      6.895161   \n",
       "3            normalized_margin               True  0.907119      7.096774   \n",
       "4  confidence_weighted_entropy              False  0.883981      6.512097   \n",
       "\n",
       "   lift_at_2000  lift_at_3000  lift_at_4000  lift_at_5000  lift_at_6000  \\\n",
       "0      4.223790      2.983871      2.303427      1.891129      1.599462   \n",
       "1      4.233871      2.983871      2.313508      1.883065      1.599462   \n",
       "2      4.364919      3.051075      2.343750      1.911290      1.609543   \n",
       "3      4.364919      3.030914      2.328629      1.899194      1.599462   \n",
       "4      4.122984      2.930108      2.278226      1.875000      1.586022   \n",
       "\n",
       "   lift_at_7000  lift_at_8000  lift_at_9000  lift_at_10000  \n",
       "0      1.379608      1.214718      1.097670            1.0  \n",
       "1      1.376728      1.214718      1.102151            1.0  \n",
       "2      1.382488      1.222278      1.097670            1.0  \n",
       "3      1.376728      1.227319      1.102151            1.0  \n",
       "4      1.370968      1.214718      1.095430            1.0  "
      ]
     },
     "execution_count": 65,
     "metadata": {},
     "output_type": "execute_result"
    }
   ],
   "source": [
    "# Create dataframe and export to csv\n",
    "\n",
    "df_result = pd.DataFrame(results_list)\n",
    "df_result.to_csv(f\"./data/benchmark_results/label_quality_scores_evaluation.csv\", index=False)\n",
    "df_result"
   ]
  },
  {
   "cell_type": "markdown",
   "id": "36869326",
   "metadata": {},
   "source": [
    "#### Notes\n",
    "- ROC Curves summarize the trade-off between the true positive rate and false positive rate for a predictive model using different probability threshold\n",
    "- Precision-Recall curves summarize the trade-off between the true positive rate and the positive predictive value for a predictive model using different probability thresholds.\n",
    "- Precision-Recall curves: imbalanced datasets (more sensitive to positive class), ROC curves: balanced datasets"
   ]
  },
  {
   "cell_type": "markdown",
   "id": "e047f3c1",
   "metadata": {},
   "source": [
    "#### Analyze Consensus label vs model performance"
   ]
  },
  {
   "cell_type": "code",
   "execution_count": 151,
   "id": "94e00963",
   "metadata": {},
   "outputs": [
    {
     "name": "stdout",
     "output_type": "stream",
     "text": [
      "Probability annotators alone correctly predict labels:  0.9923\n",
      "Probability model alone correctly predicts labels:  0.9504\n",
      "Similar prediction between model preds and consensus_labels:  9485\n"
     ]
    }
   ],
   "source": [
    "# check how much the consensus labels differ from\n",
    "hlabels_df = pd.DataFrame(hlabels)\n",
    "consensus_labels = get_consensus_labels(hlabels_df, pred_probs)\n",
    "\n",
    "print('Probability annotators alone correctly predict labels: ', (true_labels == consensus_labels).sum() / 10000)\n",
    "model_pred_labels = np.argmax(pred_probs, axis=1) # true labels == to what the model is likeley to predict\n",
    "print('Probability model alone correctly predicts labels: ', (model_pred_labels == true_labels).sum() / 10000) # suggests model is x% likeley to predict with the consensus\n",
    "print('Similar prediction between model preds and consensus_labels: ', (model_pred_labels == consensus_labels).sum())"
   ]
  },
  {
   "cell_type": "markdown",
   "id": "61a97250",
   "metadata": {},
   "source": [
    "## Analyze label issues"
   ]
  },
  {
   "cell_type": "code",
   "execution_count": 162,
   "id": "ed96a402",
   "metadata": {},
   "outputs": [],
   "source": [
    "def get_label_issues(labels, pred_probs):\n",
    "    label_issues = find_label_issues(labels=consensus_labels,\n",
    "                        pred_probs=pred_probs,\n",
    "                        return_indices_ranked_by='self_confidence',\n",
    "                        )\n",
    "    issue_consensus_labels = consensus_labels[label_issues]\n",
    "    issue_images = images[label_issues]\n",
    "    issue_true_labels = true_labels[label_issues]\n",
    "    issue_is_issue = (issue_consensus_labels != issue_true_labels) + 0\n",
    "    issue_real_image_paths = [path + '/' + '/'.join(image.split('/')[-5:]) for image in issue_images]\n",
    "\n",
    "    print('Number of label issues detected: ', len(label_issues))\n",
    "    print('Number of true label issues: ', true_labels.shape[0] - np.sum(consensus_labels == true_labels))\n",
    "    print('Number of true label issues detected: ', np.sum(issue_is_issue))\n",
    "    \n",
    "    issues_df = pd.DataFrame(zip(issue_consensus_labels, issue_true_labels, issue_is_issue, issue_real_image_paths),\n",
    "            columns = ['label','true_label','is_issue','image_png'])\n",
    "    return issues_df\n",
    "\n",
    "def visualize_label_issues(issues_df, classes, scale=100):\n",
    "    print('Visualizing', len(issues_df), 'issues\\n')\n",
    "    \n",
    "    listOfImageNames = issues_df['image_png'].values\n",
    "\n",
    "    for index, row in issues_df.iterrows():\n",
    "        print('Correctly identified: ', bool(row['is_issue']), '\\nGiven label: ', classes[row['label']], '\\nTrue label: ', classes[row['true_label']],)\n",
    "        image = Image(filename=row['image_png'])\n",
    "        display(Image(filename=row['image_png'], width=scale))\n",
    "\n",
    "classes = {0:\"airplane\", \n",
    "           1:\"automobile\", \n",
    "           2:\"bird\", \n",
    "           3:\"cat\", \n",
    "           4:\"deer\",\n",
    "           5:\"dog\", \n",
    "           6:\"frog\", \n",
    "           7:\"horse\", \n",
    "           8:\"ship\", \n",
    "           9:\"truck\"}"
   ]
  },
  {
   "cell_type": "markdown",
   "id": "8dd99baf",
   "metadata": {},
   "source": [
    "#### Run find_label_issues on the consensus labels and visualize label issues."
   ]
  },
  {
   "cell_type": "code",
   "execution_count": 163,
   "id": "a34c63e8",
   "metadata": {},
   "outputs": [
    {
     "name": "stdout",
     "output_type": "stream",
     "text": [
      "Number of label issues detected:  80\n",
      "Number of true label issues:  77\n",
      "Number of true label issues detected:  15\n"
     ]
    },
    {
     "data": {
      "text/html": [
       "<div>\n",
       "<style scoped>\n",
       "    .dataframe tbody tr th:only-of-type {\n",
       "        vertical-align: middle;\n",
       "    }\n",
       "\n",
       "    .dataframe tbody tr th {\n",
       "        vertical-align: top;\n",
       "    }\n",
       "\n",
       "    .dataframe thead th {\n",
       "        text-align: right;\n",
       "    }\n",
       "</style>\n",
       "<table border=\"1\" class=\"dataframe\">\n",
       "  <thead>\n",
       "    <tr style=\"text-align: right;\">\n",
       "      <th></th>\n",
       "      <th>label</th>\n",
       "      <th>true_label</th>\n",
       "      <th>is_issue</th>\n",
       "      <th>image_png</th>\n",
       "    </tr>\n",
       "  </thead>\n",
       "  <tbody>\n",
       "    <tr>\n",
       "      <th>0</th>\n",
       "      <td>3</td>\n",
       "      <td>3</td>\n",
       "      <td>0</td>\n",
       "      <td>/Users/uly/Documents/Cleanlab/multiannotator_benchmarks/data/cifar10/test/cat/test_batch_index_7099.png</td>\n",
       "    </tr>\n",
       "    <tr>\n",
       "      <th>1</th>\n",
       "      <td>2</td>\n",
       "      <td>4</td>\n",
       "      <td>1</td>\n",
       "      <td>/Users/uly/Documents/Cleanlab/multiannotator_benchmarks/data/cifar10/test/deer/test_batch_index_6197.png</td>\n",
       "    </tr>\n",
       "    <tr>\n",
       "      <th>2</th>\n",
       "      <td>9</td>\n",
       "      <td>9</td>\n",
       "      <td>0</td>\n",
       "      <td>/Users/uly/Documents/Cleanlab/multiannotator_benchmarks/data/cifar10/test/truck/test_batch_index_2495.png</td>\n",
       "    </tr>\n",
       "    <tr>\n",
       "      <th>3</th>\n",
       "      <td>6</td>\n",
       "      <td>2</td>\n",
       "      <td>1</td>\n",
       "      <td>/Users/uly/Documents/Cleanlab/multiannotator_benchmarks/data/cifar10/test/bird/test_batch_index_8982.png</td>\n",
       "    </tr>\n",
       "    <tr>\n",
       "      <th>4</th>\n",
       "      <td>8</td>\n",
       "      <td>8</td>\n",
       "      <td>0</td>\n",
       "      <td>/Users/uly/Documents/Cleanlab/multiannotator_benchmarks/data/cifar10/test/ship/test_batch_index_1685.png</td>\n",
       "    </tr>\n",
       "  </tbody>\n",
       "</table>\n",
       "</div>"
      ],
      "text/plain": [
       "   label  true_label  is_issue  \\\n",
       "0      3           3         0   \n",
       "1      2           4         1   \n",
       "2      9           9         0   \n",
       "3      6           2         1   \n",
       "4      8           8         0   \n",
       "\n",
       "                                                                                                   image_png  \n",
       "0    /Users/uly/Documents/Cleanlab/multiannotator_benchmarks/data/cifar10/test/cat/test_batch_index_7099.png  \n",
       "1   /Users/uly/Documents/Cleanlab/multiannotator_benchmarks/data/cifar10/test/deer/test_batch_index_6197.png  \n",
       "2  /Users/uly/Documents/Cleanlab/multiannotator_benchmarks/data/cifar10/test/truck/test_batch_index_2495.png  \n",
       "3   /Users/uly/Documents/Cleanlab/multiannotator_benchmarks/data/cifar10/test/bird/test_batch_index_8982.png  \n",
       "4   /Users/uly/Documents/Cleanlab/multiannotator_benchmarks/data/cifar10/test/ship/test_batch_index_1685.png  "
      ]
     },
     "execution_count": 163,
     "metadata": {},
     "output_type": "execute_result"
    }
   ],
   "source": [
    "# check how much the consensus labels differ from\n",
    "hlabels_df = pd.DataFrame(hlabels)\n",
    "consensus_labels = get_consensus_labels(hlabels_df, pred_probs)\n",
    "issues_df = get_label_issues(hlabels, pred_probs)\n",
    "issues_df.head()"
   ]
  },
  {
   "cell_type": "code",
   "execution_count": 161,
   "id": "b4e3525a",
   "metadata": {},
   "outputs": [
    {
     "name": "stdout",
     "output_type": "stream",
     "text": [
      "Visualizing 15 issues\n",
      "\n",
      "Correctly identified:  True \n",
      "Given label:  bird \n",
      "True label:  deer\n"
     ]
    },
    {
     "data": {
      "image/png": "[encoded data removed]",
      "text/plain": [
       "<IPython.core.display.Image object>"
      ]
     },
     "metadata": {
      "image/png": {
       "width": 100
      }
     },
     "output_type": "display_data"
    },
    {
     "name": "stdout",
     "output_type": "stream",
     "text": [
      "Correctly identified:  True \n",
      "Given label:  frog \n",
      "True label:  bird\n"
     ]
    },
    {
     "data": {
      "image/png": "[encoded data removed]",
      "text/plain": [
       "<IPython.core.display.Image object>"
      ]
     },
     "metadata": {
      "image/png": {
       "width": 100
      }
     },
     "output_type": "display_data"
    },
    {
     "name": "stdout",
     "output_type": "stream",
     "text": [
      "Correctly identified:  True \n",
      "Given label:  horse \n",
      "True label:  deer\n"
     ]
    },
    {
     "data": {
      "image/png": "[encoded data removed]",
      "text/plain": [
       "<IPython.core.display.Image object>"
      ]
     },
     "metadata": {
      "image/png": {
       "width": 100
      }
     },
     "output_type": "display_data"
    },
    {
     "name": "stdout",
     "output_type": "stream",
     "text": [
      "Correctly identified:  True \n",
      "Given label:  deer \n",
      "True label:  frog\n"
     ]
    },
    {
     "data": {
      "image/png": "[encoded data removed]",
      "text/plain": [
       "<IPython.core.display.Image object>"
      ]
     },
     "metadata": {
      "image/png": {
       "width": 100
      }
     },
     "output_type": "display_data"
    },
    {
     "name": "stdout",
     "output_type": "stream",
     "text": [
      "Correctly identified:  True \n",
      "Given label:  bird \n",
      "True label:  cat\n"
     ]
    },
    {
     "data": {
      "image/png": "[encoded data removed]",
      "text/plain": [
       "<IPython.core.display.Image object>"
      ]
     },
     "metadata": {
      "image/png": {
       "width": 100
      }
     },
     "output_type": "display_data"
    },
    {
     "name": "stdout",
     "output_type": "stream",
     "text": [
      "Correctly identified:  True \n",
      "Given label:  horse \n",
      "True label:  deer\n"
     ]
    },
    {
     "data": {
      "image/png": "[encoded data removed]",
      "text/plain": [
       "<IPython.core.display.Image object>"
      ]
     },
     "metadata": {
      "image/png": {
       "width": 100
      }
     },
     "output_type": "display_data"
    },
    {
     "name": "stdout",
     "output_type": "stream",
     "text": [
      "Correctly identified:  True \n",
      "Given label:  bird \n",
      "True label:  deer\n"
     ]
    },
    {
     "data": {
      "image/png": "[encoded data removed]",
      "text/plain": [
       "<IPython.core.display.Image object>"
      ]
     },
     "metadata": {
      "image/png": {
       "width": 100
      }
     },
     "output_type": "display_data"
    },
    {
     "name": "stdout",
     "output_type": "stream",
     "text": [
      "Correctly identified:  True \n",
      "Given label:  airplane \n",
      "True label:  automobile\n"
     ]
    },
    {
     "data": {
      "image/png": "[encoded data removed]",
      "text/plain": [
       "<IPython.core.display.Image object>"
      ]
     },
     "metadata": {
      "image/png": {
       "width": 100
      }
     },
     "output_type": "display_data"
    },
    {
     "name": "stdout",
     "output_type": "stream",
     "text": [
      "Correctly identified:  True \n",
      "Given label:  dog \n",
      "True label:  deer\n"
     ]
    },
    {
     "data": {
      "image/png": "[encoded data removed]",
      "text/plain": [
       "<IPython.core.display.Image object>"
      ]
     },
     "metadata": {
      "image/png": {
       "width": 100
      }
     },
     "output_type": "display_data"
    },
    {
     "name": "stdout",
     "output_type": "stream",
     "text": [
      "Correctly identified:  True \n",
      "Given label:  horse \n",
      "True label:  deer\n"
     ]
    },
    {
     "data": {
      "image/png": "[encoded data removed]",
      "text/plain": [
       "<IPython.core.display.Image object>"
      ]
     },
     "metadata": {
      "image/png": {
       "width": 100
      }
     },
     "output_type": "display_data"
    },
    {
     "name": "stdout",
     "output_type": "stream",
     "text": [
      "Correctly identified:  True \n",
      "Given label:  horse \n",
      "True label:  deer\n"
     ]
    },
    {
     "data": {
      "image/png": "[encoded data removed]",
      "text/plain": [
       "<IPython.core.display.Image object>"
      ]
     },
     "metadata": {
      "image/png": {
       "width": 100
      }
     },
     "output_type": "display_data"
    },
    {
     "name": "stdout",
     "output_type": "stream",
     "text": [
      "Correctly identified:  True \n",
      "Given label:  horse \n",
      "True label:  deer\n"
     ]
    },
    {
     "data": {
      "image/png": "[encoded data removed]",
      "text/plain": [
       "<IPython.core.display.Image object>"
      ]
     },
     "metadata": {
      "image/png": {
       "width": 100
      }
     },
     "output_type": "display_data"
    },
    {
     "name": "stdout",
     "output_type": "stream",
     "text": [
      "Correctly identified:  True \n",
      "Given label:  horse \n",
      "True label:  deer\n"
     ]
    },
    {
     "data": {
      "image/png": "[encoded data removed]",
      "text/plain": [
       "<IPython.core.display.Image object>"
      ]
     },
     "metadata": {
      "image/png": {
       "width": 100
      }
     },
     "output_type": "display_data"
    },
    {
     "name": "stdout",
     "output_type": "stream",
     "text": [
      "Correctly identified:  True \n",
      "Given label:  horse \n",
      "True label:  deer\n"
     ]
    },
    {
     "data": {
      "image/png": "[encoded data removed]",
      "text/plain": [
       "<IPython.core.display.Image object>"
      ]
     },
     "metadata": {
      "image/png": {
       "width": 100
      }
     },
     "output_type": "display_data"
    },
    {
     "name": "stdout",
     "output_type": "stream",
     "text": [
      "Correctly identified:  True \n",
      "Given label:  cat \n",
      "True label:  dog\n"
     ]
    },
    {
     "data": {
      "image/png": "[encoded data removed]",
      "text/plain": [
       "<IPython.core.display.Image object>"
      ]
     },
     "metadata": {
      "image/png": {
       "width": 100
      }
     },
     "output_type": "display_data"
    }
   ],
   "source": [
    "true_issues_df = issues_df[issues_df['is_issue'] == 1] # get a df of correctly identified true issues\n",
    "# visualize_label_issues(issues_df, classes)\n",
    "visualize_label_issues(true_issues_df, classes)"
   ]
  },
  {
   "cell_type": "markdown",
   "id": "6e69ae7f",
   "metadata": {},
   "source": [
    "#### Run find_label_issues on an individual annotator's labels and visualize label issues."
   ]
  },
  {
   "cell_type": "code",
   "execution_count": 180,
   "id": "648efcd1",
   "metadata": {},
   "outputs": [
    {
     "name": "stdout",
     "output_type": "stream",
     "text": [
      "worst annotator:  2561 accuracy:  0.09\n"
     ]
    }
   ],
   "source": [
    "annotator_accuracy = hlabels_error_mask.sum(axis=0) / hannotator_mask.sum(axis=0)\n",
    "worst_annotator = np.argmin(annotator_accuracy)\n",
    "print('worst annotator: ', worst_annotator, 'accuracy: ', annotator_accuracy[worst_annotator])\n",
    "# worst num correctly labeled points: 9814"
   ]
  },
  {
   "cell_type": "code",
   "execution_count": 192,
   "id": "dd284b14",
   "metadata": {},
   "outputs": [
    {
     "data": {
      "text/plain": [
       "array([184, 191, 191, ..., 180, 190, 191])"
      ]
     },
     "execution_count": 192,
     "metadata": {},
     "output_type": "execute_result"
    }
   ],
   "source": [
    "hlabels_error_mask.sum(axis=0)"
   ]
  },
  {
   "cell_type": "code",
   "execution_count": 193,
   "id": "cc71d335",
   "metadata": {},
   "outputs": [
    {
     "data": {
      "text/plain": [
       "array([200, 200, 200, ..., 200, 200, 200])"
      ]
     },
     "execution_count": 193,
     "metadata": {},
     "output_type": "execute_result"
    }
   ],
   "source": [
    "hannotator_mask.sum(axis=0)"
   ]
  },
  {
   "cell_type": "code",
   "execution_count": 205,
   "id": "5fdfcff1",
   "metadata": {},
   "outputs": [
    {
     "name": "stdout",
     "output_type": "stream",
     "text": [
      "[1 0 4 1 2 4 3 7 8 4 2 4 9 3 2 4 7 3 8 3 5 7 4 4 3 6 9 3 0 5 1 7 8 8 6 2 9\n",
      " 0 6 5 1 1 5 0 2 5 6 3 3 8 9 1 3 5 5 4 9 7 2 3 4 7 7 0 5 1 3 0 5 1 7 9 5 6\n",
      " 9 0 8 8 9 7 4 7 1 8 6 7 3 6 4 5 9 9 4 6 0 5 5 0 0 5 7 6 7 0 1 6 6 8 7 1 6\n",
      " 3 5 2 4 9 9 4 6 5 0 9 6 9 6 2 3 9 4 6 8 2 8 1 8 8 8 9 9 2 6 0 3 0 0 8 7 2\n",
      " 2 2 4 4 8 0 8 2 2 2 1 4 8 2 9 1 1 3 1 7 6 5 9 2 4 7 2 7 9 0 6 9 8 2 8 7 3\n",
      " 4 0 3 9 7 2 9 0 2 7 3 5 9 0 6]\n",
      "[0 2 1 8 1 3 7 4 8 3 3 8 4 2 9 7 6 2 2 5 8 7 3 4 5 0 5 9 3 7 1 9 0 3 0 3 6\n",
      " 4 0 3 9 4 6 6 4 9 4 2 0 0 6 5 8 2 9 1 5 5 9 4 1 2 1 9 8 7 6 9 9 2 6 8 0 9\n",
      " 0 1 1 0 3 4 4 5 9 3 1 7 1 8 0 6 7 9 0 2 1 0 4 7 6 3 3 0 9 3 9 0 5 4 9 5 1\n",
      " 7 6 0 9 5 3 4 3 7 3 4 6 1 7 0 0 6 5 4 0 1 5 1 9 5 3 4 4 8 1 2 5 3 9 8 1 6\n",
      " 4 6 0 8 5 1 4 2 9 8 6 0 4 5 2 6 1 3 2 0 5 8 9 2 7 9 0 4 3 2 0 6 4 4 2 0 9\n",
      " 9 5 8 6 0 7 0 3 4 6 4 8 7 4 1]\n",
      "Annotator accuracy:  0.08\n",
      "Annotator accuracy:  0.955\n",
      "Num correctly labeled points for annotator  1 :  9816\n",
      "Annotator accuracy:  0.9816\n",
      "Number of label issues detected:  80\n",
      "Number of true label issues:  77\n",
      "Number of true label issues detected:  15\n"
     ]
    },
    {
     "data": {
      "text/html": [
       "<div>\n",
       "<style scoped>\n",
       "    .dataframe tbody tr th:only-of-type {\n",
       "        vertical-align: middle;\n",
       "    }\n",
       "\n",
       "    .dataframe tbody tr th {\n",
       "        vertical-align: top;\n",
       "    }\n",
       "\n",
       "    .dataframe thead th {\n",
       "        text-align: right;\n",
       "    }\n",
       "</style>\n",
       "<table border=\"1\" class=\"dataframe\">\n",
       "  <thead>\n",
       "    <tr style=\"text-align: right;\">\n",
       "      <th></th>\n",
       "      <th>label</th>\n",
       "      <th>true_label</th>\n",
       "      <th>is_issue</th>\n",
       "      <th>image_png</th>\n",
       "    </tr>\n",
       "  </thead>\n",
       "  <tbody>\n",
       "    <tr>\n",
       "      <th>0</th>\n",
       "      <td>3</td>\n",
       "      <td>3</td>\n",
       "      <td>0</td>\n",
       "      <td>/Users/uly/Documents/Cleanlab/multiannotator_benchmarks/data/cifar10/test/cat/test_batch_index_7099.png</td>\n",
       "    </tr>\n",
       "    <tr>\n",
       "      <th>1</th>\n",
       "      <td>2</td>\n",
       "      <td>4</td>\n",
       "      <td>1</td>\n",
       "      <td>/Users/uly/Documents/Cleanlab/multiannotator_benchmarks/data/cifar10/test/deer/test_batch_index_6197.png</td>\n",
       "    </tr>\n",
       "    <tr>\n",
       "      <th>2</th>\n",
       "      <td>9</td>\n",
       "      <td>9</td>\n",
       "      <td>0</td>\n",
       "      <td>/Users/uly/Documents/Cleanlab/multiannotator_benchmarks/data/cifar10/test/truck/test_batch_index_2495.png</td>\n",
       "    </tr>\n",
       "    <tr>\n",
       "      <th>3</th>\n",
       "      <td>6</td>\n",
       "      <td>2</td>\n",
       "      <td>1</td>\n",
       "      <td>/Users/uly/Documents/Cleanlab/multiannotator_benchmarks/data/cifar10/test/bird/test_batch_index_8982.png</td>\n",
       "    </tr>\n",
       "    <tr>\n",
       "      <th>4</th>\n",
       "      <td>8</td>\n",
       "      <td>8</td>\n",
       "      <td>0</td>\n",
       "      <td>/Users/uly/Documents/Cleanlab/multiannotator_benchmarks/data/cifar10/test/ship/test_batch_index_1685.png</td>\n",
       "    </tr>\n",
       "  </tbody>\n",
       "</table>\n",
       "</div>"
      ],
      "text/plain": [
       "   label  true_label  is_issue  \\\n",
       "0      3           3         0   \n",
       "1      2           4         1   \n",
       "2      9           9         0   \n",
       "3      6           2         1   \n",
       "4      8           8         0   \n",
       "\n",
       "                                                                                                   image_png  \n",
       "0    /Users/uly/Documents/Cleanlab/multiannotator_benchmarks/data/cifar10/test/cat/test_batch_index_7099.png  \n",
       "1   /Users/uly/Documents/Cleanlab/multiannotator_benchmarks/data/cifar10/test/deer/test_batch_index_6197.png  \n",
       "2  /Users/uly/Documents/Cleanlab/multiannotator_benchmarks/data/cifar10/test/truck/test_batch_index_2495.png  \n",
       "3   /Users/uly/Documents/Cleanlab/multiannotator_benchmarks/data/cifar10/test/bird/test_batch_index_8982.png  \n",
       "4   /Users/uly/Documents/Cleanlab/multiannotator_benchmarks/data/cifar10/test/ship/test_batch_index_1685.png  "
      ]
     },
     "execution_count": 205,
     "metadata": {},
     "output_type": "execute_result"
    }
   ],
   "source": [
    "annotator_id = 1\n",
    "\n",
    "adf = df[df.annotator_id == annotator_id] # 200 annotations per annotator\n",
    "annotations_idx = adf['cifar10_test_test_idx'].values\n",
    "annotations = adf['chosen_label'].values\n",
    "\n",
    "a_labels = true_labels.copy()\n",
    "a_labels[annotations_idx] = annotations\n",
    "\n",
    "\n",
    "print(a_labels[annotations_idx])\n",
    "print(true_labels[annotations_idx])\n",
    "\n",
    "print('Annotator accuracy: ', np.sum(a_labels[annotations_idx] == true_labels[annotations_idx]) / len(annotations_idx))\n",
    "\n",
    "print('Annotator accuracy: ', annotator_accuracy[annotator_id])\n",
    "print('Num correctly labeled points for annotator ', annotator_id, ': ', np.sum(a_labels == true_labels))\n",
    "print('Annotator accuracy: ', np.sum(a_labels == true_labels) / len(a_labels))\n",
    "issues_df = get_label_issues(a_labels, pred_probs)\n",
    "issues_df.head()"
   ]
  },
  {
   "cell_type": "code",
   "execution_count": 206,
   "id": "42caf5e8",
   "metadata": {},
   "outputs": [
    {
     "data": {
      "text/html": [
       "<div>\n",
       "<style scoped>\n",
       "    .dataframe tbody tr th:only-of-type {\n",
       "        vertical-align: middle;\n",
       "    }\n",
       "\n",
       "    .dataframe tbody tr th {\n",
       "        vertical-align: top;\n",
       "    }\n",
       "\n",
       "    .dataframe thead th {\n",
       "        text-align: right;\n",
       "    }\n",
       "</style>\n",
       "<table border=\"1\" class=\"dataframe\">\n",
       "  <thead>\n",
       "    <tr style=\"text-align: right;\">\n",
       "      <th></th>\n",
       "      <th>annotator_id</th>\n",
       "      <th>trial_index</th>\n",
       "      <th>is_attn_check</th>\n",
       "      <th>true_category</th>\n",
       "      <th>chosen_category</th>\n",
       "      <th>true_label</th>\n",
       "      <th>chosen_label</th>\n",
       "      <th>correct_guess</th>\n",
       "      <th>cifar10_test_test_idx</th>\n",
       "      <th>image_filename</th>\n",
       "      <th>subcategory</th>\n",
       "      <th>reaction_time</th>\n",
       "      <th>time_elapsed</th>\n",
       "    </tr>\n",
       "  </thead>\n",
       "  <tbody>\n",
       "    <tr>\n",
       "      <th>210</th>\n",
       "      <td>1</td>\n",
       "      <td>0</td>\n",
       "      <td>0</td>\n",
       "      <td>automobile</td>\n",
       "      <td>automobile</td>\n",
       "      <td>1</td>\n",
       "      <td>1</td>\n",
       "      <td>1</td>\n",
       "      <td>9510</td>\n",
       "      <td>automobile_s_000304.png</td>\n",
       "      <td>automobile</td>\n",
       "      <td>1835</td>\n",
       "      <td>1835</td>\n",
       "    </tr>\n",
       "    <tr>\n",
       "      <th>211</th>\n",
       "      <td>1</td>\n",
       "      <td>1</td>\n",
       "      <td>0</td>\n",
       "      <td>airplane</td>\n",
       "      <td>airplane</td>\n",
       "      <td>0</td>\n",
       "      <td>0</td>\n",
       "      <td>1</td>\n",
       "      <td>5762</td>\n",
       "      <td>stealth_bomber_s_001721.png</td>\n",
       "      <td>stealth_bomber</td>\n",
       "      <td>1076</td>\n",
       "      <td>3515</td>\n",
       "    </tr>\n",
       "    <tr>\n",
       "      <th>212</th>\n",
       "      <td>1</td>\n",
       "      <td>2</td>\n",
       "      <td>0</td>\n",
       "      <td>deer</td>\n",
       "      <td>deer</td>\n",
       "      <td>4</td>\n",
       "      <td>4</td>\n",
       "      <td>1</td>\n",
       "      <td>159</td>\n",
       "      <td>reindeer_s_000021.png</td>\n",
       "      <td>reindeer</td>\n",
       "      <td>1201</td>\n",
       "      <td>5295</td>\n",
       "    </tr>\n",
       "    <tr>\n",
       "      <th>213</th>\n",
       "      <td>1</td>\n",
       "      <td>3</td>\n",
       "      <td>0</td>\n",
       "      <td>automobile</td>\n",
       "      <td>automobile</td>\n",
       "      <td>1</td>\n",
       "      <td>1</td>\n",
       "      <td>1</td>\n",
       "      <td>8222</td>\n",
       "      <td>ambulance_s_002813.png</td>\n",
       "      <td>ambulance</td>\n",
       "      <td>3241</td>\n",
       "      <td>9108</td>\n",
       "    </tr>\n",
       "    <tr>\n",
       "      <th>214</th>\n",
       "      <td>1</td>\n",
       "      <td>4</td>\n",
       "      <td>0</td>\n",
       "      <td>bird</td>\n",
       "      <td>bird</td>\n",
       "      <td>2</td>\n",
       "      <td>2</td>\n",
       "      <td>1</td>\n",
       "      <td>307</td>\n",
       "      <td>sparrow_s_000038.png</td>\n",
       "      <td>sparrow</td>\n",
       "      <td>1196</td>\n",
       "      <td>10906</td>\n",
       "    </tr>\n",
       "  </tbody>\n",
       "</table>\n",
       "</div>"
      ],
      "text/plain": [
       "     annotator_id  trial_index  is_attn_check true_category chosen_category  \\\n",
       "210             1            0              0    automobile      automobile   \n",
       "211             1            1              0      airplane        airplane   \n",
       "212             1            2              0          deer            deer   \n",
       "213             1            3              0    automobile      automobile   \n",
       "214             1            4              0          bird            bird   \n",
       "\n",
       "     true_label  chosen_label  correct_guess  cifar10_test_test_idx  \\\n",
       "210           1             1              1                   9510   \n",
       "211           0             0              1                   5762   \n",
       "212           4             4              1                    159   \n",
       "213           1             1              1                   8222   \n",
       "214           2             2              1                    307   \n",
       "\n",
       "                  image_filename     subcategory  reaction_time  time_elapsed  \n",
       "210      automobile_s_000304.png      automobile           1835          1835  \n",
       "211  stealth_bomber_s_001721.png  stealth_bomber           1076          3515  \n",
       "212        reindeer_s_000021.png        reindeer           1201          5295  \n",
       "213       ambulance_s_002813.png       ambulance           3241          9108  \n",
       "214         sparrow_s_000038.png         sparrow           1196         10906  "
      ]
     },
     "execution_count": 206,
     "metadata": {},
     "output_type": "execute_result"
    }
   ],
   "source": [
    "adf.head()"
   ]
  },
  {
   "cell_type": "code",
   "execution_count": 210,
   "id": "c07257c2",
   "metadata": {},
   "outputs": [
    {
     "data": {
      "text/plain": [
       "9"
      ]
     },
     "execution_count": 210,
     "metadata": {},
     "output_type": "execute_result"
    }
   ],
   "source": [
    "true_label[9510]"
   ]
  },
  {
   "cell_type": "code",
   "execution_count": 190,
   "id": "c3243cb5",
   "metadata": {},
   "outputs": [
    {
     "data": {
      "text/plain": [
       "(200,)"
      ]
     },
     "execution_count": 190,
     "metadata": {},
     "output_type": "execute_result"
    }
   ],
   "source": []
  },
  {
   "cell_type": "code",
   "execution_count": null,
   "id": "51d94321",
   "metadata": {},
   "outputs": [],
   "source": []
  },
  {
   "cell_type": "code",
   "execution_count": null,
   "id": "cbb4b4aa",
   "metadata": {},
   "outputs": [],
   "source": [
    "# Run cleanlab on consensus labels (get_label_quality_function)\n",
    "\n",
    "# High level: how good are all the scores?"
   ]
  },
  {
   "cell_type": "code",
   "execution_count": null,
   "id": "603c4535",
   "metadata": {},
   "outputs": [],
   "source": [
    "# train swin-transformer model"
   ]
  }
 ],
 "metadata": {
  "kernelspec": {
   "display_name": "Python 3 (ipykernel)",
   "language": "python",
   "name": "python3"
  },
  "language_info": {
   "codemirror_mode": {
    "name": "ipython",
    "version": 3
   },
   "file_extension": ".py",
   "mimetype": "text/x-python",
   "name": "python",
   "nbconvert_exporter": "python",
   "pygments_lexer": "ipython3",
   "version": "3.8.13"
  }
 },
 "nbformat": 4,
 "nbformat_minor": 5
}
