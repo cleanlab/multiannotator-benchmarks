{
 "cells": [
  {
   "cell_type": "markdown",
   "id": "bd3aea21",
   "metadata": {},
   "source": [
    "# CL for Multiannotator Data Benchmarking [cifar10h]\n",
    "This notebook uses the results from the ``model_train_pred.ipynb`` notebook to evaluate model performance.\n",
    "\n",
    "Before running this notebook, make sure both cifar10 pngs and cifar10h datasets are downloaded locally:\n",
    "1. ``pip install cifar2png`` #install png installer for cifar10 images\n",
    "2. ``cifar2png cifar10 ./data/cifar10 --name-with-batch-index`` #download the cifar10 png images\n",
<<<<<<< Updated upstream
    "3. ``cd data && git clone https://github.com/jcpeterson/cifar-10h.git`` #download cifar-10h dataset\n",
    "5. Clean directory ``cd cifar10h && mv data/* . rm -rf data && unzip cifar10h-raw`` and unzip ``unzip cifar10-raw.zip && rm cifar10h-raw.zip``\n",
=======
    "3. ``cd data & git clone https://github.com/jcpeterson/cifar-10h.git`` #download cifar-10h dataset\n",
    "5. Unizip ``cifar10h-raw`` and extract files out of ``cifar10-raw`` folder by running `cd cifar-10h/data & unzip cifar10h-raw.zip & cd .. & mv data/* .`\n",
>>>>>>> Stashed changes
    "4. Run ``create_labels_df.ipynb`` to update image paths\n",
    "\n",
    "Notebook creates ``./data/model_data/cifar10_test_consensus_dataset.csv``"
   ]
  },
  {
   "cell_type": "markdown",
   "id": "2a969f20",
   "metadata": {},
   "source": [
    "# 1. Data Loading/Pre Process -- only run once"
   ]
  },
  {
   "cell_type": "code",
<<<<<<< Updated upstream
   "execution_count": 46,
=======
   "execution_count": 1028,
>>>>>>> Stashed changes
   "id": "a08c4f94",
   "metadata": {},
   "outputs": [
    {
     "name": "stdout",
     "output_type": "stream",
     "text": [
      "The autoreload extension is already loaded. To reload it, use:\n",
      "  %reload_ext autoreload\n"
     ]
    }
   ],
   "source": [
    "%load_ext autoreload\n",
    "%autoreload 2\n",
    "\n",
    "import sys\n",
    "import os\n",
    "from pathlib import Path\n",
    "sys.path.insert(0, \"../\")\n",
    "\n",
    "import numpy as np\n",
    "import pandas as pd\n",
    "from sklearn.metrics import roc_auc_score, f1_score, precision_score, recall_score, precision_recall_curve, \\\n",
    "                            roc_curve, accuracy_score, log_loss, precision_recall_fscore_support\n",
    "from matplotlib import pyplot as plt\n",
    "from IPython.display import Image, display\n",
    "import seaborn as sns\n",
    "\n",
    "from scipy import stats\n",
    "\n",
    "# cleanlab imports\n",
    "import cleanlab\n",
<<<<<<< Updated upstream
    "from cleanlab.multiannotator import get_label_quality_multiannotator,get_consensus_label # only in hui wen directory\n",
=======
    "from cleanlab.multiannotator import get_label_quality_multiannotator, get_multiannotator_stats, get_consensus_label # only in hui wen directory\n",
>>>>>>> Stashed changes
    "from cleanlab.rank import get_label_quality_scores, get_label_quality_ensemble_scores\n",
    "from cleanlab.internal.label_quality_utils import get_normalized_entropy\n",
    "from cleanlab.filter import find_label_issues\n",
    "\n",
    "# local imports\n",
    "from utils.eval_metrics import lift_at_k\n",
    "from utils.active_learning_scores import least_confidence\n",
    "# experimental version of label quality ensemble scores with additional weighting schemes\n",
    "from utils.label_quality_ensemble_scores_experimental import get_label_quality_ensemble_scores_experimental\n",
    "\n",
    "path = os.getcwd()\n",
    "pd.set_option('display.max_rows', None)\n",
    "pd.set_option('display.max_columns', None)\n",
    "pd.set_option('display.max_colwidth', None)\n",
    "\n",
    "fig_size_small = (5, 8)\n",
    "fig_size_big = (15,10)"
   ]
  },
  {
   "cell_type": "markdown",
   "id": "69495f73",
   "metadata": {},
   "source": [
    "## Load Cifar10h Data"
   ]
  },
  {
   "cell_type": "code",
<<<<<<< Updated upstream
   "execution_count": 47,
=======
   "execution_count": 1029,
>>>>>>> Stashed changes
   "id": "e5b69b02",
   "metadata": {},
   "outputs": [],
   "source": [
    "# If this line throws an error, make sure you correctly downloaded and unzipped cifar10h-raw data\n",
    "pred_probs_multiannotator = np.load('./data/cifar-10h/cifar10h-probs.npy')\n",
    "c10h_df = pd.read_csv('./data/cifar-10h/cifar10h-raw.csv')\n",
    "c10h_df = c10h_df[c10h_df.cifar10_test_test_idx != -99999] # dropping all attention check trials"
   ]
  },
  {
   "cell_type": "markdown",
   "id": "063e4d8b",
   "metadata": {},
   "source": [
    "#### Restructure dataset into following arrays:\n",
    "- ``c10h_num_datapoints: (N)``, ``c10h_num_annotators: (M)``\n",
    "- ``c10h_labels: (N,M)``\n",
    "- ``c10h_labels_error_mask: (N,M)`` where True is error\n",
    "- ``c10h_annotator_mask: (N,M)`` where True is annotator x anotated that\n",
    "- ``c10h_true_labels: (K=10,000,)``\n",
    "- ``c10h_true_images: (K=10,000,)``"
   ]
  },
  {
   "cell_type": "code",
<<<<<<< Updated upstream
   "execution_count": 48,
=======
   "execution_count": 1030,
>>>>>>> Stashed changes
   "id": "48ad3416",
   "metadata": {},
   "outputs": [],
   "source": [
    "# initialize arrays\n",
    "c10h_num_datapoints = c10h_df['cifar10_test_test_idx'].max() + 1\n",
    "c10h_num_annotators = c10h_df['annotator_id'].max() + 1\n",
    "\n",
    "c10h_labels = np.full((c10h_num_datapoints, c10h_num_annotators), np.nan) # all annotator labels np.full([height, width, 9], np.nan)\n",
    "c10h_labels_error_mask = np.zeros((c10h_num_datapoints, c10h_num_annotators), dtype=bool) # mask of annotator errors\n",
    "c10h_annotator_mask = np.zeros((c10h_num_datapoints, c10h_num_annotators), dtype=bool) # mask of what each person annotated\n",
    "\n",
    "c10h_true_labels = np.zeros((c10h_num_datapoints, ))\n",
    "c10h_true_images = np.empty((c10h_num_datapoints, ) ,dtype=object)\n",
    "\n",
    "c10h_annotator_data = (c10h_labels, c10h_labels_error_mask, c10h_annotator_mask, c10h_true_labels, c10h_true_images)"
   ]
  },
  {
   "cell_type": "code",
<<<<<<< Updated upstream
   "execution_count": 49,
=======
   "execution_count": 1031,
>>>>>>> Stashed changes
   "id": "5c869ae5",
   "metadata": {},
   "outputs": [],
   "source": [
    "# get annotator labels as numpy array (N=labels, M=annotators)\n",
    "for annotator_id in range(c10h_num_annotators):\n",
    "    adf = c10h_df[c10h_df.annotator_id == annotator_id] # 200 annotations per annotator\n",
    "    annotations_idx = adf['cifar10_test_test_idx'].values\n",
    "    annotations = adf['chosen_label'].values\n",
    "    errors = adf['correct_guess'].values\n",
    "    \n",
    "    c10h_labels[annotations_idx, annotator_id] = annotations\n",
    "    c10h_labels_error_mask[annotations_idx, annotator_id] = errors\n",
    "    c10h_annotator_mask[annotations_idx, annotator_id] = True\n",
    "\n",
    "# get true labels as numpy array (N = true labels,)\n",
    "idx_to_label = \\\n",
    "[(idx,label,image) for idx,label,image in zip(c10h_df['cifar10_test_test_idx'],c10h_df['true_label'],c10h_df['image_filename'])]\n",
    "idx_to_label = list(set(idx_to_label))\n",
    "\n",
    "idx = [idx_to_label[0] for idx_to_label in idx_to_label]\n",
    "true_label = [idx_to_label[1] for idx_to_label in idx_to_label]\n",
    "htrue_image = [idx_to_label[2] for idx_to_label in idx_to_label]\n",
    "\n",
    "c10h_true_labels[idx] = true_label\n",
    "c10h_true_images[idx] = htrue_image"
   ]
  },
  {
   "cell_type": "markdown",
   "id": "5d8a8652",
   "metadata": {},
   "source": [
    "#### Helper functions for cifar10h dataset sampling and analysis"
   ]
  },
  {
   "cell_type": "code",
<<<<<<< Updated upstream
   "execution_count": 50,
=======
   "execution_count": 1032,
>>>>>>> Stashed changes
   "id": "86d8c70f",
   "metadata": {},
   "outputs": [],
   "source": [
    "# Get accuracy of individual annotators on the points they labeled\n",
    "def plt_annotator_accuracy(labels_error_mask, annotator_mask):\n",
    "    plt.rcParams[\"figure.figsize\"] = fig_size_small\n",
    "    \n",
    "    annotator_accuracy = labels_error_mask.sum(axis=0) / annotator_mask.sum(axis=0)\n",
    "    plt.boxplot(annotator_accuracy, )\n",
    "    plt.show()\n",
    "\n",
    "    df_describe = pd.DataFrame(annotator_accuracy, columns=['score'])\n",
    "    return df_describe\n",
    "\n",
    "# Returns sample labels/error_mask/annotator_mask where x_drop, y_drop are idxs that are dropped\n",
    "def get_sample_labels(x_drop, y_drop, labels, labels_error_mask, annotator_mask):\n",
    "    s_annotator_mask = annotator_mask.copy()\n",
    "    s_annotator_mask[(x_drop,y_drop)] = 0\n",
    "    s_labels_error_mask = s_annotator_mask & labels_error_mask\n",
    "    s_labels = labels.copy()\n",
    "    np.copyto(s_labels, np.nan, where=(s_annotator_mask==0)) \n",
    "    print('Total idxs dropped: ', annotator_mask.sum() - s_annotator_mask.sum())\n",
    "    return s_labels, s_labels_error_mask, s_annotator_mask\n",
    "\n",
    "# Returns a list of labeled indices to drop (random percent_dropped% of all labels)\n",
    "def get_random_drop(c10h_annotator_mask, percent_dropped=0.4):\n",
    "    x,y = np.where( c10h_annotator_mask == 1)\n",
    "    drop_idx = np.random.choice(np.arange(len(x)), int(len(x)*percent_dropped), replace=False)\n",
    "    x_drop = x[drop_idx]\n",
    "    y_drop = y[drop_idx]\n",
    "    return x_drop, y_drop\n",
    "\n",
    "# Returns a list of labeled indices to drop (random length per row)\n",
    "def get_random_drop_per_row(c10h_annotator_mask):\n",
    "    x,y = np.where(c10h_annotator_mask == 1)\n",
    "    idx_df = pd.DataFrame(zip(x,y),columns=['x','y'])\n",
    "    for x_idx in range(idx_df['x'].max()+1):\n",
    "        num_drop = np.random.randint(1, len(idx_df[idx_df['x'] == x_idx])+1)\n",
    "        idx_df = idx_df.drop(idx_df[idx_df['x'] == x_idx].sample(num_drop).index)\n",
    "    x_drop = idx_df['x'].values\n",
    "    y_drop = idx_df['y'].values\n",
    "    return x_drop, y_drop\n",
    "\n",
    "# def annotator_overlap(idx_to_drop, x_idx, idx_df):\n",
    "#     # get all annotators associated with x_idx\n",
    "#     y_idx = idx_df.iloc[idx_to_drop]['y'].values\n",
    "#     # check to make sure dropping idx will \n",
    "#     for y in y_idx:\n",
    "#         for x in idx_df[idx_df['y'] == y]['x'].values:\n",
    "#             if \n",
    "\n",
    "# # Returns a list of labeled indices to drop while enforcing overlap (random length per row)\n",
    "# def get_random_drop_per_row_enforce_overlap(c10h_annotator_mask):\n",
    "#     x,y = np.where(c10h_annotator_mask == 1)\n",
    "#     idx_df = pd.DataFrame(zip(x,y),columns=['x','y'])\n",
    "#     for x_idx in range(idx_df['x'].max()+1):\n",
    "#         num_drop = np.random.randint(1, len(idx_df[idx_df['x'] == x_idx])+1)\n",
    "#         idx_to_drop = idx_df[idx_df['x'] == x_idx].sample(num_drop).index\n",
    "#         print(idx_to_drop, len(idx_to_drop))\n",
    "#         if annotator_overlap(idx_to_drop, x_idx, idx_df):\n",
    "# #         # test that there is no annotator who never overlapped with another annotator        \n",
    "# #         for y_idx in set(idx_df['y'].values):\n",
    "# #             x = idx_df[idx_df['y'] == y_idx]['x'].to_numpy()\n",
    "# #             assert annotations_per_example[x].sum() > len(x)\n",
    "        \n",
    "#             idx_df = idx_df.drop(idx_to_drop)\n",
    "#     x_drop = idx_df['x'].values\n",
    "#     y_drop = idx_df['y'].values\n",
    "#     return x_drop, y_drop\n",
    "\n",
    "# Returns a list of labeled indices to drop (random percent_dropped% of labels per annotator)\n",
    "def get_random_drop_per_annotator(c10h_annotator_mask, percent_dropped=0.4):\n",
    "    rows_dropped = int(200 * percent_dropped)\n",
    "    print('Total rows dropped per annotator: ', rows_dropped)\n",
    "    x,y = np.where( c10h_annotator_mask == 1)\n",
    "    df_delete = pd.DataFrame(zip(x,y),columns=['x','y'])\n",
    "    df_keep = df_delete.drop(df_delete.groupby('y').sample(n=200 - rows_dropped).index)\n",
    "    x_drop,y_drop = df_keep['x'].values, df_keep['y'].values\n",
    "    return x_drop, y_drop\n",
    "\n",
    "# Returns a list of labeled indices to drop \n",
    "# (Randomly drop until <= max_annotations per example. Try to minimize number of distinct annotators)\n",
    "def get_random_drop_per_row_min_annotators(c10h_annotator_mask, max_annotations = 5):\n",
    "    x,y = np.where(c10h_annotator_mask == 1)\n",
    "    xy = set([(x_idx,y_idx) for x_idx,y_idx in zip(x,y)])\n",
    "    idx_df = pd.DataFrame(zip(x,y),columns=['x','y'])\n",
    "    idx_keep = []\n",
    "    selected_annotators = set()\n",
    "    for x_idx in range(idx_df['x'].max()+1):\n",
    "        Y = idx_df[idx_df['x'] == x_idx]['y']\n",
    "        seen_annotators = set(Y).intersection(selected_annotators)\n",
    "        if len(seen_annotators) < max_annotations: # We need to randomly select more annotators to greedy add\n",
    "            num_to_find = max_annotations - len(seen_annotators)\n",
    "            y_keep = set(np.random.choice(list(set(Y).difference(seen_annotators)), num_to_find, replace=False))\n",
    "            selected_annotators = selected_annotators.union(y_keep)\n",
    "            y_keep = seen_annotators.union(y_keep)\n",
    "        else: # We have enough annotators and need to randomly select annotations out of the guys we have\n",
    "            y_keep = np.random.choice(list(seen_annotators), max_annotations,replace=False)\n",
    "        xy_keep = [(x_idx,y) for y in y_keep]\n",
    "        idx_keep.extend(xy_keep)\n",
    "    xy = xy.difference(set(idx_keep))\n",
    "    x_drop = [xy_idx[0] for xy_idx in xy]\n",
    "    y_drop = [xy_idx[1] for xy_idx in xy]\n",
    "    return x_drop, y_drop"
   ]
  },
  {
   "cell_type": "code",
<<<<<<< Updated upstream
   "execution_count": 51,
   "id": "7b80d4c7",
   "metadata": {},
   "outputs": [],
   "source": [
    "# Returns a list of labeled indices to drop\n",
    "# Selects the worst annotators until criteria are met:\n",
    "#  -every single example has been annotated by at least 1 annotator\n",
    "#  -there is no annotator who never overlapped with another annotator\n",
    "#  -some examples have at least 5 annotations\n",
    "\n",
    "def get_worst_annotators(c10h_annotator_mask, annotator_idxs, max_annotations = 5):\n",
    "    annotations_per_example = np.zeros(c10h_annotator_mask.shape[0])\n",
    "    annotations_per_annotator = np.zeros(c10h_annotator_mask.shape[1]) # dictionary of distinct examples\n",
    "    selected_annotators = set()\n",
    "    \n",
    "    annotator_mask = np.zeros_like(c10h_annotator_mask)    \n",
    "    # set similarity is and operation between two columns\n",
    "     # keep global set of all annotations and and with specific annotator column\n",
    "    \n",
    "    # add first x annotators\n",
    "    num_initial_annotators = 25\n",
    "    for idx in annotator_idxs[:num_initial_annotators]:\n",
    "        x = np.where(c10h_annotator_mask[:,idx] == 1)[0]\n",
    "        annotations_per_example[x] += 1\n",
    "        annotations_per_annotator[idx] = len(x)\n",
    "        selected_annotators.add(idx)\n",
    "        annotator_mask[x, idx] = 1\n",
    "    \n",
    "    # only add other annotators if they share overlap with first x\n",
    "    for idx in annotator_idxs[num_initial_annotators:]:\n",
    "        if annotations_per_example.min() > 0:\n",
    "            print('all examples have at least 1 annotator')\n",
    "            break # test every single ex has at least 1 annotator\n",
    "        \n",
    "        x = np.where(c10h_annotator_mask[:,idx] == 1)[0] # annotator annotations\n",
    "        \n",
    "        # only add annotator if they overlap with current annotations\n",
    "        if annotations_per_example[x].sum() > len(x):\n",
    "            annotations_per_example[x] += 1\n",
    "            annotations_per_annotator[idx] = len(x)\n",
    "            selected_annotators.add(idx)\n",
    "            annotator_mask[x, idx] = 1\n",
    "\n",
    "    # sort annotators based on how much overlap they have with other annotators (sum(#annotations) is a good metric)\n",
    "    # compute average number of annotations per example and don't propose examples\n",
    "    # propose annotator and chose examples to drop (annotator has the most overlap left)\n",
    "    \n",
    "    for ex in range(annotator_mask.shape[0]):\n",
    "        if annotations_per_example[ex] < 3: # ignore dropping when there are very little annotations\n",
    "            continue\n",
    "\n",
    "        annotators = np.where(annotator_mask[ex] == 1)[0] # annotators for example\n",
    "        drop_y = np.random.choice(annotators, len(annotators)-1, replace=False)\n",
    "\n",
    "        for y in drop_y:\n",
    "            if np.random.uniform() > 0.2:\n",
    "                x = np.where(annotator_mask[:,y] == 1)[0]  # annotations for annotator y for all examples\n",
    "                x = np.setdiff1d(x,np.array([ex])) # annotations for annotator y for all examples minus curent example\n",
    "                if annotations_per_example[x].max() > 2: # number of total annotations by our annotator\n",
    "                    annotator_mask[ex][y] = 0\n",
    "                    annotations_per_annotator[y] -= 1\n",
    "                    annotations_per_example[ex] -= 1\n",
    "\n",
    "    x_drop, y_drop = np.where(annotator_mask == 0)\n",
    "    \n",
    "    print('num_worst_annotators_selected', len(selected_annotators))\n",
    "    return x_drop, y_drop"
=======
   "execution_count": 1033,
   "id": "faeee08a",
   "metadata": {},
   "outputs": [],
   "source": [
    "# def get_worst_annotators(c10h_annotator_mask, annotator_idxs, max_annotations = 5):\n",
    "#     x,y = np.where(c10h_annotator_mask == 1)\n",
    "#     xy = set([(x_idx,y_idx) for x_idx,y_idx in zip(x,y)])\n",
    "\n",
    "#     annotations_per_example = np.zeros(c10h_annotator_mask.shape[0])\n",
    "#     annotations_per_annotator = np.zeros(c10h_annotator_mask.shape[1])\n",
    "#     selected_annotators = set()\n",
    "#     idx_keep = []\n",
    "    \n",
    "#     annotator_mask = np.zeros_like(c10h_annotator_mask)    \n",
    "#     # set similarity is and operation between two columns\n",
    "#      # keep global set of all annotations and and with specific annotator column\n",
    "    \n",
    "#     # add first x annotators\n",
    "#     num_initial_annotators = 10\n",
    "#     for idx in annotator_idxs[:num_initial_annotators]:\n",
    "#         if annotations_per_example.min() > 0:\n",
    "#             break\n",
    "#         x = np.where(c10h_annotator_mask[:,idx] == 1)[0]\n",
    "#         annotations_per_example[x] += 1\n",
    "#         annotations_per_annotator[idx] = len(x)\n",
    "#         selected_annotators.add(idx)\n",
    "        \n",
    "#         annotator_mask[x, idx] = 1\n",
    "#         xy_keep = [(int(x_idx), idx) for x_idx in x]\n",
    "#         idx_keep.extend(xy_keep)\n",
    "    \n",
    "#     # only add other annotators if they share overlap with first x\n",
    "#     for idx in annotator_idxs[num_initial_annotators:]:\n",
    "#         if annotations_per_example.min() > 0:\n",
    "#             print('all examples have at least 1 annotator')\n",
    "#             break # test every single ex has at least 1 annotator\n",
    "        \n",
    "#         x = np.where(c10h_annotator_mask[:,idx] == 1)[0] # annotator annotations\n",
    "        \n",
    "#         # only add annotator if they overlap with current annotations\n",
    "#         if annotations_per_example[x].sum() > len(x):\n",
    "#             annotations_per_example[x] += 1\n",
    "#             annotations_per_annotator[idx] = len(x)\n",
    "#             selected_annotators.add(idx)\n",
    "                    \n",
    "#             annotator_mask[x, idx] = 1\n",
    "#             xy_keep = [(int(x_idx), idx) for x_idx in x]\n",
    "#             idx_keep.extend(xy_keep)\n",
    "        \n",
    "#     xy = xy.difference(set(idx_keep))\n",
    "#     x_drop = [xy_idx[0] for xy_idx in xy]\n",
    "#     y_drop = [xy_idx[1] for xy_idx in xy]\n",
    "\n",
    "# # sort annotators based on how much overlap they have with other annotators (sum(#annotations) is a good metric)\n",
    "# # compute average number of annotations per example and don't propose examples\n",
    "# # propose annotator and chose examples to drop (annotator has the most overlap left)\n",
    "\n",
    "#     # try to evenly drop annotators while enforcing overlap (skip examples that have 1-2 annotations)\n",
    "#     for ex in range(annotator_mask.shape[0]):\n",
    "#         if annotations_per_example[ex] < 3: # ignore dropping when there are very little examples\n",
    "#             continue\n",
    "#         annotators = np.where(annotator_mask[ex] == 1)[0]\n",
    "# #         extra_drop = np.random.binomial(1, 0.2)\n",
    "# #         drop_y = np.random.choice(annotators, len(annotators)-1-extra_drop, replace=False)\n",
    "#         drop_y = np.random.choice(annotators, len(annotators)-1, replace=False)\n",
    "\n",
    "# #         num_drop = np.random.randint(1, len(x)) #len x == annotations_per_example(x)\n",
    "# #         drop_idx = np.random.choice(x, num_drop, replace=False)\n",
    "\n",
    "#         for y in drop_y:\n",
    "#             x = np.where(annotator_mask[:,y] == 1)[0]  # annotations for annotator y for all examples\n",
    "#             x = np.setdiff1d(x,np.array([ex])) # annotations for annotator y for all examples minus curent example\n",
    "#             if annotations_per_example[x].sum() > annotations_per_annotator[y] - 1: # number of total annotations by our annotator\n",
    "#                 annotator_mask[ex][y] = 0\n",
    "    \n",
    "#     x_drop, y_drop = np.where(annotator_mask == 0)\n",
    "\n",
    "            \n",
    "            \n",
    "# #     idx_df = pd.DataFrame(zip([x[0] for x in idx_keep],[x[1] for x in idx_keep]),columns=['x','y'])\n",
    "# #     drop_idxs = []\n",
    "# #     for x_idx in range(idx_df['x'].max()+1):\n",
    "# #         num_drop = np.random.randint(1, len(idx_df[idx_df['x'] == x_idx])+1)\n",
    "# #         drop_idx = idx_df[idx_df['x'] == x_idx].sample(num_drop).index\n",
    "# #         y_idxs = idx_df.iloc[drop_idx]['y'].values\n",
    "# #         can_drop = True\n",
    "# #         for y_idx in y_idxs:\n",
    "# #             annotator_annotations = idx_df[idx_df['y'] == y_idx]['x'].to_numpy()\n",
    "# #             if annotations_per_example[annotator_annotations].sum() <= len(annotator_annotations):\n",
    "# #                 can_drop = False\n",
    "# #         if can_drop:\n",
    "# #             drop_idxs.extend(drop_idx)\n",
    "# #     idx_df = idx_df.drop(drop_idxs)\n",
    "        \n",
    "# #     x_drop = list(idx_df['x'].values) + x_drop\n",
    "# #     y_drop = list(idx_df['y'].values) + y_drop\n",
    "    \n",
    "#     print('num_worst_annotators_selected', len(selected_annotators))\n",
    "#     print('annotators_selected\\n', selected_annotators)\n",
    "#     return x_drop, y_drop"
>>>>>>> Stashed changes
   ]
  },
  {
   "cell_type": "markdown",
   "id": "25d4f11f",
   "metadata": {},
   "source": [
    "#### Helper functions for getting and analyzing consensus labels\n",
    "- consensus_labels are determined based on the individual labels of all annotators"
   ]
  },
  {
   "cell_type": "code",
<<<<<<< Updated upstream
   "execution_count": 52,
=======
   "execution_count": 1034,
>>>>>>> Stashed changes
   "id": "cdfa1034",
   "metadata": {},
   "outputs": [],
   "source": [
    "# Determines the consensus_labels\n",
    "# def get_consensus_labels(labels_multiannotator, pred_probs=None):\n",
    "    \n",
    "#     labels = np.array(labels_multiannotator) # needs to be numpy\n",
    "#     if pred_probs is None:\n",
    "#         pred_counts = labels.sum(axis=1)\n",
    "#         pred_probs = labels / pred_counts[:,np.newaxis]\n",
    "        \n",
    "#     mode_labels_multiannotator = labels_multiannotator.mode(axis=1)\n",
    "#     consensus_labels = []\n",
    "#     for i in range(len(mode_labels_multiannotator)):\n",
    "#         consensus_labels.append( int(mode_labels_multiannotator.iloc[i][pred_probs[i][mode_labels_multiannotator.iloc[i].dropna().astype(int).to_numpy()\n",
    "#                     ].argmax()\n",
    "#                 ]\n",
    "#             )\n",
    "#         )\n",
    "#     return np.array(consensus_labels)\n",
    "\n",
    "# Get consensus labels and calculate accuracy, precision, recall, f1\n",
    "def get_consensus_label_accuracy(labels, pred_probs, true_labels):\n",
    "    labels_df = pd.DataFrame(labels)\n",
    "    consensus_labels = get_consensus_label(labels_df, pred_probs)\n",
    "    consensus_labels_accuracy = (true_labels == consensus_labels).sum() / 10000\n",
    "    print('Consensus label accuracy: ', consensus_labels_accuracy)\n",
    "    print('\\nPer class scores:')\n",
    "    p, r, f1, _ = precision_recall_fscore_support(true_labels, consensus_labels)\n",
    "    results_df = pd.DataFrame(zip(p,r,f1), columns=['precision', 'recall', 'f1'])\n",
    "    return results_df\n",
    "\n",
    "# Plots the distribution of annotator agreement for correct/incorrect labels\n",
    "def plot_labels_multiannotator(labels, true_labels, pred_probs_multiannotator=None):\n",
    "    plt.rcParams[\"figure.figsize\"] = fig_size_small\n",
    "    \n",
    "    labels_multiannotator = pd.DataFrame(labels)\n",
    "    \n",
    "    if pred_probs_multiannotator is None:\n",
    "        pred_counts = labels.sum(axis=1)\n",
    "        pred_probs_multiannotator = labels / pred_counts[:,np.newaxis]\n",
    "\n",
    "    consensus_labels = get_consensus_label(labels_multiannotator, pred_probs_multiannotator)\n",
    "    consensus_labels_tile = np.repeat(consensus_labels[:,np.newaxis], labels_multiannotator.shape[1], axis=1)\n",
    "    c10h_num_annotators_per_ex = np.count_nonzero(~np.isnan(labels), axis=1)\n",
    "    annotator_agreement = (labels_multiannotator == consensus_labels_tile) # Number of annotators matches consensus\n",
    "    annotator_agreement = annotator_agreement.sum(axis=1)\n",
    "    bin_consensus = (true_labels == consensus_labels) + 0\n",
    "    consensus_accuracy = pd.DataFrame(zip(annotator_agreement,bin_consensus), columns=['annotator_agreement','bin_consense'])\n",
    "    _ = consensus_accuracy.boxplot(by=['bin_consense'], figsize=(7,7))\n",
    "    consensus_accuracy = consensus_accuracy.groupby('bin_consense')[['annotator_agreement']].sum().reset_index()\n",
    "\n",
    "    return consensus_accuracy\n",
    "\n",
    "# Returns spearman correlation given two scores, checks for nans\n",
    "def get_spearman_correlation(x, y):\n",
    "    num_nans_x = np.sum(np.isnan(x))\n",
    "    num_nans_y = np.sum(np.isnan(y))\n",
    "    \n",
    "    if num_nans_x > 0:\n",
    "        x = np.nan_to_num(x)\n",
    "        print('First param contains nans. Replacing', num_nans_x, 'nans with 0')\n",
    "    if num_nans_y > 0:\n",
    "        y = np.nan_to_num(y)\n",
    "        print('First param contains nans. Replacing', num_nans_y, 'nans with 0')\n",
    "\n",
    "    return stats.spearmanr(x, y)"
   ]
  },
  {
   "cell_type": "markdown",
   "id": "0e059999",
   "metadata": {},
   "source": [
    "## Load Cifar10 test and model output data\n",
    "- model can be trained/predictions can be generated with the ``model_train_pred.ipynb`` file"
   ]
  },
  {
   "cell_type": "code",
<<<<<<< Updated upstream
   "execution_count": 53,
=======
   "execution_count": 1035,
>>>>>>> Stashed changes
   "id": "cf25dd1f",
   "metadata": {},
   "outputs": [],
   "source": [
    "# dictionaries to map to display name\n",
    "method_adjust_pred_probs_display_dict = {\n",
    "    \"self_confidence-False\": \"Self Confidence\",\n",
    "    \"self_confidence-True\": \"Adjusted Self Confidence\",\n",
    "    \"normalized_margin-False\": \"Normalized Margin\",\n",
    "    \"normalized_margin-True\": \"Adjusted Normalized Margin\",\n",
    "    \"confidence_weighted_entropy-False\": \"Confidence Weighted Entropy\",\n",
    "    \"entropy-False\": \"Entropy\",\n",
    "    \"least_confidence-False\": \"Least Confidence\",\n",
    "}\n",
    "\n",
    "model_display_name_dict = {\"resnet18\": \"ResNet-18\",}\n",
    "\n",
    "# args to pass to get_label_quality_scores()\n",
    "score_params = \\\n",
    "[\n",
    "    (\"self_confidence\", False),\n",
    "    (\"self_confidence\", True),\n",
    "    (\"normalized_margin\", False),\n",
    "    (\"normalized_margin\", True),\n",
    "    (\"confidence_weighted_entropy\", False)\n",
    "]\n",
    "\n",
    "# args to pass to get_label_quality_scores()\n",
    "# TODO: add more consensus metrics\n",
    "score_params_consensus = \\\n",
    "[\n",
    "    (\"majority\", False),\n",
    "#     (\"dawid-skeen\", False),\n",
    "]"
   ]
  },
  {
   "cell_type": "markdown",
   "id": "e0cb5a26",
   "metadata": {},
   "source": [
    "#### Helper functions to match label indices, calculate and plot model performance"
   ]
  },
  {
   "cell_type": "code",
<<<<<<< Updated upstream
   "execution_count": 54,
=======
   "execution_count": 1036,
>>>>>>> Stashed changes
   "id": "8d9460e7",
   "metadata": {},
   "outputs": [],
   "source": [
    "# Matches indices of model trained data to cifar10h annotation dataset\n",
    "def match_label_indices_old(numpy_out_folder, c10h_annotator_data, model):\n",
    "    # read numpy files from model_train_pred\n",
    "    pred_probs = np.load(numpy_out_folder + \"test_pred_probs_\" + model + \".npy\")\n",
    "    pred_labels = np.load(numpy_out_folder + \"test_preds_\" + model + \".npy\")\n",
    "    true_labels = np.load(numpy_out_folder + \"test_labels_\" + model + \".npy\")\n",
    "    images = np.load(numpy_out_folder + \"test_images_\" + model + \".npy\", allow_pickle=True)\n",
    "    idxs = [int(image.split('/')[-1][-8:-4]) for image in images]\n",
    "    \n",
    "    # set all cifar10h annotator data to the correct indexing\n",
    "    c10h_labels, c10h_labels_error_mask, c10h_annotator_mask, c10h_true_labels, c10h_true_images = c10h_annotator_data\n",
    "    \n",
    "    c10h_true_labels = c10h_true_labels[idxs]\n",
    "    c10h_true_images = c10h_true_images[idxs]\n",
    "    c10h_labels = c10h_labels[idxs]\n",
    "    c10h_labels_error_mask = c10h_labels_error_mask[idxs]\n",
    "    c10h_annotator_mask =  c10h_annotator_mask[idxs]\n",
    "    \n",
    "    # check cifar10h ordering matches what our model predicted on\n",
    "    assert np.array_equal(c10h_true_labels, true_labels)\n",
    " \n",
    "    c10h_annotator_data = (c10h_labels, c10h_labels_error_mask, c10h_annotator_mask, c10h_true_labels, c10h_true_images)\n",
    "    c10_model_data = (pred_probs, pred_labels, true_labels, images)\n",
    "    \n",
    "    return c10_model_data, c10h_annotator_data\n",
    "\n",
    "# Matches indices of model trained data to cifar10h annotation dataset\n",
    "def match_label_indices(numpy_out_folder, c10h_annotator_data):\n",
    "    # read numpy files from model_train_pred\n",
    "    pred_probs = np.load(numpy_out_folder + \"pred_probs.npy\")\n",
    "    pred_labels = np.load(numpy_out_folder + \"true_labels.npy\")\n",
    "    true_labels = np.load(numpy_out_folder + \"labels.npy\")\n",
    "    images = np.load(numpy_out_folder + \"images.npy\", allow_pickle=True)\n",
    "    idxs = [int(image.split('/')[-1][-8:-4]) for image in images]\n",
    "    \n",
    "    print(idxs[:10])\n",
    "    print(images[:10])\n",
    "    # set all cifar10h annotator data to the correct indexing\n",
    "    c10h_labels, c10h_labels_error_mask, c10h_annotator_mask, c10h_true_labels, c10h_true_images = c10h_annotator_data\n",
    "    \n",
    "    print(c10h_true_images[:10])\n",
    "    c10h_true_labels = c10h_true_labels[idxs]\n",
    "    c10h_true_images = c10h_true_images[idxs]\n",
    "    c10h_labels = c10h_labels[idxs]\n",
    "    c10h_labels_error_mask = c10h_labels_error_mask[idxs]\n",
    "    c10h_annotator_mask =  c10h_annotator_mask[idxs]\n",
    "    \n",
    "    # check cifar10h ordering matches what our model predicted on\n",
    "    assert np.array_equal(c10h_true_labels, true_labels)\n",
    " \n",
    "    c10h_annotator_data = (c10h_labels, c10h_labels_error_mask, c10h_annotator_mask, c10h_true_labels, c10h_true_images)\n",
    "    c10_model_data = (pred_probs, pred_labels, true_labels, images)\n",
    "    \n",
    "    return c10_model_data, c10h_annotator_data\n",
    "\n",
    "\n",
    "#c10h true labels passed for assertion (checks idx just in case)\n",
    "def benchmark_results_base(labels, true_labels, score_params, model):\n",
    "    plt.rcParams[\"figure.figsize\"] = fig_size_big\n",
    "        \n",
    "    # create boolean mask of label errors\n",
    "    label_errors_target = labels != true_labels\n",
    "    \n",
    "    results = []\n",
    "    results_list = []\n",
    "\n",
    "    for score_param in score_params:\n",
    "        method, adjust_pred_probs = score_param\n",
    "        # compute scores\n",
    "        label_quality_scores = get_label_quality_scores(labels=labels, pred_probs=pred_probs, method=method, adjust_pred_probs=adjust_pred_probs)\n",
    "        # compute accuracy of detecting label errors\n",
    "        auroc = roc_auc_score(label_errors_target, 1 - label_quality_scores)\n",
    "        # compute Lift@K evaluation metric\n",
    "        lift_at_k_dict = {}\n",
    "        for k in range(1000, 11000, 1000):\n",
    "            lift_at_k_dict[f\"lift_at_{k}\"] = lift_at_k(label_errors_target, 1 - label_quality_scores, k=k)\n",
    "        # save results\n",
    "        results = {\n",
    "            \"dataset\": \"cifar10\",\n",
    "            \"model\": model,\n",
    "            \"noise_config\": \"nan\",\n",
    "            \"method\": method,\n",
    "            \"adjust_pred_probs\": adjust_pred_probs,\n",
    "            \"auroc\": auroc\n",
    "        }\n",
    "        # add the lift at k metrics\n",
    "        results.update(lift_at_k_dict)\n",
    "        # save results\n",
    "        results_list.append(results)\n",
    "\n",
    "        # compute precision-recall curve using label quality scores\n",
    "        precision, recall, thresholds = precision_recall_curve(label_errors_target, 1 - label_quality_scores)\n",
    "\n",
    "        # compute au-roc curve using label quality scores\n",
    "        fpr, tpr, thresholds = roc_curve(label_errors_target,  1 - label_quality_scores)\n",
    "\n",
    "        precision_recall_curve_results = {\n",
    "            \"method\": method,\n",
    "            \"adjust_pred_probs\": adjust_pred_probs,\n",
    "            \"dataset\": \"cifar10\",\n",
    "            \"model\": model,\n",
    "            \"label_quality_scores\": label_quality_scores,\n",
    "            \"precision\": precision,\n",
    "            \"recall\": recall,\n",
    "            \"thresholds\": thresholds\n",
    "        }\n",
    "        \n",
    "        # plot prc\n",
    "        plt.subplot(1, 2, 1)\n",
    "        plt.plot(recall, precision, label=f\"{method}-{str(adjust_pred_probs)}\")\n",
    "        plt.xlabel(\"Recall\", fontsize=14)\n",
    "        plt.ylabel(\"Precision\", fontsize=14)\n",
    "        plt.title(\"Precision-Recall Curve: Label Error Detection on CIFAR-10 \\n Model: resnet-18\", fontsize=14, fontweight=\"bold\")\n",
    "        plt.legend()\n",
    "\n",
    "        plt.subplot(1, 2, 2)\n",
    "        plt.plot(fpr, tpr, label=f\"{method}-{str(adjust_pred_probs)}\")\n",
    "        plt.xlabel(\"False Positive Rate\", fontsize=14)\n",
    "        plt.ylabel(\"True Positive Rate\", fontsize=14)\n",
    "        plt.title(\"AU ROC Curve: Label Error Detection on CIFAR-10 \\n Model: resnet-18\", fontsize=14, fontweight=\"bold\")\n",
    "        plt.legend()\n",
    "        \n",
    "    return results_list, precision_recall_curve_results\n",
    "\n",
    "# TODO: add back in adjusted_pred_probs once multiannotator has that param\n",
    "def benchmark_results_annotators(c10h_labels, c10h_true_labels, score_params, model):\n",
    "    plt.rcParams[\"figure.figsize\"] = fig_size_big    \n",
    "    results = []\n",
    "    results_list = []\n",
    "    \n",
    "    c10h_labels = pd.DataFrame(c10h_labels)\n",
    "\n",
    "    for score_param in score_params:\n",
    "        method, adjust_pred_probs = score_param\n",
    "\n",
    "        label_quality_multiannotator, _ = get_label_quality_multiannotator(c10h_labels, pred_probs, consensus_method=method, return_annotator_stats = True, verbose=False)\n",
    "        # create boolean mask of label errors\n",
    "        labels = label_quality_multiannotator['consensus_label'] \n",
    "        label_errors_target = labels != c10h_true_labels # labels can change to annotator labels!!\n",
    "        # compute scores\n",
    "        label_quality_scores = label_quality_multiannotator['quality_of_consensus']\n",
    "        # compute accuracy of detecting label errors\n",
    "        auroc = roc_auc_score(label_errors_target, 1 - label_quality_scores)\n",
    "        # compute Lift@K evaluation metric\n",
    "        lift_at_k_dict = {}\n",
    "        for k in range(1000, 11000, 1000):\n",
    "            lift_at_k_dict[f\"lift_at_{k}\"] = lift_at_k(label_errors_target, 1 - label_quality_scores, k=k)\n",
    "        # save results\n",
    "        results = {\n",
    "            \"dataset\": \"cifar10\",\n",
    "            \"model\": model,\n",
    "            \"noise_config\": \"nan\",\n",
    "            \"method\": method,\n",
    "            \"adjust_pred_probs\": adjust_pred_probs,\n",
    "            \"auroc\": auroc\n",
    "        }\n",
    "        # add the lift at k metrics\n",
    "        results.update(lift_at_k_dict)\n",
    "        # save results\n",
    "        results_list.append(results)\n",
    "\n",
    "        # compute precision-recall curve using label quality scores\n",
    "        precision, recall, thresholds = precision_recall_curve(label_errors_target, 1 - label_quality_scores)\n",
    "\n",
    "        # compute au-roc curve using label quality scores\n",
    "        fpr, tpr, thresholds = roc_curve(label_errors_target,  1 - label_quality_scores)\n",
    "\n",
    "        precision_recall_curve_results = {\n",
    "            \"method\": method,\n",
    "            \"adjust_pred_probs\": adjust_pred_probs,\n",
    "            \"dataset\": \"cifar10\",\n",
    "            \"model\": model,\n",
    "            \"label_quality_scores\": label_quality_scores,\n",
    "            \"precision\": precision,\n",
    "            \"recall\": recall,\n",
    "            \"thresholds\": thresholds\n",
    "        }\n",
    "        \n",
    "        # plot prc\n",
    "        plt.subplot(1, 2, 1)\n",
    "        plt.plot(recall, precision, label=f\"{method}-{str(adjust_pred_probs)}\")\n",
    "        plt.xlabel(\"Recall\", fontsize=14)\n",
    "        plt.ylabel(\"Precision\", fontsize=14)\n",
    "        plt.title(\"Precision-Recall Curve \\n Model: resnet-18\", fontsize=14, fontweight=\"bold\")\n",
    "        plt.legend()\n",
    "\n",
    "        plt.subplot(1, 2, 2)\n",
    "        plt.plot(fpr, tpr, label=f\"{method}-{str(adjust_pred_probs)}\")\n",
    "        plt.xlabel(\"False Positive Rate\", fontsize=14)\n",
    "        plt.ylabel(\"True Positive Rate\", fontsize=14)\n",
    "        plt.title(\"AU ROC Curve \\n Model: resnet-18\", fontsize=14, fontweight=\"bold\")\n",
    "        plt.legend()\n",
    "        \n",
    "    return results_list, precision_recall_curve_results"
   ]
  },
  {
   "cell_type": "markdown",
   "id": "830368a0",
   "metadata": {},
   "source": [
    "### Load cifar10test and model output data [this does indexing]"
   ]
  },
  {
   "cell_type": "code",
<<<<<<< Updated upstream
   "execution_count": 55,
=======
   "execution_count": 1037,
>>>>>>> Stashed changes
   "id": "2709d110",
   "metadata": {},
   "outputs": [],
   "source": [
    "# # get data\n",
    "# model_folder = 'model_data_070622'\n",
    "# numpy_out_folder = './data/' + model_folder + '/' # folder containing model train data\n",
    "# model = \"resnet18\" # can also be: \"swin_base_patch4_window7_224\"\n",
    "# c10_model_data, c10h_annotator_data = match_label_indices_old(numpy_out_folder, c10h_annotator_data, model)\n",
    "\n",
    "# # unpack fixed indices\n",
    "# c10h_labels, c10h_labels_error_mask, c10h_annotator_mask, c10h_true_labels, c10h_true_images = c10h_annotator_data\n",
    "# pred_probs, pred_labels, true_labels, images = c10_model_data"
   ]
  },
  {
   "cell_type": "code",
   "execution_count": null,
   "id": "a877f129",
   "metadata": {},
   "outputs": [],
   "source": []
  },
  {
   "cell_type": "markdown",
   "id": "b00ec7fe",
   "metadata": {},
   "source": [
    "### Optional: Drop out annotators from data\n",
    "- Use either ``get_random_drop_per_annotator()``, ``get_random_drop_per_row_min_annotators()``, ``get_random_drop_per_row()``, ``get_random_drop()``\n",
    "- TODO: ``get_random_drop_per_row()`` very slow, needs to be optimized with lambda\n",
    "- TODO: Fix loopy logic in ``get_random_drop_per_row_min_annotators()``"
   ]
  },
  {
   "cell_type": "markdown",
<<<<<<< Updated upstream
   "id": "0078ed8c",
=======
   "id": "51a644c6",
>>>>>>> Stashed changes
   "metadata": {},
   "source": [
    "#### set to select worst annotators until criteria met"
   ]
  },
  {
   "cell_type": "code",
<<<<<<< Updated upstream
   "execution_count": 56,
   "id": "5bbe58b0",
   "metadata": {},
   "outputs": [
    {
     "data": {
      "image/png": "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\n",
      "text/plain": [
       "<Figure size 360x576 with 1 Axes>"
      ]
     },
     "metadata": {
      "needs_background": "light"
     },
     "output_type": "display_data"
    },
    {
     "name": "stdout",
     "output_type": "stream",
     "text": [
      "all examples have at least 1 annotator\n",
      "num_worst_annotators_selected 511\n",
      "Total idxs dropped:  485771\n",
      "Make sure 10 <= max_annotations and 1 > 0: \n",
      "(10000, 511) (10000, 511)\n"
     ]
    },
    {
     "data": {
      "image/png": "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\n",
      "text/plain": [
       "<Figure size 360x576 with 1 Axes>"
      ]
     },
     "metadata": {
      "needs_background": "light"
     },
     "output_type": "display_data"
    },
    {
     "name": "stdout",
     "output_type": "stream",
     "text": [
      "Consensus label accuracy:  0.9346\n"
     ]
    }
   ],
   "source": [
    "# get annotator accuracy\n",
    "annotator_accuracy_df = plt_annotator_accuracy(c10h_labels_error_mask, c10h_annotator_mask).sort_values(by='score')\n",
    "annotator_idxs = annotator_accuracy_df.index.values.tolist()\n",
    "\n",
    "x_drop, y_drop = get_worst_annotators(c10h_annotator_mask, annotator_idxs, 5)\n",
    "c10h_labels, c10h_labels_error_mask, c10h_annotator_mask = \\\n",
    "                    get_sample_labels(x_drop, y_drop, c10h_labels, c10h_labels_error_mask, c10h_annotator_mask)\n",
=======
   "execution_count": 1038,
   "id": "914217d9",
   "metadata": {},
   "outputs": [],
   "source": [
    "# Returns a list of labeled indices to drop\n",
    "# Selects the worst annotators until criteria are met:\n",
    "#  -every single example has been annotated by at least 1 annotator\n",
    "#  -there is no annotator who never overlapped with another annotator\n",
    "#  -some examples have at least 5 annotations\n",
>>>>>>> Stashed changes
    "\n",
    "# NOTES\n",
    "#         x_less_than_max = np.where(annotations_per_example < max_annotations)[0]\n",
    "#         x = np.intersect1d(x,x_less_than_max)\n",
    "\n",
<<<<<<< Updated upstream
    "# drop all empty annotators\n",
    "drop_axis = c10h_labels.copy()\n",
    "c10h_labels = c10h_labels[:, ~np.isnan(drop_axis).all(axis=0)]\n",
    "c10h_labels_error_mask = c10h_labels_error_mask[:, ~np.isnan(drop_axis).all(axis=0)]\n",
    "c10h_annotator_mask = c10h_annotator_mask[:, ~np.isnan(drop_axis).all(axis=0)]\n",
    "print(c10h_labels.shape, c10h_annotator_mask.shape)\n",
    "\n",
    "# get new annotator accuracy\n",
    "annotator_accuracy_df = plt_annotator_accuracy(c10h_labels_error_mask,  c10h_annotator_mask).sort_values(by='score')\n",
    "annotator_accuracy_df.describe()\n",
    "consensus_labels = get_consensus_label(pd.DataFrame(c10h_labels))\n",
    "print('Consensus label accuracy: ', (c10h_true_labels == consensus_labels).sum() / 10000)"
=======
    "def get_worst_annotators(c10h_annotator_mask, annotator_idxs, max_annotations = 5):\n",
    "    annotations_per_example = np.zeros(c10h_annotator_mask.shape[0])\n",
    "    annotations_per_annotator = np.zeros(c10h_annotator_mask.shape[1]) # dictionary of distinct examples\n",
    "    selected_annotators = set()\n",
    "    \n",
    "    annotator_mask = np.zeros_like(c10h_annotator_mask)    \n",
    "    # set similarity is and operation between two columns\n",
    "     # keep global set of all annotations and and with specific annotator column\n",
    "    \n",
    "    # add first x annotators\n",
    "    num_initial_annotators = 20\n",
    "    for idx in annotator_idxs[:num_initial_annotators]:\n",
    "        x = np.where(c10h_annotator_mask[:,idx] == 1)[0]\n",
    "        annotations_per_example[x] += 1\n",
    "        annotations_per_annotator[idx] = len(x)\n",
    "        selected_annotators.add(idx)\n",
    "        annotator_mask[x, idx] = 1\n",
    "    \n",
    "    # only add other annotators if they share overlap with first x\n",
    "    for idx in annotator_idxs[num_initial_annotators:]:\n",
    "        if annotations_per_example.min() > 0:\n",
    "            print('all examples have at least 1 annotator')\n",
    "            break # test every single ex has at least 1 annotator\n",
    "        \n",
    "        x = np.where(c10h_annotator_mask[:,idx] == 1)[0] # annotator annotations\n",
    "        \n",
    "        # only add annotator if they overlap with current annotations\n",
    "        if annotations_per_example[x].sum() > len(x):\n",
    "            annotations_per_example[x] += 1\n",
    "            annotations_per_annotator[idx] = len(x)\n",
    "            selected_annotators.add(idx)\n",
    "            annotator_mask[x, idx] = 1\n",
    "\n",
    "    # sort annotators based on how much overlap they have with other annotators (sum(#annotations) is a good metric)\n",
    "    # compute average number of annotations per example and don't propose examples\n",
    "    # propose annotator and chose examples to drop (annotator has the most overlap left)\n",
    "    \n",
    "    for ex in range(annotator_mask.shape[0]):\n",
    "        if annotations_per_example[ex] < 3: # ignore dropping when there are very little annotations\n",
    "            continue\n",
    "\n",
    "        annotators = np.where(annotator_mask[ex] == 1)[0] # annotators for example\n",
    "        drop_y = np.random.choice(annotators, len(annotators)-1, replace=False)\n",
    "\n",
    "        for y in drop_y:\n",
    "            if np.random.uniform() > 0.2:\n",
    "                x = np.where(annotator_mask[:,y] == 1)[0]  # annotations for annotator y for all examples\n",
    "                x = np.setdiff1d(x,np.array([ex])) # annotations for annotator y for all examples minus curent example\n",
    "                if annotations_per_example[x].max() > 2: # number of total annotations by our annotator\n",
    "                    annotator_mask[ex][y] = 0\n",
    "                    annotations_per_annotator[y] -= 1\n",
    "                    annotations_per_example[ex] -= 1\n",
    "\n",
    "    x_drop, y_drop = np.where(annotator_mask == 0)\n",
    "    \n",
    "    print('num_worst_annotators_selected', len(selected_annotators))\n",
    "    return x_drop, y_drop"
>>>>>>> Stashed changes
   ]
  },
  {
   "cell_type": "code",
<<<<<<< Updated upstream
   "execution_count": 57,
   "id": "7c937a25",
   "metadata": {},
   "outputs": [],
   "source": [
    "# check conditions met\n",
    "for col in range(c10h_annotator_mask.shape[1]):\n",
    "    annotator = np.where(c10h_annotator_mask[:,col] == 1)[0]\n",
    "    intersects = False\n",
    "    for j in range(c10h_annotator_mask.shape[1]):\n",
    "        if j == col:\n",
    "            continue\n",
    "        annotator2 = np.where(c10h_annotator_mask[:,j] == 1)[0]\n",
    "        if len(np.intersect1d(annotator, annotator2)) > 0:\n",
    "            intersects = True\n",
    "    if not intersects:\n",
    "        print(f'annotator {col} does not intersect with any other annotator')"
   ]
  },
  {
   "cell_type": "code",
   "execution_count": 58,
   "id": "858a8a59",
=======
   "execution_count": 1039,
   "id": "991c21c1",
>>>>>>> Stashed changes
   "metadata": {},
   "outputs": [
    {
     "name": "stdout",
     "output_type": "stream",
     "text": [
      "2     2980\n",
      "3     2532\n",
      "1     1670\n",
      "4     1563\n",
      "5      787\n",
      "6      317\n",
      "7      106\n",
      "8       35\n",
      "9        8\n",
      "10       2\n",
      "dtype: int64\n"
     ]
    },
    {
     "data": {
      "image/png": "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\n",
      "text/plain": [
       "<Figure size 360x576 with 1 Axes>"
      ]
     },
<<<<<<< Updated upstream
     "execution_count": 58,
     "metadata": {},
     "output_type": "execute_result"
    },
    {
     "data": {
      "image/png": "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\n",
=======
     "metadata": {
      "needs_background": "light"
     },
     "output_type": "display_data"
    },
    {
     "name": "stdout",
     "output_type": "stream",
     "text": [
      "all examples have at least 1 annotator\n",
      "num_worst_annotators_selected 501\n",
      "Total idxs dropped:  486408\n",
      "Make sure 10 <= max_annotations and 1 > 0: \n",
      "(10000, 501) (10000, 501)\n"
     ]
    },
    {
     "data": {
      "image/png": "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\n",
>>>>>>> Stashed changes
      "text/plain": [
       "<Figure size 360x576 with 1 Axes>"
      ]
     },
     "metadata": {
      "needs_background": "light"
     },
     "output_type": "display_data"
    },
    {
     "name": "stdout",
     "output_type": "stream",
     "text": [
      "Consensus label accuracy:  0.9398\n"
     ]
    }
   ],
   "source": [
<<<<<<< Updated upstream
    "# get stats\n",
    "print(pd.DataFrame(c10h_annotator_mask.sum(axis=1)).value_counts())\n",
    "pd.DataFrame(c10h_annotator_mask.sum(axis=0)).hist(bins=50)"
=======
    "# get annotator accuracy\n",
    "annotator_accuracy_df = plt_annotator_accuracy(c10h_labels_error_mask, c10h_annotator_mask).sort_values(by='score')\n",
    "annotator_idxs = annotator_accuracy_df.index.values.tolist()\n",
    "\n",
    "x_drop, y_drop = get_worst_annotators(c10h_annotator_mask, annotator_idxs, 5)\n",
    "c10h_labels, c10h_labels_error_mask, c10h_annotator_mask = \\\n",
    "                    get_sample_labels(x_drop, y_drop, c10h_labels, c10h_labels_error_mask, c10h_annotator_mask)\n",
    "\n",
    "print(f'Make sure {c10h_annotator_mask.sum(axis=1).max()} <= max_annotations and { c10h_annotator_mask.sum(axis=1).min()} > 0: ')\n",
    "\n",
    "# drop all empty annotators\n",
    "drop_axis = c10h_labels.copy()\n",
    "c10h_labels = c10h_labels[:, ~np.isnan(drop_axis).all(axis=0)]\n",
    "c10h_labels_error_mask = c10h_labels_error_mask[:, ~np.isnan(drop_axis).all(axis=0)]\n",
    "c10h_annotator_mask = c10h_annotator_mask[:, ~np.isnan(drop_axis).all(axis=0)]\n",
    "print(c10h_labels.shape, c10h_annotator_mask.shape)\n",
    "\n",
    "# get new annotator accuracy\n",
    "annotator_accuracy_df = plt_annotator_accuracy(c10h_labels_error_mask,  c10h_annotator_mask).sort_values(by='score')\n",
    "annotator_accuracy_df.describe()\n",
    "consensus_labels = get_consensus_label(pd.DataFrame(c10h_labels))\n",
    "print('Consensus label accuracy: ', (c10h_true_labels == consensus_labels).sum() / 10000)"
   ]
  },
  {
   "cell_type": "code",
   "execution_count": 1040,
   "id": "6c286118",
   "metadata": {},
   "outputs": [],
   "source": [
    "for col in range(c10h_annotator_mask.shape[1]):\n",
    "    annotator = np.where(c10h_annotator_mask[:,col] == 1)[0]\n",
    "    intersects = False\n",
    "    for j in range(c10h_annotator_mask.shape[1]):\n",
    "        if j == col:\n",
    "            continue\n",
    "        annotator2 = np.where(c10h_annotator_mask[:,j] == 1)[0]\n",
    "        if len(np.intersect1d(annotator, annotator2)) > 0:\n",
    "            intersects = True\n",
    "    if not intersects:\n",
    "        print(f'annotator {col} does not intersect with any other annotator')"
>>>>>>> Stashed changes
   ]
  },
  {
   "cell_type": "code",
<<<<<<< Updated upstream
   "execution_count": 59,
   "id": "555ba427",
   "metadata": {},
   "outputs": [
    {
     "name": "stdout",
     "output_type": "stream",
     "text": [
      "(511, 511)\n"
     ]
    },
    {
     "data": {
      "image/png": "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\n",
      "text/plain": [
       "<Figure size 360x576 with 2 Axes>"
=======
   "execution_count": 1041,
   "id": "05ad7cb5",
   "metadata": {},
   "outputs": [
    {
     "data": {
      "text/plain": [
       "2     2991\n",
       "3     2585\n",
       "1     1791\n",
       "4     1523\n",
       "5      674\n",
       "6      303\n",
       "7       93\n",
       "8       29\n",
       "9        9\n",
       "10       2\n",
       "dtype: int64"
      ]
     },
     "execution_count": 1041,
     "metadata": {},
     "output_type": "execute_result"
    }
   ],
   "source": [
    "pd.DataFrame(c10h_annotator_mask.sum(axis=1)).value_counts()"
   ]
  },
  {
   "cell_type": "code",
   "execution_count": 1042,
   "id": "29f44b36",
   "metadata": {},
   "outputs": [
    {
     "data": {
      "text/plain": [
       "array([[<AxesSubplot:title={'center':'0'}>]], dtype=object)"
      ]
     },
     "execution_count": 1042,
     "metadata": {},
     "output_type": "execute_result"
    },
    {
     "data": {
      "image/png": "iVBORw0KGgoAAAANSUhEUgAAATkAAAHiCAYAAACTGLsdAAAAOXRFWHRTb2Z0d2FyZQBNYXRwbG90bGliIHZlcnNpb24zLjUuMiwgaHR0cHM6Ly9tYXRwbG90bGliLm9yZy8qNh9FAAAACXBIWXMAAAsTAAALEwEAmpwYAAAUHklEQVR4nO3dX4xcB3WA8e805k/wQpyQdOXaUZ2KNCiNm4BXIZQK7SZAA0EkDxEKjZAjBVkqoELrippWrYTUB6cqBR5QVQsoFirZ0JQ0UcKfpsErRNUGYpLghBASEgOxgg3UNmyKoIbTh7kL6/U4O7szu3Pn+PtJq517Z673eD37+c7MnbuRmUhSVb827AEkaSUZOUmlGTlJpRk5SaUZOUmlGTlJpRk5SaUZObVKRJwVEbdFxDMR8e2I+MNhz6TRtmbYA0gLfBj4GTAOXALcFREPZubDQ51KIyt8x4PaIiLWAoeBizLzm826TwAHMnPHUIfTyPLhqtrkt4Fjc4FrPAj8zpDmUQFGTm0yBvxowbqjwAuHMIuKMHJqk1ngRQvWvQj48RBmURFGTm3yTWBNRJw/b93FgC86aNl84UGtEhHTQAJvo/Pq6meA3/PVVS2Xe3Jqm7cDpwOHgJuBPzJw6od7cpJKc09OUmlGTlJpRk5SaUZOUmlGTlJpPZ2FJCL20znq/Od03ls4ERFnAbcAm4D9wJsz8/Cz/Tlnn312btq0aUkDPvPMM6xdu3ZJ2wybM6+OUZwZRnPuts+8d+/eH2TmOV2vzMxFP+hE7OwF6/4W2NFc3gHctNifs2XLllyqPXv2LHmbYXPm1TGKM2eO5txtnxm4L0/SnX4erl4N7G4u7wau6ePPkqQV0dPBwBHxJJ3zfCXwj5m5KyKOZOa65voADs8tL9h2G7ANYHx8fMv09PSSBpydnWVsbGxJ2wybM6+OUZwZRnPuts88NTW1NzMnul55sl28PP6h6Ybm86/TOb/Xq4EjC25zeLE/x4er7eXMq2cU5277zPT7cDUzDzSfDwG3AZcCByNiPUDz+VAfIZakFbFo5CJibUS8cO4y8DrgIeAOYGtzs63A7Ss1pCQtVy+HkIwDt3WedmMN8MnM/FxEfAX4VETcCHwbePPKjSlJy7No5DLzCTonLly4/ofAFSsxlCQNiu94kFSakZNUmpGTVJqRk1SakZNUmpGTVJqRk1SakZNUmpGTVJqRk1SakZNUmpGTVFpPv8hGWm2bdtx1wrr9O68awiQade7JSSrNyEkqzchJKs3ISSrNyEkqzchJKs3ISSrNyEkqzchJKs3ISSrNyEkqzchJKs3ISSrNyEkqzchJKs3ISSrNyEkqzchJKs3ISSrNyEkqzchJKs3ISSrNyEkqzchJKs3ISSrNyEkqzchJKs3ISSrNyEkqzchJKs3ISSrNyEkqzchJKs3ISSrNyEkqzchJKs3ISSrNyEkqzchJKs3ISSrNyEkqzchJKs3ISSrNyEkqzchJKs3ISSrNyEkqzchJKs3ISSrNyEkqzchJKs3ISSrNyEkqzchJKs3ISSrNyEkqzchJKs3ISSrNyEkqzchJKs3ISSrNyEkqzchJKs3ISSqt58hFxGkRcX9E3NksnxcR90bE4xFxS0Q8d+XGlKTlWcqe3LuAR+Yt3wR8IDNfAhwGbhzkYJI0CD1FLiI2AlcBH2mWA7gcuLW5yW7gmhWYT5L60uue3AeB9wC/aJZfDBzJzGPN8lPAhsGOJkn9i8x89htEvBF4Q2a+PSImgT8DbgD+u3moSkScC3w2My/qsv02YBvA+Pj4lunp6SUNODs7y9jY2JK2GTZn7t++A0dPWLd5wxnHLbdt5l6N4txtn3lqampvZk50u25ND9u/CnhTRLwBeD7wIuBDwLqIWNPszW0EDnTbODN3AbsAJiYmcnJycknDz8zMsNRths2Z+3fDjrtOWLf/+snjlts2c69Gce5RnHnOog9XM/O9mbkxMzcB1wFfyMzrgT3Atc3NtgK3r9iUkrRM/Rwn9+fAn0bE43Seo/voYEaSpMHp5eHqL2XmDDDTXH4CuHTwI0nS4PiOB0mlGTlJpRk5SaUZOUmlGTlJpRk5SaUZOUmlGTlJpRk5SaUZOUmlGTlJpRk5SaUZOUmlGTlJpRk5SaUZOUmlGTlJpRk5SaUZOUmlGTlJpRk5SaUZOUmlGTlJpRk5SaUZOUmlGTlJpRk5SaUZOUmlGTlJpRk5SaUZOUmlGTlJpRk5SaUZOUmlGTlJpRk5SaUZOUmlGTlJpRk5SaUZOUmlGTlJpRk5SaUZOUmlGTlJpRk5SaUZOUmlGTlJpRk5SaUZOUmlGTlJpRk5SaUZOUmlGTlJpRk5SaUZOUmlGTlJpRk5SaUZOUmlGTlJpRk5SaUZOUmlGTlJpRk5SaUZOUmlrRn2AKph0467Tli3f+dVQ5hEOp57cpJKM3KSSjNykkozcpJKM3KSSjNykkozcpJK8zi5U0CbjmFr0yw6NbgnJ6k0IyepNCMnqTQjJ6m0RSMXEc+PiC9HxIMR8XBEvK9Zf15E3BsRj0fELRHx3JUfV5KWppc9uZ8Cl2fmxcAlwJURcRlwE/CBzHwJcBi4ccWmlKRlWjRy2THbLD6n+UjgcuDWZv1u4JqVGFCS+tHTc3IRcVpEPAAcAu4GvgUcycxjzU2eAjasyISS1IfIzN5vHLEOuA34K+DjzUNVIuJc4LOZeVGXbbYB2wDGx8e3TE9PL2nA2dlZxsbGlrTNsLVt5n0Hjp6wbvOGM45b7nfmXr7GoG/Xtu9zr0Zx7rbPPDU1tTczJ7pdt6R3PGTmkYjYA7wSWBcRa5q9uY3AgZNsswvYBTAxMZGTk5NL+ZLMzMyw1G2GrW0z39DtXQbXTx633O/MvXyNQd+ubd/nXo3i3KM485xeXl09p9mDIyJOB14LPALsAa5tbrYVuH2FZpSkZetlT249sDsiTqMTxU9l5p0R8XVgOiL+Brgf+OgKzilJy7Jo5DLza8DLuqx/Arh0JYaSpEHxHQ+SSjNykkozcpJKM3KSSvPMwBq6bmcL7ndbzzasOe7JSSrNyEkqzchJKs3ISSrNyEkqzchJKs3ISSrN4+S0Yvo5/k0aFPfkJJVm5CSVZuQklWbkJJVm5CSVZuQklWbkJJVm5CSVZuQklWbkJJVm5CSVZuQklWbkJJVm5CSVZuQklWbkJJVm5CSVZuQklWbkJJVm5CSVZuQklWbkJJVm5CSVZuQklWbkJJVm5CSVZuQklWbkJJVm5CSVZuQklWbkJJVm5CSVZuQklWbkJJVm5CSVZuQklWbkJJVm5CSVZuQklWbkJJVm5CSVZuQklbZm2AOo3TbtuOuEdft3XjWESaTlcU9OUmlGTlJpRk5SaUZOUmlGTlJpRk5SaUZOUmlGTlJpRk5SaUZOUmlGTlJpRk5SaUZOUmlGTlJpRk5SaUZOUmlGTlJpnhlYv9TtLMD93E5qA/fkJJVm5CSVZuQklWbkJJW2aOQi4tyI2BMRX4+IhyPiXc36syLi7oh4rPl85sqPK0lL08ue3DFge2ZeCFwGvCMiLgR2APdk5vnAPc2yJLXKopHLzKcz86vN5R8DjwAbgKuB3c3NdgPXrNCMkrRskZm93zhiE/BF4CLgO5m5rlkfwOG55QXbbAO2AYyPj2+Znp5e0oCzs7OMjY0taZtha9vM+w4cPWHd5g1nHLc8OzvLk0d/vlojDcT46XDwJ92vW/j3a5O23T960faZp6am9mbmRLfrej4YOCLGgH8F3p2ZP+p0rSMzMyK61jIzdwG7ACYmJnJycnIJo8PMzAxL3WbY2jbzDV0O3t1//eRxyzMzM7z/S8+s0kSDsX3zMd6/r/tdeOHfr03adv/oxSjOPKenV1cj4jl0AvfPmfnpZvXBiFjfXL8eOLQyI0rS8vXy6moAHwUeycy/n3fVHcDW5vJW4PbBjydJ/enl4eqrgLcC+yLigWbdXwA7gU9FxI3At4E3r8iEktSHRSOXmV8C4iRXXzHYcSRpsHzHg6TSjJyk0oycpNKMnKTSjJyk0oycpNKMnKTSjJyk0oycpNKMnKTSjJyk0vzl0qeohb8gevvmY3h3UEXuyUkqzchJKs3ISSrNyEkqzchJKs3ISSrNyEkqzchJKs2jP0fYwgN6AfbvvGoIk0jt5Z6cpNKMnKTSjJyk0oycpNKMnKTSjJyk0oycpNKMnKTSPBhYpzQPqK7PPTlJpRk5SaUZOUmlGTlJpRk5SaUZOUmlGTlJpXmcnLRMHmM3GtyTk1SakZNUmpGTVJqRk1SakZNUmpGTVJqRk1SakZNUmpGTVJqRk1SakZNUmpGTVJqRk1SakZNUmpGTVJqRk1SakZNUmmcGVkndztqrU5N7cpJKM3KSSjNykkozcpJKM3KSSjNykkozcpJK8zi5Yjw+TDqee3KSSjNykkozcpJKM3KSSjNykkozcpJKM3KSSjNykkrzYOCW6XYw7/6dVw1hEqkG9+QklWbkJJVm5CSVZuQklbZo5CLiYxFxKCIemrfurIi4OyIeaz6fubJjStLy9LIn93HgygXrdgD3ZOb5wD3NsiS1zqKRy8wvAv+zYPXVwO7m8m7gmsGOJUmDsdzn5MYz8+nm8veA8QHNI0kDFZm5+I0iNgF3ZuZFzfKRzFw37/rDmdn1ebmI2AZsAxgfH98yPT29pAFnZ2cZGxtb0jbD1s/M+w4cHfA0vRk/HQ7+ZChfetlWaubNG844YV2v/y7dtl3oVLtPr4apqam9mTnR7brlvuPhYESsz8ynI2I9cOhkN8zMXcAugImJiZycnFzSF5qZmWGp2wxbPzPfMKTTl2/ffIz37xutN8Cs1Mz7r588YV2v/y7dtl3oVLtPD9tyH67eAWxtLm8Fbh/MOJI0WL0cQnIz8F/ABRHxVETcCOwEXhsRjwGvaZYlqXUW3dfPzLec5KorBjyLJA2c73iQVJqRk1SakZNUmpGTVJqRk1SakZNUmpGTVJqRk1SakZNUmpGTVJqRk1SakZNU2midQExaBZuGdE4/rQz35CSVZuQklWbkJJVm5CSVZuQklWbkJJVm5CSV5nFyK2DfgaMn/J7O/TuvGtI00qnNPTlJpRk5SaUZOUmlGTlJpRk5SaUZOUmlGTlJpRk5SaV5MPAQeXJGaeW5JyepNCMnqTQjJ6k0IyepNCMnqTQjJ6k0IyepNCMnqTQPBu5TtwN6t28ewiBqhW73h25nhe71duqfe3KSSjNykkozcpJKM3KSSjNykkozcpJKM3KSSvM4uVXiCTJPXQv/7bdvPoY/eqvHPTlJpRk5SaUZOUmlGTlJpRk5SaUZOUmlGTlJpRk5SaV5RKI0Yjzh5tK4JyepNCMnqTQjJ6k0IyepNCMnqTQjJ6k0IyepNCMnqTQjJ6k0IyepNCMnqTQjJ6k0IyepNCMnqTQjJ6k0IyeptNafNHPfgaPc0MNvn+/npIGehFBt1e2+OYyvvX3zMW7YcdfAfy5W42fPPTlJpRk5SaUZOUmlGTlJpfUVuYi4MiIejYjHI2LHoIaSpEFZduQi4jTgw8DrgQuBt0TEhYMaTJIGoZ89uUuBxzPzicz8GTANXD2YsSRpMPqJ3Abgu/OWn2rWSVJrRGYub8OIa4ErM/NtzfJbgVdk5jsX3G4bsK1ZvAB4dIlf6mzgB8sacniceXWM4swwmnO3febfzMxzul3RzzseDgDnzlve2Kw7TmbuAnYt94tExH2ZObHc7YfBmVfHKM4Mozn3KM48p5+Hq18Bzo+I8yLiucB1wB2DGUuSBmPZe3KZeSwi3gl8HjgN+FhmPjywySRpAPp6g35mfgb4zIBmOZllP9QdImdeHaM4M4zm3KM4M9DHCw+SNAp8W5ek0loTuYh4fkR8OSIejIiHI+J9zfrzIuLe5q1jtzQvcrRKRJwWEfdHxJ3N8ijMvD8i9kXEAxFxX7PurIi4OyIeaz6fOew554uIdRFxa0R8IyIeiYhXtnnmiLig+f7OffwoIt7d5pkBIuJPmp/BhyLi5uZns/X36ZNpTeSAnwKXZ+bFwCXAlRFxGXAT8IHMfAlwGLhxeCOe1LuAR+Ytj8LMAFOZecm8QwN2APdk5vnAPc1ym3wI+FxmvhS4mM73vLUzZ+ajzff3EmAL8L/AbbR45ojYAPwxMJGZF9F5UfE6Ruc+faLMbN0H8ALgq8Ar6ByAuKZZ/0rg88Oeb8GsG+ncUS8H7gSi7TM3c+0Hzl6w7lFgfXN5PfDosOecN9sZwJM0zyOPwswL5nwd8J9tn5lfvZPpLDovTN4J/MEo3KdP9tGmPbm5h30PAIeAu4FvAUcy81hzkza+deyDwHuAXzTLL6b9MwMk8O8Rsbd5VwrAeGY+3Vz+HjA+nNG6Og/4PvBPzVMDH4mItbR75vmuA25uLrd25sw8APwd8B3gaeAosJfRuE931arIZebPs7Nrv5HOCQBeOtyJnl1EvBE4lJl7hz3LMvx+Zr6czllk3hERr55/ZXb+y27TS+9rgJcD/5CZLwOeYcHDvBbODEDz/NWbgH9ZeF3bZm6eH7yazn8qvwGsBa4c6lB9alXk5mTmEWAPnd3idRExdzxf17eODdGrgDdFxH46Z2G5nM7zRm2eGfjl/9hk5iE6zxNdChyMiPUAzedDw5vwBE8BT2Xmvc3yrXSi1+aZ57we+GpmHmyW2zzza4AnM/P7mfl/wKfp3M9bf58+mdZELiLOiYh1zeXTgdfSeWJ5D3Btc7OtwO1DGbCLzHxvZm7MzE10Ho58ITOvp8UzA0TE2oh44dxlOs8XPUTnbXlbm5u1au7M/B7w3Yi4oFl1BfB1WjzzPG/hVw9Vod0zfwe4LCJeEBHBr77Prb5PP6thPyk47wnP3wXuB75G5wfur5v1vwV8GXiczu7+84Y960nmnwTuHIWZm/kebD4eBv6yWf9iOi+iPAb8B3DWsGddMPclwH3NfeTfgDNHYOa1wA+BM+ata/vM7wO+0fwcfgJ4Xtvv08/24TseJJXWmoerkrQSjJyk0oycpNKMnKTSjJyk0oycpNKMnKTSjJyk0v4fgzAvxIMUggsAAAAASUVORK5CYII=\n",
      "text/plain": [
       "<Figure size 360x576 with 1 Axes>"
>>>>>>> Stashed changes
      ]
     },
     "metadata": {
      "needs_background": "light"
     },
     "output_type": "display_data"
    }
   ],
   "source": [
<<<<<<< Updated upstream
    "# check similarity\n",
    "similarity = np.matmul(c10h_annotator_mask.T,c10h_annotator_mask)\n",
    "np.fill_diagonal(similarity, 0)\n",
    "print(similarity.shape)\n",
    "ax = sns.heatmap(similarity, square=True)"
=======
    "pd.DataFrame(c10h_annotator_mask.sum(axis=0)).hist(bins=50)"
   ]
  },
  {
   "cell_type": "code",
   "execution_count": 1043,
   "id": "7940ce9f",
   "metadata": {},
   "outputs": [],
   "source": [
    "np.save('./benchmark_data/c10h_labels_worst_20_coin20', c10h_labels)"
>>>>>>> Stashed changes
   ]
  },
  {
   "cell_type": "code",
<<<<<<< Updated upstream
   "execution_count": 60,
   "id": "0edf79f1",
   "metadata": {},
   "outputs": [],
   "source": [
    "np.save('./data/benchmark_data/c10h_labels_worst_25_coin20', c10h_labels)"
=======
   "execution_count": 1044,
   "id": "f3058455",
   "metadata": {},
   "outputs": [],
   "source": [
    "# TODO: check for each annotator how much are they overlapping with every other annotator (heatmap)\n",
    "# TODO: get this notebook working!"
>>>>>>> Stashed changes
   ]
  },
  {
   "cell_type": "markdown",
<<<<<<< Updated upstream
   "id": "e6ec2dcf",
=======
   "id": "386579a0",
>>>>>>> Stashed changes
   "metadata": {},
   "source": [
    "#### set to max annotators per row and evenly distribute"
   ]
  },
  {
   "cell_type": "code",
<<<<<<< Updated upstream
   "execution_count": 16,
=======
   "execution_count": 1045,
>>>>>>> Stashed changes
   "id": "f73375f9",
   "metadata": {},
   "outputs": [],
   "source": [
    "# x_drop, y_drop = get_random_drop_per_row_min_annotators(c10h_annotator_mask, 5)\n",
    "# c10h_labels, c10h_labels_error_mask, c10h_annotator_mask = \\\n",
    "#                     get_sample_labels(x_drop, y_drop, c10h_labels, c10h_labels_error_mask, c10h_annotator_mask)\n",
    "\n",
    "# print(f'Make sure {c10h_annotator_mask.sum(axis=1).max()} <= max_annotations and { c10h_annotator_mask.sum(axis=1).min()} > 0: ')\n",
    "\n",
    "# x_drop, y_drop = get_random_drop_per_row(c10h_annotator_mask)\n",
    "# c10h_labels, c10h_labels_error_mask, c10h_annotator_mask = \\\n",
    "#                     get_sample_labels(x_drop, y_drop, c10h_labels, c10h_labels_error_mask, c10h_annotator_mask)\n",
    "# print(f'Make sure {c10h_annotator_mask.sum(axis=1).max()} <= max_annotators and { c10h_annotator_mask.sum(axis=1).min()} > 0: ')\n",
    "\n",
    "# # drop all empty annotators\n",
    "# drop_axis = c10h_labels.copy()\n",
    "# c10h_labels = c10h_labels[:, ~np.isnan(drop_axis).all(axis=0)]\n",
    "# c10h_labels_error_mask = c10h_labels_error_mask[:, ~np.isnan(drop_axis).all(axis=0)]\n",
    "# c10h_annotator_mask = c10h_annotator_mask[:, ~np.isnan(drop_axis).all(axis=0)]\n",
    "\n",
    "# print(c10h_labels.shape, c10h_annotator_mask.shape)\n",
    "\n",
    "# np.save('./benchmark_data/c10h_labels_range_1_5', c10h_labels)"
   ]
  },
  {
   "cell_type": "markdown",
   "id": "154cf724",
   "metadata": {},
   "source": [
    "### Get consensus labels & save them"
   ]
  },
  {
   "cell_type": "code",
<<<<<<< Updated upstream
   "execution_count": 62,
=======
   "execution_count": 1046,
>>>>>>> Stashed changes
   "id": "80a7aa99",
   "metadata": {},
   "outputs": [],
   "source": [
<<<<<<< Updated upstream
=======
    "from cleanlab.multiannotator import get_consensus_label\n",
>>>>>>> Stashed changes
    "consensus_labels = get_consensus_label(pd.DataFrame(c10h_labels))"
   ]
  },
  {
   "cell_type": "code",
<<<<<<< Updated upstream
   "execution_count": 63,
=======
   "execution_count": 1047,
>>>>>>> Stashed changes
   "id": "aa70bf0d",
   "metadata": {},
   "outputs": [],
   "source": [
    "# TODO: lambda create new column\n",
    "mini_df = c10h_df[['image_filename','true_category','cifar10_test_test_idx']].drop_duplicates()\n",
    "image_locs = [path + \n",
    "              '/data/cifar10/test/' +\n",
    "              mini_df[mini_df['image_filename'] == c10h_true_images[i]]['true_category'].item() +\n",
    "              '/test_batch_index_' +\n",
    "              str(mini_df[mini_df['image_filename'] == c10h_true_images[i]]['cifar10_test_test_idx'].item()).zfill(4) +\n",
    "              '.png'\n",
    "              for i in range(len(c10h_true_images))]\n",
    "consensus_df = pd.DataFrame(zip(image_locs, consensus_labels), columns=['image', 'label'])\n",
<<<<<<< Updated upstream
    "consensus_df.to_csv('./data/benchmark_data/cifar10_test_consensus_dataset_worst_25_coin20.csv', index=False)"
=======
    "consensus_df.to_csv('./benchmark_data/cifar10_test_consensus_dataset_worst_20_coin20.csv', index=False)"
   ]
  },
  {
   "cell_type": "code",
   "execution_count": 1053,
   "id": "76810bf7",
   "metadata": {},
   "outputs": [
    {
     "name": "stdout",
     "output_type": "stream",
     "text": [
      "(501, 501)\n"
     ]
    },
    {
     "data": {
      "image/png": "iVBORw0KGgoAAAANSUhEUgAAAUIAAAHLCAYAAAC9EpGMAAAAOXRFWHRTb2Z0d2FyZQBNYXRwbG90bGliIHZlcnNpb24zLjUuMiwgaHR0cHM6Ly9tYXRwbG90bGliLm9yZy8qNh9FAAAACXBIWXMAAAsTAAALEwEAmpwYAAB0L0lEQVR4nO2defx91bz/n+9GJBW5lb5RGpAoSWYiQyVCXDJdGXJl6Jq5pvBDxjK7obpCZkkyK3IpDSplTNJcSiTS9H3//lh7f7/ru75r3Oeczznf83m/Po/z+Jyz9trv9V57r/Ver/d7rb22qCoGg8GwmLHatBUwGAyGacMMocFgWPQwQ2gwGBY9zBAaDIZFDzOEBoNh0cMMocFgWPQwQ2gwGFYZiMhhInKFiJydOC4i8kEROVdEzhKRHWvkmiE0GAyrEo4Adssc3x3YuvvsB3ysRqgZQoPBsMpAVX8M/CWTZS/g0+pwErC+iGxSkmuG0GAwzBM2BS70fl/UpWWxxsTUMRgMc4sbrzxvIs/mrnX7LV+Ac2l7HKqqh06iLB9mCA0Gw8ygM3qjGL6Lgc2830u6tCzMEBoMhnYsvXnaGqRwDPBiEfk8cF/gb6p6aekkM4QGg6EdunQqxYrIUcAuwIYichHwZmBNAFX9OHAcsAdwLvBPYN8qubYNl8FgaMWNl/92IoZjzY3uIpOQW4IxQoPB0I6l02GEk4ItnzEYDIsexggNBkMzdEoxwknBDKHBYGiHucYGg8EwXzBGaDAY2jFnrrExQoPBsOhhjNBgMLRjdp8sGQRjhAaDYdHDGKHBYGjHnMUIzRAaDIZ22PIZg8FgmC8YIzQYDM2YtydLjBEaDIZFD2OEBoOhHXMWIzRDaDAY2mGuscFgMMwXjBEaDIZ22JMlBoPBMF8wRmgwGNoxZzFCM4QGg6EdczZrbK6xwWBY9DBGaDAY2jFnrrExQoPBsOhhjNBgMLRjzmKEZggNBkMzVG0docFgMMwVjBEaDIZ22GSJwWAwzBeMERoMhnbM2WSJMUKDwbDoYYzQYDC0Y85ihGYIDQZDO2wbLoPBYJgvGCM0GAztmDPX2BihwWBY9DBGaDAY2jFny2fMEBoMhnaYa2wwGAzzBWOEBoOhHXPmGhsjNBgMix7GCA0GQzvmjBGaITQYDM2wjVkNBoNhzmCM0GAwtGPOXGNjhAaDYdHDGKHBYGiHLag2GAyG+YIxQoPB0I45ixGaITQYDO0w19hgMBjmC8YIDQZDO+bMNTZGaDAYFj2MERoMhnbMWYzQDKHBYGiHucYGg8EwXzBGaDAY2mGM0GAwGOYLxggNBkM7bLLEYDAsephrbDAYDPMFY4QGg6Edc+YaGyM0GAyLHsYIDQZDOyxGaDAYDPMFY4QGg6EdcxYjNENoMBjaYa6xwWAwzBeMERoMhnYYIzQYDIb5gjFCg8HQDtVpazBWmCE0GAztMNfYYDAY5gvGCA0GQzuMERoMBsN8wRihwWBohz1ZYjAYFj3MNTYYDIb5ghlCg8HQDtXJfCogIruJyG9F5FwReW3k+B1F5HgR+YWInCUie5RkmiE0GAyrDERkdeAjwO7AtsA+IrJtkO0NwBdV9V7AU4GPluRajNBgMLRjejHCnYFzVfU8ABH5PLAX8CsvjwK36b6vB1xSEmqG0GAwrErYFLjQ+30RcN8gz4HAd0XkJcA6wCNKQs01NhgM7Vi6dCIfEdlPRE71PvsN0G4f4AhVXQLsARwpIllbZ4zQYDC0Y0LrCFX1UODQTJaLgc2830u6NB/PBXbr5P1MRG4BbAhckRJqjNBgMKxKOAXYWkS2EJG1cJMhxwR5LgB2BRCRuwG3AP6cE2qM0GAwNEOXTmcbLlW9SUReDHwHWB04TFXPEZG3Aqeq6jHAK4BPiMjLcBMnz1bNr80xQ2gwGFYpqOpxwHFB2pu8778CHtgi0wyhwWBox5w9YmeG0GAwtGPONl2wyRKDwbDoYYzQYDC0Y0qTJZOCMUKDwbDoYYzQYDC0wyZLDAbDosecGUJzjQ0Gw6KHMUKDwdCOOXvB+8QYYWkXWYPBYJgVTIQRervIPhK3X9gpInJM9+iLwWBY1WExwios20VWVW8A+l1kDQaDYeYwqRhhzS6yBoNhVcWcLai2yRKDwdCOOXvWeFKGsLiLbLcF934Asvp6915ttXUmpEobrrvkRG55hweP7XeYFjueS0/JALjlHR687HuPWJ6UDrkya/LU6Do0r19+rF59Wni8tfxYub7s1PXzdYidmzonpmeNvjXlp/Km2l4vZ80N7yzZwhcBRooRishhInKFiJztpb0HOBzYRUS+IyK3J7KLrKoeqqo7qepOKSMYdvKFQNiwWjpU2HlT8mPHS+X4x2Pfb3mHB68kO5YvpWNMp5r6xM5pOV5j/FN173+X7plfZv89V3//mubKDZHT1T+WMrYphPrH6hzTLZRdc+2qsVQn85kSpLBxa/5kkYcA1wKfVtXturRHAT8EHgV8BhDgvar69pScNdbadKYCDjUsL5e/JV9LpwgZxCjMZyhqmU0rw80Z8ZI+NUw3pndMRiot9zvFXlOyh5Q/FLl697jphoubGeE/37XvRPrsrV5z+FTY6UiMUFV/DPwlSPuuqt7U7SL7XOC4nBGcJVx3yYnRBhh20lbWk4M/Ksdcn14n/7j/v4bZ1aLm3JB5+tcrZWRiLCxmMHNMLqdPLi12fUJ9UuX2eVNtIvfdPy+UF5aVqkMsf6lOMTmTgC5dOpHPtDDpR+yeA3xrwmWMhLBzlphEyrWKyQvTazt6yqVKnRszSkN0HBoLjBnu0GXvv8fcvNTv2MDgl+EfCxlazAVPua6hofLz+oa/NOjkjGPo0paYWq4+JRc3d41TujdjzlzjST5Z8nrgJuCziePL3l+6dOk/mmSPfBM9DGUhpVhQinXUGCefiaTOiZWfYmq19WpBrvPVdsoU8y4xcv/c3LGa46GslGGKHcsZsfB7jXscnuuXW9N+asuqzbOYMNgQishmInI88D1gKxE5wDv2bOD5wOOB28XOr5ksCdFyo4ciNWKnXJSY0QoZUWgkYvUIWUdplE9di5ybGuqeSq9xx8Iyw/qWjHcq1FBjvGPXNHbfUm5tql6t31PIGdZQp1h78f/HBpLc9S0Z/VCXwdClk/lMCYMnS0RkE2ATXIzwONxSnMcDdwQ+iFtEvSVwb1W9Midr1iZLSki5dGEDhzrXp+VYToe+vJwbVSu/Jf8QfVN5IK/zUF1SoQn/ftXIz8nqdU/Vo1TeOK5zDUI5QyZL/vH/njGRPrvOGz6zak2WqOqlwKuAnwFb49YNPhf4MG7d4B1whvK9o6u5cEjFgXLxoZxLVyojJreWOaWYYSweFrKIkMHW6BO7FrWdM6ZLDXsJ61cKZdQy+JR+sbhcTs/c9U+VEab5rLCFpcV0zLXTnB7NmLMY4UjLZ5YJEdkc+DGwHfAw4OGqeoCInA/sNGuMsDT616bHOsEoo3aLW5Mqq5Z1hAxmKKNrZXG5axbLF5Ndy8hb2VmqniV2X3Md/GM15cXuSy49LDt1LWN6DGKEB+4zGUZ44FFTYYQjG0IRuTXwI+DtwLeB44FHqerfpm0Ix+lKQHtHqHV/Sw07Z0jG4dKNeo1q2HFOlxpjOoputQaodH6YHtO5ZZDNffdlD9G7Jq8ZwuUYZbLkFiJyCnAJbpOF7XExwS2AP4nIjcCdgN+JyMaR8wfPGtdiLC5AICt0R/xG29JAS3qmZNWmD3GJQpc35abF9O8/MaNecvf8c1M617qMoYsYuqyx77l65lhV7r7F5IfXpsTYcvrEjpXqEtO1xRVfAXPmGo+yfOZ64PfAYbj44G7AOsBrcI/TrQ38CXiAql4Wnjxk1rjH4JvXKLsUTwq/18qOdaKcK5g7XjIgOT1i+WoMe6txao2XlWTE8oSGr6WT1wwupTrH2kqNJ9Efz+XJGddUntjxUMdxeUzzgFEM4QOBfYCHA6cC9wDuD7wQeKvqsrnwrFsM7YZtVFeppZwWtpJqfP2xWGP0j8Vk9cdqOkpt/XIuW6hzSU6JzbSwUD8txyRbDGttubVsOGc0S3VPXdvSQNbClFO6+0Y59GoGYc6Wz4wya/wT3JKZpTiX+EOqenD3/Skicirwa2CDkqyFHJWGMLgYg4qlxYyZ7y6GRq1vkDHmkYozlTpQzbEYaoxGTYcNjVhO39jg4A8+qXBECSV33C/X/52qV+z83O+Snq2srOQOh3nD6+enh/KMETqM+qzxzaq6A265zM4ish3OJf6Xqu4EfALnOk8Vo7rSYaNKxY5i7lnsvy8jZjxjLlUp5hWm1Rq2GPsKjXBozGOy+nyxDpjSt1bXWCfO3dMaBh2rX6zs2O8cs/d1zumWGuhiZdey09pB0j93cN+wGOHKUNW/4maLd8MtpP5qd+hrwD1j5yzEZEmPllGvZrT0O87Q0TUXyymV2aOlEZcMXcqNSxn3mL4xtz6nR4xVx47FfqeMUWt5sfsYnt86COV0CPPXXqtYWjg4pUIeKTmjsMF523RhlCdLbg/cCPwdOA03YfIfwNOBBwBXA6sDqqpRY9hj1p8sqTFWIUuMsb9YntYGWVNO7fkl/fy6jtpxUuenwgdD5dUeT+VL6dF6bWvYXsqI1TLFUe9HjyEbs177ur0n0mdv/c6vrFrLZ3BPjRyPezfJ5sCVqnoscB/gfJwRXAf442gqTh8xl69HarTPsZVUYy7F11KsqD8ekxWrSyytFCerMQLh95b659zkVN1zclPn1rDIGHKMPBceKbm1sfBITH9fbq7upfqWGH41zDV2UNWzgMfiJkSeiFtKA3Az8GpVvQcuRnjOqEoOxZAGX2N8YvlCxIxIzhX102OdLucyx46HHSw0sGHdYq5m7vqVXK4U+/XLysmO1TE1UJQYVijLr2tt3DKsQy5vqFOubjFjGrad2L1MlRPmzQ1uhuUYdYfqLwPvBNYFXqmqe4rIg4GjgeuAa4D7qeo1OTmha1xyDSZ5M0sdqUaHceoYM1Yl/UqySu5bzl309ah1A1vd6xa3dGiIYYgOPVrqX6trKq0vL6VTaz+JpQ95suTaVz1hMq7xe762arnGIrIncIWqnhYcehmwh6ouwb275P2J86OTJaVGNekRLcXWoC6w3h+PsZYWtyzGEPprU3sNSmXlOrqfHmM+MaOcYjspuSW30S+/5OqXdIil51z3moGu5l6mrmuoR85DSJ0fY4m+vBiDTjHLZszZOsJRJkveCTwLWB+3ZGY13E40dwDOxcUNLwNur6p3zcnyGeGkGd8QjMJQh9QnZnBbWMQo129IfWrKHKrXUAacY0Q9FuI61Vyv1mtTMyCXdOvPv+6SE4dNlrxyr8kwwvd+fdVihKr6OuD7wAHAI3Bb8j8O2Ag4U1W3Bi7HvbypGimWMg2kYmD+/xTLyTXWWIzH/x1jfTWdqaR7zfEYs/KZRaseKf1bdCvF2XwdYzqFsnLySvcm1KlU3xhzrLm3qe85r6DE0P3ycvHNKthkiYOIrAc8BPhUl6SqehVu2cxjRORMHDtcc2gZtXGXlvSSnFhjj7knJbcy7ABhJx3iIve/QxfHP1bbsIcY0RZmE3PXwjqU3N0a3f1yc507LDMWdyu58i1xvVyeWH7/WtS6w2G9UiGEXB+ZNtmYFYziGu8AHAr8CrfzzGk4dnixqq7f5RHg6v53CrXrCGfNbQ5djFznaonrlYLcqXJz55fKKOk8xH0bd8ig5vycSzpUj3G0u1j7GPXepb636jNksuTv//XYidC3dQ/5xqrlGuOeM94R+Jiq3gv4B/BaP4M6K1u8YLWj0kIYwdLomRq5U+eGbkxpFG6RGWv8Kabof4+xwZCFhKy1hcWGetSwvhgjj6X5dcjJTbGjnB4pBhsip2sqf8mriP3OeSmp7zkWHpY1EiM013gZ1sZtuPA/InIG8DzcesKlIvJ7ETlLRI4jsfuMP2u89sY7NhU8STqfMlp+442NwqFrlmtkfidOdarQ3fERMsLYsVR5sbJrURu/bT0WXscc4/X1iHX+Gh1S8MtLucs1A0l4Xg3Li5VVCsP4aanBrtQ+ZsnDmiZGXUd4Is4Angv8Dffqzg2AM1T1HSJyAnBLVb1vTs64HrHLuQfjdJXGeV5OVsmFjaW1uuI52anfQ+ra6iqHZQ11/VrKbb2Oo7impfNHCS3Erl2sLn36kFnjv794j8m4xh8+bpVzjQFegjN+v8dt1Ppa3H6Eu4rI73FG8YIRy6hGruHUNtIa1hO6yCm0ulolGbH8MbcrFTuLMYecq5+6ZqUO6susYay9zBITDmXUsr4SUwwZaIoV5u5nzij532u9hFIoInWPY3libSKs42LHqNtwndFtt3UC8GZVvVpVr1LVXbvlMxcAXx+DnguGmEsT60ixOFoOufhPjcHJNepQx5SsUGc/LSYj1bFy+UL9Qpe3xmDEZIUyY8Yidu9y9Qvlhr9LA0SNEYkNUrVyc4NyyiinPIZQxsgG0GKEK0JE1sKtH/xSkP564CYcY6zGkNjOOBFrIDnGVXJhYy5Pi7tXiunlOk0p9lRiorWMMGfcQsYZY0U5Q5rSsxQeiDHTHAPKlVE6FmPAuXrWXv9Y3cLyw8EivMb+ubGBe9r9bVYwjv0IdwdOV9XL+wQReTawJ/B0TQQhU4/YtcaBxo1YJxqCVONLsRy//FRHqRnpY2XHDFCunJz7mCu7xMhiv/20VEetCXnUsKucYYqx2Nh1jV3D8J7mBsYahHlrBoZQz5QetYNYEcYIl0NEXgZ8GthWRI7q3my3G/Bq4GzgitS5rS9vqmEF40BsdK1BKZ5TOxLn2GaqY5bc7hgbKjHf1LGUWxfLE+pUY2DH0VFTTDw2KKX09Y/n3Nlc+bGyc+XHyogxzJCNhnlTeoQYZaBX1Yl8poVRnizZFLeA+ibg7rj9B58KfBi4LbA3cEsR+XiL3FRniTXa0o3MdbxcIyoZjBA5lyslp7aDDzFeuVjTKLrF7kPsvsQ6cq7Tt3bImCsaIgwp1F6LWFkpPUu6p+5NLGRQKiNsYzm2F6t3rX6LFaO6xqsDW+MWU98K947ju+D2KLw7cJ2q/ueIZSSNQW0nSnWIeW0I4wgZxIxZeDw0fjEjF3OLQ3ZW4/qlwgv+sRrGXOt6hwawNKjmEDPKqfbXMkCmdA+N/kTigOYaO6jqxcB7cTPDlwJ/U9XvAi8GjlHVS2tlxUbHPj38n3IvQjn+sZir4v+P5RmKlIxxuNi1GGcHyBmAlOtZY0RTx2NuZMq17GVNMkQSlhO2Vb/8VLvM6Rm2y5xxzbX9lMxcPsNyjOIabwDsBWyB21xhHRF5FvBk4EMV56/0ZEksrgIrs8BUg4rF9VLsJJQ7LqRkto70k9SlFjGXLCU3F5cr6VeKY6Xcw5S8mIxUntRA6g+6JRc0l14ySqXfLfVPyZgIjBEuwyOAW+LeW3IGcC3wFmAr4HIRuRFnHK+OnexPllx/2ekrjaypeEl/PPY/lq/G/Ui5aCVMxOUYoMckEGNhrXrVuLxhvlToItYecnFe/7yWQSgsv2R4U95F7HvMo/GP1brKC+ldpKBLdSKfaWGU3Wf2we1AvSnu8boLcO8oOQF4PfAY4CrgzqqanD0GuPHK87S2sdbEl3KMMefCzYIBmnfEDEbs2qfS/PNK+XPpKd1Sbnuu7ZRk5UIJtXUIz8+V2dqWh+w+87d9HzERq7Xe4d9f5R6xuwm3Bdf/4RjhFcC/cI/YHaSq1wOUjGCPmsBz6C633OzQzV5IIzjJkXkSiDGvWHoqf+w8380MQxg55hiLycWQM2A1SIVTYv9rEGOFqeuYcsFT56d0HlLXwTDXeBnOBm4NPBDYGbgOFyvcBniwiJwMnCYi9ykJCl2SXL4eKRfDR6nh9P8nzQQXmmmO2tBTTGaoaxy6mb7cWnc5N3nQ2g5S5fn6hnWPhQhar3N4PUIDWFOXHrnYY+k+meezMkbdfea5wP645TPn4DZeeAQubvhS3DuOv4Bzj5MF9bvPDHUhSsYs5fJYg1iOWtcyNGI59zXs5DWubs51HsL0anUe4lKO6/xQTup3Lm8pfw6DXONn7joZ1/jIH8yuaywih4nIFSJytpd2W9wC6tvgDOB1wO9wL2y6N85dPhz3kvcNIzJXesQuHCn7NEgvdUl11JAt5BhFeG4rZsn1HQej8I/nOmbKQOaYe8zVLenip8eYZeke++WMagRj7ap0fqkd+nLC+ubypq5b2AcmgUU5WSIiD8HNCn9aVbfr0t4NXK+qb+zeaLcfsCVwBO7NdQ8UkfsCPwVuqao3pOTH9iMMb3YN46ttlLm8C+Eqt2Da+pSuf4n1xfKNkjbK9ai917XGMSWvRsfUQD9UnxQhSMn08wzZj/CvT3/4RKzW+p/94ewyQlX9MfCXIHkv4JEi8ivc7jP/VNW/AqcCG3bs8VM4hnhTTTmxUTPFGnzkYlihzFgcyM87S0YQpue+pxheKa//20eOidXkC4/n2kOKfcUYV4yxhu0pZIG581M6xtphONDnmHBtHVPn+nWIeVzNsMmSZdhIVe+nqtsC2wHrdukfwD1qdzvcu433U617c3OKofnHYsg1xFij9vO1BJlzmCX3OIUWHcPrnfpeir2myowNXqmBKefipQxZbcgj1gZShjzWPnLtJyU3dKtr6hTKCK9faPBKutQQjMWE6skSEdkcONZzjf/qv51ORK5W1Q1E5Em4meSX41zl7wHbq+o1KdmldYQll6BHyc0YwvhK7tO0ME4XsTZfS5k5dzZnSFtihjm9at3TcbmiueND71XreUPv15DJkr8+5WGTcY2/cPzsusYJXC4imwB0//v1gvsCX1WHc4E/AncNT/YnSz756aNWEl5iHSmXor/5pdG7diRscVcWEqOUP8QIxo7XyIgZtxRLj7GcGl1b73WKNeXq4MtJGfbcoJzSJVZeC2L5U8y8liUvRhQZoYgchttk9WrgRlXdTkTeAzwHuAE4CTgTuJWqvlpETsKtJfwz8Cbg/ThGGH2bHaw4WZKKNw1ld7WxkBoWMA3Mkj45BgV1E1ql9FoDPApTKpWd+l9TRq69lvSukVGrV4pIxOo9hBFe/eRdJsIIN/jSCVNhhDWG8CHAfwO7dkmX49YGvgs4CrgXcA3uHccb47bsvwTYDLchw/NU9chcGaW32LW4IbV5al2XxewaD5VTMm6xjjxqfaC8/rRG91HzxnTKue4541cyeONqm4MM4d4TMoRfmY4hLLrG3YzxfwK/VdU1VXWJqr5CVa9Q1V2B5wL/p6p/wc0kf0ZVH6mqd8U9d3zuuJSNuSCQn0jp8+caxpBj02ZpC+Eap9LCTh66XKn7EbqkKdYUKyunV8k1jumRK7tGVsm1LMmPhQtShjzlZseuf0rf2PnmHi/HON5Z8hzgW933TYELvWMXdWlZ9DczFcOIxY5C1BqzIa6VwcG//r5R869ljMGkYn7hfY8xo1R8MdX5fQNaig2WBs+aNhme438v1Tslo0VHX3ZNXv/6jNIH5m1B9ajvLBn0prru3BX2I6wNjPcYdTTLMZ5JlLeqodTRY/crZtBKTKtmkKvVzy+7lx1jsSkZsfrl8ud0iskuGVK/3LA+4fdS+WG5seu82Np0DkVD2E2WnIrbZ7BPe5uIXIiLHa4LbNId2hB4j4j8UkR+CtwNuDgmN/fyplFiMqn/PWIdroYlLgSDXIiG2VpG2HlT56fifTXXrcVNzbG0mLyUexlrF7E2UaNT6njIdmPXpPX6xAxj7WCTk9uMpRP6TAk1jPAI4D+CtF8Af8ctmD4GNzsM8A3cHoQ7AYfiJlB+3qpUbUwmxzpiI1/YgWbNTR6XHq2sIYcwf8xYpFzhElL3NFZmaFBSkwu5smLGqGZgyMU9fR1jaTVxUP93zrX35cYMbCi3RtZQ6NLJfKaFmlnjo3AzxrfHsbs3A68D1sYZvX8DrlbVu3f5X4+LGy4FNlDVlTZcCJF71jj8HuaBleNSJUYZNuxZMYSGNoT3OdYGUv/9c6C8XCtXRnheq0eTq0eu7Bhyg0Ts2HWXnDjoWeOrHvvQiQT0bveNH83m8hlY+amSLu3twLNwu1M/TFX/HJzzSuCuqvq8kvw11tpUa+InUOc21xjCUjmLDbWDRyzvKB2/ZQALZQArGbk+LcwzLsQMasrIxs5LpaXkjUP/0nUdsnzmqsdMyBB+cxUzhN6x1wG3UNU3e2kPAz4KPEhVryrJL60jjGFII0mNqPNmEIfEWMcpp2QYhhg8yIdMhg6OtemtRi6nR69vypinmGtLGTV5+3xmCOtnjd8N3NXfj9DDrYA3iciGACJyT+CTwBtwj+E9KSbQnzX+0EH7JwsO4yY+cg0z9juMY4XxplwcsjZ9oTBKHLAlLtYiJ7zOqfhdKW4Wm2RIuYThPQxllgxlzgiGsbXU97D8XJsJ45ThtUpdu6EDUng9fYwyWM5bjLDWEH4ZOL//ISJbd/83A54E/LP7fUfgq7jJlRcB300J9GeNX/LajxYDxSV3IWfEal2+VMC7VeZCYJTyW8/NxaP64ym2XXO9Yu5hi+Hq02tYfmkQCI1OzGil5MXYXkpuznDGjH0pT1i+r3NM95EH8sU2a9xNlnwAuBNwl257/oM6dvhL3GYL/V6Fb8Jtv/UF3PPGO7cokxopYw3TRyn+0v+OfS8Fn1M6jopJM8pR5fuMKHYdY6ytTy/dr5SOJeNVW6fc/U3VJYYa450bKHMsNXWNwgE/PC83sOQGoljeaXs1s4RRtuHaC3i4qh4gIucDO6nqlSKyKfA54GHAYd05X87Jzm3D1cLAcnlrO924MTTWM64436gYEpvKXetYntIgNqqeqbhbSVYpbufnj9UjJs9HKLNUh1gZKSbul5HTCYZNlvz5kZOJEd7+e7MdI1wBInIr3GLqN0UOHwK8pnYzVsi7uan4UDiahw0iFiOKyWplGzG0xOtqO/hQIziENeWO1zLm1D3zj4X3KnUvavUtGdOQ0eZYUExWeF7Kw6hxPWPs2S+jxsiG5ceYZc4dLtV7MWMQIxSRewA/oIsNAktwO87sDPwM6K36hl2e/VT16EDefrj3nCCrr3fv6y87fSQGNIS5jCKjBbPC7mpRo2+OydSw4NT5NR5A6f7VeAYxo9bSfnoMbXOtbTCldwvbTskewgiv2HUyjPDfflBmhCKyGy5ctzrwSVU9KJLn34EDAQXOVNWn5WRWPWInIlcA3/GS9wZuBP7afa4CdlTVy3A70FyKe8XnjcABoRGElR+xyzEPn+HFjkH90yi5PJMyVgthBGuYTi1S17ImxtX/zsXpwrTWmGIqj8/gckYmZnRz7Sf0RGrYVsoNjh2L1SEmp8TOw/qXQhCjYFqzxiKyOvARYHdgW2AfEdk2yLM17qGPB3YPevxXSW7tI3anA3fGTZZchNuD8GBV3UFVdwCu6xRYA/gM8J+dAt8Gbq4oYxn6m1fbsVPuTiouEyuvz7+QbsK4y0p1oFFZti8/jJfF8sVctpSOfVoqplh7r2M6xJBybVNyQhc59T3WdnIMuGR4/e85d7gUT8xhFXaJdwbOVdXzujdjfh5Hvnw8H/iIql4NoKpXUMCgBdUiciBwraq+N8i3B/A0VX1GUagHf7Kk5Eal0nKuWp8G9bPOpWPTdndHKX/SuqfiaSk3LozB+flrda11PUvHwnw9amW36LhQiF1j/9iQR+wu32UyG7NudEJ+Y9ZuXfJu/RNrIvJM4L6q+mIvz9G4d6w/EOc+H6iq387JHWUbrheLyFmd67xBl7YNoCLyHRE5XUReXSOoFNepSSsFnWuDxzVl59JjmMToO0qHanXrcsdiv0OmlLt/Kdblp6fK9JlY6Hq2GMEaVzNMb/UgcgNqrD6xfKm0kstd427PCvwHLbrPfgPErAFsDewC7AN8QkTWz5Y7kBFuBFyJC0S+DdhEVZ/TPV/8IuA+uEmSHwBvUNUfRGSuMFmy2mrrFN2LEoYEvUd1HWetIY0TQ5hZf964rmvObS4NfqFM//xS2SWZrXWsYcU18idxH4ZMllz2kMkwwo1/XGSE98cxvEd3v18HoKrv9PJ8HDhZVQ/vfv8AeK2qnpKSO2g/QlW9HNgf+BXwZOCx3aFLcTHB44HTcFt17RiT60+WXH/Z6cXAdQm5IPaQkbIG82wEYeW4YI9cPK42Nhsix+Zi9zUVq8vVJVZeKl+JvdW0szB/7pzwf+oatrS58LqUmOMqglOArUVkCxFZC3gqbitAH0fj2CDdo7/bAOflhNa+vGld4CuqeosubW/ghcBjcAbxIar6BBF5Pu6lTktwvvkVwP69ZU6hFCNcCLSOwNNmg5OOEYYdvoW1xI7lzm9ldzUY9fpAOdwyLYSubTj4tLbXIYzw0gdN5r3Gm/yk/F7jbi7iEJyNOUxV3y4ibwVOVdVjRESA9wG74YjZ21X181mZA/cjfCPuycBrcc8gv0BVLxWRfYBX4fYqXA3YCNiqe7FTEuHrPFMsZBSXINVIal2hxYjSIDCOa1dyD32UOvjQyY2aepTyDJ3UidWhpGuPoeWFGGIIL3nAZAzhHX46oy94V9V9cFPW53RvsPsUbu3gkcB1wHo4Bghuc4bf4TZrvSPOL88aQUgvWYilh8HlMM3P68N3TWJu2CwYwYVwWVrKKLlnpQmN0n3yz4253jH3N6WLHxrJueYx97Dk/sfqnNO1BTk2V+Pql+7nLLTrVQFDJ0vOxsUBX4qbGPkCbp3hA3Cu8rOBDYATgd1VNeufl3aoHopUvMoYYBm5iZJWdjTOyZNxnZvzPHrUuv2p9Fj7y8mM5am59rXGOMVGhyyfufj+D58II9z0Zz+cTUbYIdyP8CLgTNzjdIfiXt70SOBpuEXU7wN+inOnnxwT6E+TL136jxWOpQxYjFGESDEY/9OnpfLPIialZ27SoMTOU7JKHbn/Hyu7NEGQuw6x9tJ6n8N2EpOfM5wp76bmmsXypX6HbDnmMcXqVpO2GDFoP0LcrMzrgLcA/46bHf5v4ALc9v1bA9vjtvF/ekxgbNa4/6TckJqblmvAse85N2qWMKkGW8NQasqvjW2FxiHmqobnpEIkIUosNGWkUuWmdC+VWWPgS0a1dpDw+01MXmzgyV3zWszbxqy1kyW74DZQAPhPXHzwfNw7ja8EjsO5xvvhmOJaOON4OPA8YBdVvTRVRugahzc1F0xuOZaSGfs9LgwtZ1Zc9xqWFzunxnCGcofIKZ1buv4lN7+2nNo8ufytg0mLe5yLww6ZLLnwPrtOxDXe7JQfzKZrrKr7qOomOJb3W1X9VPeM365dltsD+wKvU9VrgV8D+6jqtqr6HpwbvWmujBj7SAXKY4yg1hXIyZkUMxzCalvyjQM1Afca13icZafc2trQSErHGre2pR3Ueik1hj9X3/56pAxqeCyUE2uHszDQzgpGecTuhcDLVHUz4GXAp8ajUhwpV60U90sZutoA86xhIYx17FjNQOGHNmqMa+gex8rNuXZh2b6eYZgldd4ojDP1P3RXY+fk6hIazqFexSTbtupkPtPCKIbwP3DvJwH4Esu35b8Y2MzLt6RLWwH+ZMnaG6/88ElLnCVsWOFIWeM25I4PwSQM1iy4y2EHD+NTtW5mDfsKWVCOxcTYfs3EQ6h/ro2FeqVklsqvYWO5dltzbqwOISbRRldV1MQIDwP2BK4Gbuw2Zt0eN2N8GXAObub4QOC1uNd4boxbT3gY8B+qmn13Se3rPMcRx5kFYzIEk6pDKWYFbQNETF5tWk3elGdQ0iclt5cxSqywlrGNet9SbWDUegyJEf5px0dMhL/d6fTvz2aMkPh+hEcDr8YZx+2Bj+MmSq4EHgp8Greo+hDcusIiSswA2tyzcKTvkWqg00TNiF2qw1CU3OKY8Yi5djmjGTNiQ+uQY1w1sbHwWIptpeqX0qmmbqUBp5SWGwhb2/WobV6XykQ+00LNZMmPcTPFv1XVNVV1CXBb3MaH98bt+fU3VT1NVX+hqpeo6otwT5b8HfemuyKGTlbE3OJYR8kZm5p8k0Su48yCkY5d3zB2WNI1x8h8pJhfKl+YlmJCqThyyf1MGd1cPWLxwVz+mE4tbTLmRueu46rqFU0SQ58s+SnwblU9WkReDrxFVdcNznkSbqfqR5Tk1z5Z0noDa2NVC+U2j8O1nwZarmPIjGruY0tMsZcbllkyHEPc4rBONfeg5V6V2l5N2xy1/V53ybAnS/64/SMn4hpvceb3ZtY1juE5wP4ichpuZ5ob/IMicnfcLjQvaBGaGhF7tHSWmvxhniGNqAWjuIPTQi2z8Q1JjJWnDJn/OybXzxNjbbm8oS4hU0uxvlJIpea+t4Q7ckawZIRjOra0S2OGDjX7EW4GHAVsJSLniMgBqvob3D5gf8GtIVyj36VaRJYAXwPeAfy2Y4YxuctmjT90UFUYcQW0NsaY+5LKU9uQFkMjCg1QqiOXrmdMRt/RY25qn54yfqGBCJlRKDeUHauPj5iRj+kXG3xT9a0Z4GMubothWyjvYd5ihDWzxpvgNld9F3B/3IarzwEeh5ssuRtwK+APwDuBH+F2rd4f+Bduv7DsC95Ts8Y1LlSNy5DLNwTTdlVTWCi9Wq9t7vg4XLseNTqlDGjKPc6VmSpvaFgnd12Hutyl9KGu8Xn3eNREXOM7//K7U7GGrY/YXQ78Gbd05nnAhbg1hB8ATsA9evc63DZdijOQr1TVw3Jl+Buzhijd1NTN7dEa42ktf1oYpfxZiIWmXL+UYWstexzXZ9TBtHYAaJVTukYxA5orb8jymT9s9+iJGMItz/7ObBrCFTK7SZMfA9sBF6jq+l26AFer6voisinwOeBhuHWEx5YYYWgIc4Ys/J5yjVqD3qMYy3lEDcuD/JKQoWw+lSd171P61MbZcuXlXPoerQNlyVANubZ+/lLYIDw2hBGeu+1kDOFWv5pxQygit8a5vW9X1a+KyF97Q9gdv1pVNxCRLwHvU9WTROQIGgzhKC5WKk9Ng5w2u1sVkDNCqXwLoVOrsc0ZiZSMUrmj5ms5L3YfRmXRQxjhvBnCqskSETkB9xTJpix/fO4fIvJbEVkqIo/GvZ8EYCfgKyLyL+CZwOdFZKU9CWOP2MXco/63H3AOj/l5YsH1FMKAdCko3RK0niWk9G6tb2mQGveAEt6T8HusvYTnxNqDf79jx3PXJWVsR2kbseucqnevf/899j8mM5Y2it5LVSbymRZqJ0s+AZyLe1fJacDjgVfgJkt2wi2avk5VXy0ia+CeRHkmbjOGE4AjVfXmVBlrrLWp5mJ9LQHjIe6WscGVUeN6xtJrXeoeuYmKmEEbN8OvYV9++bXnpfK3tL3U8Vzop4axh8eGMMLf3W23iTDCbX797dlkhMCWuLfVPRy39f5GwBNwj9jdC7fZws7AQV3+RwFnqeqZ3e9rc0awR+zG+aNf/zvFDFvQGjdajEgxqR7+9QvvkX88J7vE3lNl+ogZqxKry5Xpy+3Lr3W3c20qVudcrDqnW8odrmXs4/BsVGUin2mh5hG7n6iqqOo9cUzwb8CHVPUqVd0V+DnwIu8lTdsAKiLfAe6Je0a5GjWUPnV8yI1udQ9WVfd4HAivc/89dk1SBjHstDEXN+XexgxjLftsHUBr2lFo+GoGgf54yU0d0iZLg0+NwazFvK0jrH6ypJss+QrwX6p6TSbrGsCDcFv0Pwh4gojsmpNdisn433M3M3Wsb2SpDtvqypV0XgiMMyaVypNiOqERS7nLft7Y8dCQ+W5dLl4cyk7VJ8e+Sm0uNqimrkOu3NTxUPdYvC9n4GKGOqVvbrCfdjueFVQZQhFZE2cEP6uqXy1kvwj4sapeqar/xG3jv9KGg7n9CGPB4VyQOmQJOYOX61gxlGJW00JL+UOMeey6pzpmONDUunylGGRL/C5nFGKGtz9eMqIpY1pidKl84bFcmCZl2GL6+GkxozrUaKcwbxuz1kyWbAacAqyJmzk+VFU/ICLvAR6L23j1FOAJqvpXEbk98BvgUtyb6NcEDlDVb6bKSE2W1KA2oBw7thBxwlRgu/W8WUd4LWuvbWhoW+tc6x6X7nfOEMfYYUrn8JyUnFCf1EBfajuxPLE65s4dMlny6633mIjZutvvj5vNdYQishdu/8FfdknbAAfgXuH5PNw7S24CLlfVO4vI04CXALfp8i8BtlfV81Nl5GaNW5nPEKOzUBi3sZ8lpDr1uHTPDV4x45NLr9FrHPeqRUbJyE6yDQwxhL/a8jETMYTb/uGbszlrrKpf7ydLugmT7wDnqeqBqrpEVdcGnoF77A7co3VX4jZsfQjusbxcTBHIu0k598B3y0J3KOXKxFy8hYiVDG3I0zKCuTBCzE2rNYI5FzuFGIOqidnF2Fwor/acUMcwBldzXupYf/1SrnhNWCfUJ1d+GM5oxaJbR7hCZu8RO3/CRES+AXxBVT/TxROPxL3l7la4FzwdmpPrb7pQQ/VzI3yNS9x6bDFiFJceystSSm6hL6tHy3m197nFtR6lnFHOKaG2rFRdhjDCs++850QY4XbnHTubjLBHatZYRF6Pc40/2yXtDNwM3AHYAniFiFQvoYnFYlriJD4bCUfvWoYZ/q5hRq3/Y/DLiulfIyMlN3ZeLj0WuK9BKjAfY285JufnCfPWnJfTrzZvWN4o5dSek/NWUverJg7b5xvXYD9v6whrJ0uOxD1Bci3wTlX9QHfs2biXNt0JuL2qXikiHwG2wi3E/ifwR9xs8xcDufvh3nOCrL7evVdbbZ2Vyo7FTWJIsYQWFjNKAxkXm0yx2pTxh7I7OGrcdRIYpw4lBjouTPO6jVLHGk9pCCP85RaPnQgjvMcfvzGzjPAmnAH8JO4l7y8SkW1FZDfgv4HzgAu8/LcE7t7lfSnwSNws8gpQ1UNVdSdV3SlmBGFFRlBCiSWU4k+5vDF2Fju/FH8pscSQDediODVMJXa8xb0t6TA0vhRj5jWI6TIKy2kpfyGNYMyTqSECqd8wfv0X4/KZB+EerfslsBTn7r4btzP1HXBG8M7A51T12SLyKZwhXBcQ3D6G26vqpakyYvsRhmwwNrK1jNKp82pjRL4eMb1qMc7844w3zQJT9DENfYbGRSeN2lhf7pwchjDCszafDCO85/kzyghTj9jhNl34hKreFbgEeGV3yka4zVjvrqrb4gzoprkyYkyoT48Zn9j3FEoxuZoYUep/GPgPy0vF9WoYVo4l+rrlGGOp7mH+WUKrPkPZaa7MkqewUOjvZf+pYcGTvp/zNms8aLIE5y7/N/CmcSpTYwBLQeRYYx2l08eMXYqhhrLD77FGnKpjS0wwVsdc3tixaXXyGtTothCGfBoM1S97nJMdo2LeJkuGPmK3Jc5FPlNEzsctmj5dRDYGLmb5noV0xy6OyFz2iN3Spf9Y4SbXGq7QEMUaSsrwxAxcquzQlY7pVMPMWs7J/c6dm4pP5pByvcaJUWTOSudfSMTanH+sRY6hjNq32F2ImzV+bvcWu18CH8U9PvdXXOzw1ap6GS5m+HER+aWI/AZYGosPxiZLQoORi4uMcoNT8cZSmTXyYrrljEyte58yjrH/OcM5LXbVysInhXHIXgjjEnoH/uBWCnvE5Iwb8zZZUsMId8TF/S7GrQ98l4j07ys+WFV3wMUIv9+lHQd8FbeYejXgdrXKtLhyoXtaahgx1zTlxvqxmBo9Ysw0plNpcqOU1sIMSoYzl3fajKNlAmxSsictI4bYYJWakMsNrrVxaWOLyzH4Ebsgz+aqemX3/Requq+qbgncBffO47VrFSoxl1p3MiYr1uFTsbXUJEVu4iKlUw2zzJ2fiynWNuacyzyUpdbmnRSGlj2rBiBm9FKx6JpBMtU+xlH/RTtZAssesbsXcHKX9GIROUtEDutf8B5gb+B0Vb2+Rn6KVdW6BakOnYsxpuKH/nkxvVrQEuOLHfP1yYUGaphATH9fZm18cZoTB6NiIXWv0Tts3/55YRuOeSthOw69lBbyUIt5mywZ5S12G+E2V1DcC903UdXnePnvDhwDPEpV/xCRV3yypEcYy4vF91IuREle6VisnJKM/jjUxxdr0JK3Rk6uroblmPZ1KcWyU3lrMWQd4SmbPmEiEb37XPy12VxHmHqLnapeDuwP/Ap4Mm5vwv6cJcA3cFt1PSEmN5wsKVH4cCSsiXWVZMTy5iY9coixyZQr4+eNxSZTqJ3ZLR0bwmoXM2oGs3EgbEMxo1fyChbKYC9G1zj1iN3ewF647bY+BvwEQETWB76JM5zJzVh9xEY8WHkmtMbFDA1OakIkhtikR3g8d64vIyU7zJuSE6tPLF+toY8Z4lQsappGclYMdIse4zI+Le0thlm5dqsiRnmL3ftwj9adAjwMxw4BXoybJNkKeDDwMhH5t1wBOWNVw5JyMcCatNzxlMHJsbNxMa4ahpqLFbXkCwedSaKW9dbKmoQBqB2QJo2aa5WKCYfXZpx10Al9poXB+xF2/78O7Ab8C/dY3SldLPF7uM0WXol7ned7c3LDHapTkxWpIH8JMZZZw5xa42etMcpY/lLQPCwnF7fM1bF0rWcFs6aPj2no1lpmTf4hMcKfbrL3ROzWAy79ymzGCHtE9iNcA7gtcD/gVcAXRURw23IdrKrXtigSdsRUHKTFTY6d5+dLMawcYyqVU9Ip5Xr7bm0pJpRyYWvYbJgeK68V446R+ZgXIzhqm+kxrskyw4oYPFmCWyi9O/AL4Iu4nWg2BO4LHCwi/wLeCBwkIv8VkbvCI3Y9hkyC+PlqOpNv7EqTNDHk3M9coLt0bgtaB4OY8Z9UbGvachYCOV3HbdBz9znm/vqfWJ6SrjWYt+UzgydLgLfgtt7aAfghzj2+EhcvvApnEN8GvBW3W80KqNmPMEQNc8nNqPWIzdqmZnJbEGN7udE9pXtO17CBl2TUTBjl5KXyGtIY1aDXnB+7pz7D9wfKHOtflQafSWKUyZLDgDuLyNm4lze9WF3A8VHAWap6Znf+P1X15lIhqQ5eE5cb2oF9BhdzV2PnxspLsb+wjFQeX26qLrFGHbLa2DXM1SsmO6xvKq9hMmgdaFKxYj+tZaCrxdIJfaaFwfsRquoNqvoM3GzxWap6ZHfKNoCKyHeAx9WUEWMttTct5iLWzK6m8qXKyJXXy0q52bnywtigz/pKDdnPM0odh05CzRrmha2m7nMOuftd0z8WO0Z+eROwD3CU93sN4EHA07v/TxCRXXOyUx05ZDq17m4oK5VvSJwwN/kRO97q5sSMov8/lq+2vJKhTuWpxbQ72KpqwGHFdhuGQFKDbwyhxxDKiaUPgSIT+UwLQ/cj7NPXAJ4IfMHLfhHwY1W9UlX/iduNZseIzOhkiY+WTp6Kh8Ty5eJmKUNaY0RKExi1xjkmP5UeyskZ4hojOe6g/rwjFSapGbR9tLT1VHml+x+mj3K/lupkPtPCoP0Iu/QdcNvwrwMcLSI7d6f8DNir24zhHOCpuMfwVkDNZEkptpaaIYud76PGUKbOyQWpY+Xm2GYqjuen5zpW2PBzjbtl9J8ms5s2q+wxJGzi/64ZtEtl++2hJoaeuv+LcYBqxSj7Eb4bx/5eiduy/91d/qfjJlVW7+TfGbfAejBSRjCcHQtjamH+1O+wobW4l6UYYE5eruHWMNOUa5/rMAsZDxxi1Cahz6zoMQQ59u//D93dUmhn1AFnKTKRz7Qwyn6ECnxSVT8OrIfbnJUu/ULc0yd74AzoTbkyckYqTI8ZiBoDVHI9al2F0PD4DbDkdsfSalxu/5xQz5Q7XWroKdaa6nhDMCvGZFb0CNHSbsPBPoz3pc6LDXzjvMfzglEesdsUZxQFZ1AfoKp/EpF1cdtv3RX3Ss+nqGp284U11tp0JSVy8bLY7z4NyvG00GiVJiRiKDWmHKPLMb5JIVXHXN5pYZLlj0P2Ql6f0OOobZ8tGPKI3Q82espEInq7Xv6FVe4RuxcCL1PVzYCXAZ/qsj4aOAP3pMkOwIdF5DYRednJkiE3OMbqcuwrHG3DmFwuLhmyrtaYUsytjTHjmAsf5q8JzJdYYikeu5CYZPnjkJ1rUzWx6pZ2U8PufVmpSZNxx17nbR1hzQveb4GL+d0F+CfwP6r6ZhG5Bvg17lG704DdVfU2IvItYC3gTrgnTG7GGc+fp8q48crzlikxlEHFRs7UJEZqhM2dGyvP17lldC6xxVJaTN6Q82plGaaDWo8kN2jXnD+EEX5vQozwkTPMCK8Hfo97kmQzYDcRuV937DuquhXuRU1Xd2nrAOt16YfhWOEK7zgJEU54hMfCPCFScblQZigjNtrWGgF/oqbVeKQmOXxda/XJGfsaNhnTrQbjZhgLiVnWPTXBNSSOG+tTvkczChbjOsIH4hZNPxw4FbgHcH8ck32MiJyJmxnuJ0uWAjeLyC+Bl+AY4VU1yuQMYo8Y/S9NPqRiibFj/fHULFzsf87FzRmjsKGnjH2u48bc+dQ1qGXWNViVWWONazsLSLXT2smxmAcU/p6l+k4TVZMlIrI6zv3dCvgI8B7gpI719WsNv6Wq23XPHu+mqhd1x/4A3Ld/y10M4X6EPYa6mykDWes+hO5xjRsS6tGjxg0fBSXDVlvWLMUIFzNaQyExQ5gLB8UwxDX+9kZPnYhrvNvln59Z1xhVvbnbZWYJsDNuRngiyAWfcywxHDFTkyYxFyPFMGOTKDl3JSw7ZJVhfUapf4lFxvTKleO7+oY2jItVpbyOELHBNXX/SiGloZi3yZKaJ0tuISI/71zg/+uS7w9sLCLniogCd8etFwRXnxNE5Jci8lPc5q0rucb+rPGHDtp/WXrKoOU6aIy19ci5t6GMUgyyxYjF9A4ZZqy8lAGPfU/p1Or654ytoYyhk1IxOaU2X+PO5o4b84+jZtb49sBaqnpxt0bwYtxehLvh1gu+AjgB+LmqflRE3gvcVlWfIyLvBPZT1dvlyujXEdbQ+JKbmkrz5YZ5Uq5wzk3Judo+auuSOz5Ej5SMVtdrGphk+eMKRyyUfq1lDdFtiGv8zY32mYhr/JjLj5pZ13gT4FgROQs4CbdJ60+AFwDPxC2s3oDl6wjfAKwrIufi9ia8sUYRnyUNZSKpgHHIvnINLXQ3crrmXOOaxpgzpKEeLYwvV1bIIsfJ+sYla5JGeByyJ6FfKvRSCmnEBt5cHmP8cdQ8YncWbsOFpbi1gUeq6smqep6q7oxjiM9V1eu7/P9S1Sd3EylHAce2KBQzMn06lBthTWywVFaYP8XycgHrmC65clLxyZxeNcgx5px7XupwNWVNEqtaJy7pmwuJxAbHnLyW8MpQLJXJfKaFQZMlIrJd6RwReRjwXOA1NWXEJiggPhucimvlDE+sAcWMTmqCJBcXTMUDU4YxbNg17kzJePnlptJiHakUkE/9njZmTZ9WQ1cjL2yLYTutNYylOLKh8VljABF5E277/fd2v88HdvKXx4jIPYGv4Z42+V1Czn7AfgCy+nr3zm3FNWqMJBcDDDHuDhZrrLVlxOKhJXml2GVp8mTW44eGFZGKmbfc0yExwq9v/LSJxAj3uuxzsxkjFJElInKaiJwpIr/CsbzfiMhnReS3uGeKP9Bt3oqI3BH4KvB24Fci8qSY3HA/wtholTJqQ93D2P/Y95rRNaZrbORtcUVCGSmm6qeFBj1Vh1jemvhSiHkzgkNCAAuFmrZeawR7WeOq76J7wXvH7o5k+S4z6wNPAp4N7AlsDNwA/EJVHyginwT2xm3Zr8CfVXXLXBn+7jOpES6HcbGU1vLGwaBKI/q4dV9oWdMsY1VF7trkJlCGXs8hjPDoCTHCx88qI1TVs1R1+24vwp2BK1yy/qeqLlHVNYDX45bQoKrPwy2veS2OGVbFCCHNgvpjsfyhm5sa9UoxsVr2mXKrw7yxMsNROZQVi9+l4qFhvlSdatJCLISBqh1wFiPC9tz/TxlIn+2X2uW4MG8Lqgc9Yqeqr/GOrQmcDBygqieKyKbA53DvNz4MOFZVv5yTH9uPMIWhMbdU3nHGIIeUH8ooxf3GzaRa5K2KLG6WdB5VlxZPpAVDGOFXJ8QInzirjBCKs8Yfxb2sqR92DgFeo6pZAx/bj7CVrdTOnuZiJaVZ1FJcpTQ54eta23jHbQRrWPCkmeK02N2sGEEYnQW3DFitsluxVGQin2lh6CN2u4nIp0TkMuDfgSXdxq3g1hweIyI34BZcf0ZEHh/Kjb28KTRWPXJGKuU+5zp4bGIkNdLG5JcmFWLuc8lFiU2GlGSGepVk5/SN6TjOjjNLBmkWkLq2NdcpFSMsHa+ZDKvFvE2W1DDCdYEnqOr2wP2Ae+N0/gVun8GNgQuAF3f5H4VbZL0RbpJlf1U9ukYZ/4aFbmLOEPTIxU/C77lzQn1SsnJMsQYtcctJGJKaWelpYp5jhK3ssGVQ9fO0eDqLGaM8YncIztj9DHgWbr9CgOfj4oj9Rq3XUEAqfpbqqGHgODdRkSov1khaO35oWENWGVvakmKoMZ1Tht3XuWaA8POn6jGLnWLahnhaiLXHWFuKnef3jdxAN+q1nbfJklEesVsD9yKnTXDvN358d8o2wDYi8n+47bquLZURup8ltzhmMFtH2JDdpfKU5IRpMVk5mTWGMmc8Yy64/z13zP8eCxcYFh65OHBqVUOOxcdmlI0NroyRJktUdV/cgupfA0/psq8BbA3sgtvZ+hMisn5OfspA5dhOzgCkOnXrjFsNU82lxdJLLLRlRjrn8ofyc4NFaiCYBqZdfo9ZmtxJGa5cO8/l7b+Pwgrn7Vnj2pc3/RhYG2fkrgC+6T1i90HgecAPVXVPEfkMLo74L9xL3pcCz1fVUwK5Kz1i5xu+lkmDGDvKuRKhkSgxthxjrJmwicnJlVFCTP+hsmP6tupTW5YhjTDU06OmH9Tc+1j+/vuQ5TOfvcMzJjK38fRLPjMVczh0P8K3AkfjnjI5AMcGP6iqrxSR44ANVPX+IvIAnBHdSFWvSpWR2qq/hFoDVmMMwkZYmz+XPrRONbLHhVpDOQmdRh0ARsWsGu4h12VoPa675ETW3PDOq5QhFJHdgA/giNYnVfWgRL69gS8D91HVU3MyR5ks+V/c0yT3wT1+99Yu/4XAjd1zyUcCf8gZwR61Mb6UCxzmiRnB2ASJX3ZpdPXzl+J/NbG+2O8hLnaNG5fKn5qo8Y/X6tSK1vNHdedGLX+hkAoH+fDvZ01s159IqWGcJUxr+Uz3cMdHgN2BbYF9RGTbSL51cSTt5Jr6DJ0sOQn4IvBGVb0rcH330neAA3Ebtd4Gt03/02oUgfq1dn7+MD3sLKljqThKzMDF8vtySga2Ty/FA3MTKWFDztXDzx/TN1furMToDA6xPpEbtGriias4dgbO7fZDvQH4PLBXJN/bgHfhQnRFDJ0seQjwZOBDkez7AEeo6hJgD+BIESmWU0vvU0bOl5P7HUv3G08ukBwzdrnYTjhq51hiqvHGftcYspxxi3WWnBFO6TdNzJo+JbTqGw5cKU8o1hZy/WhcBnGKkyWb4rzOHhd1acsgIjsCm6nqN2vrU2UIe6jqX4Hjcc8RbwWc2+1HeKtua35w23R9scv/M+AWwIahrPARu/DGxmh8arSLuQk9amJbtY2jxCbDRlujSw2zyx1PyQuD47XuUI2xXQiUDMek4qUtOrRgnGGE2sF9VYRvF7rPfo3nrwa8H/cupWoM3Y/wNFzs8LO4LbgAPtj9vwA4rHvD3W9xT6b8OZQbe8QuxlJCw1JrTHKNusR+Yump7zl9UrJL8b2QoaZkx+T1/0PXPRxgYgx1ljrPNNy4aRt/KLP31D1LeSmxc8aBSS2o9u1C9zk0KPpiYDPv9xKWv0ETnL3ZDvcmzfNxT8MdIyI75epTwwhvi1s2I52uqwNX4vYj3Ay3aPqfOF8d3GzyTsA/unOu0sLUdCrW18qGfMQadS624usRi/mlXPKca9vnDeWn6hmeE+sAOSMaGr+Yvr7sWL7WTjNN4zlLhnscqI0jx9pPq8tbarclTPFZ41OArUVkCxFZC3gq7m2aTi/Vv6nqhqq6uapujpvgfdzIs8ap/QiBFwJvVdWlqnprVb2iO2VH3PPF26vqNoCIyCa5MmomQcJj4fdYntSEQe6436h8o1EqtzW+6f9OGb2Y8Y2x39YYoZ9eE2fNoabepWs3tDOOk7HVeAXjkJ2TlxqISvUM7/U4QjKzClW9CbevwXdwD3J8UVXPEZG3isjjhsqtihGKyOoicgbOCH5PVU8GtgSe0vnx3xKRrbvsxWBmCqVGVwrw++m+QWsd/UoGNKVDTScvsdLU+bV1SBnF2g5W6hhDDEPKaNeWuRDItaVxym4xalC/PKpW/rgwzSdLVPU4Vd1GVbdU1bd3aW9S1WMieXcpsUEY7RG7tYF/qepOwCdwm7BWI7YfYWmUirmZKcTyxeJmKdcjNarmRvdUJ6+dqEgx4RRzi52fMuAtHaRmMsXgUBOzy51TYqItLu+o7u5ixuBH7HALqM/HTZb8G3B7VV1TRH6Am1G+Bvg77lnk+6vqpakywneWQLoTl37H0ksyS7JC3XxZLefnkHJpcwa9VX4N2wsnV4bIMUwfNfeyx5BH7D6xZDJPljz/ouk8YjfKfoQfBN7bMcXfs9wd/hbwO+CewJeADXNGsIfPZlITJTWzYSkXsGbyJRZDjMmpiWnGJlxiOsZG/v7cGvabKyeVP4WauNGqYgTngRXF7mutq1xrBIdi0W3DRfoRu4OAvUXkHOCBwDO6/O/DGcJzcZsx/LNGkdDIpNzDEjOqmSSIITTEoyIXFyrFA0OjGE7exMryr09qMKg1rqsyxnkPc/LHJaNm8iQcxFMx33HruZgwyn6Ef1XVx+AeYzlaVX/a5VdVfVH3Cs/D8aa2W5GK75Xyt7DJnAEMGVppNI4xyNI5LbO/OfjXJ2XsYqw4xTrGgWl0xlTIYpLyR5FR0jfX7kvtaigpqIHKZD7Twjhe3rQPcFR4jog8DLf4uvp1nj5GofWxTp5jkylXNzyealy5xuqP4C0zwCU3PaZ7bvImZ+zDaz0uNjUOOePowLPMDlvKCgftFna/qoQ0poVRXt60a5f2SODlIrKVd849ccbxrsAWCbkrzRrnUOMKlJhQK7uKyQiNaYxJlWKAMX1yccmwnqlzalymGFL1GBWzYsQmZbAmZVxSseZYmbFBPjw+CcxbjHDofoRvAV6Ae3/xFritbnZW1WeLyB1xzyP/Hbfzw4tL63jCWeOhs5up363sMjcpk4rbhOX5+Wv1nxRS5cTSU3WvPX8ceuXyp3RZiPJnFbl+UKrjdZcM24/ww5tNZtb4xRfO7qxxarJEgcfimN96wCVd/jfhFlDfBvfM36drlckZIB+hK9qPmqnGUGJVJaaXm6hI6VWbP8XEhsTuYsdb3G8/zf+dqsdCGsGSLkOwqhrBXOy3/x377p876UmlVQ1FRgjLNkM8Dbc+8COq+hoReTDuueLrcGsG76eq13Rb4LxeVfcWkROAV7YwQmhjJSFyLKdlpCzJrE2vqUsNM0udXyuvRvaqjHmqUyk8Mm4MWUf4oQkxwpfMMCNMTZa8DNij23fwcOD9Q7fAKSHGBGomD0oya+MnqVheDVOqYVilyR2ftZZCAbEya/VeyOD/uDEtIxhesxomX2L5pcm5Gp1W5Xs5DQzdj3B3YPvumWOALwAPoGELnNRkSYodxRDe8FpXOlZOqvGE8mNuearslsYYc218Ftt/hsTVUgH1SbpJrR1xITruJMpIDWqlwbD2mtcY2hq9xo15e4vd0P0Ifw1sKCLniMjZuDjhb/otcHBbdP0VuBm4NOYax/YjhHzcKtZxY/l75GJuqQYcItVow7TWkds3vL6xq43/hEY5ZSDDDhmLS06i0wyJ/00akyyj1ci2xJv9NP9ep0hAqS0aW1wZQ/cj/AtwY5d+M25y5GSA7h3GHwUeh9s77LW1ytSOcin3snbkTY2quXhfbd5Qz7CcmBEvuekpA1drcHOsZVbjatPorDkXtoRJX8ecC91/z+XJTYgNwbwtnxm6H+HNwN9U9S7dM8jPBB7anfI04KuqekG3Bc73WhRKxcJi/8PjMZTicWG5pfNzOqRkx9ykWhcnhZJhjtUndx1njSVMw0DXegkptLKvMAacy98y8MU+/fmxzxDMmyEcNGuMY3nnA3ur6qki8gHg4ap6DxE5BFgTuDsuZvgBVc0uoQlnjXuExqUU5K+JocWMbG6GN8cS/e+p/+NELn6acplqrt+4dVooTLPsSaCmvfW/IX1va66L31aGrCN83x0nM2v8igtWoVljnJF7KnCwiPwct3j65i77Grgdah4DPBp4o4hsE8psfbIk1UBSRnAUtpOKI8YaoK9fygi2jr45NhciFvfzJ1dC/VJ1jf2u0XeahmhVNoI13kcqPRXrrWWfvsyh13CKW/VPBFWMEJaxwlOBW+E2Yv0K7j0lt8PtQn2lqj5JRN6JM5J/xcUTL8W9jf5LKdmtT5aEqD2ndqSEOiZVMoQ1I3UNg/X1qcE4WWmu/FHlt54/5FqMs/yFxELqNmQd4XsnxAhfOauMUERu302AHIDbXmtD4DfAIcDBOHa4Fcv3I9wSuB64D272+GG4WeYiao2C/z3lNsRQ07B8JlXSJ5zsSP3285dieyl9WuKitbJr5OUmVFKMuRatHX3ckzuzZARzbD0Vzy5d70nGfedt+UzNs8b3xD1TfCfc2+tuwG2m8A/gTzhj+i3gbqr6aBH5H5wLvQVuV+vVVDW68UKPWIwwZ+BSrKrFpa1lOLlya86vRYzFjYvRzVKHr8U09B4Sa5uEDpBvqy0xwBoMYYQH3WkyjPC1f5pRRtjtR/gbYBdgX9xu1LcDLlHVu6nqXXCbsfYvaDoQuCPuWePbAk9qUSg1+sXiXj18JpZjL7GYSmzUjbE2v2HGzkudPwpLyhnlWrm1bHkUjEtuy6AzCbTMGg+NO9fo0MK0a5lka5x6saHGNd4TuEJVT6uUuQ9wRPfo3R7Akd2jd1WIuZepQL+PGpc4lOk3urAB+gY4Ji8VwPbLqXX1cwzV/58ykjXGvOac1Hk5jJM1DYkNTwtD3PoSUvcsNQEYekK5Mv32Po7rtugmS7rJj2cCN+FY32q4SZK9ca7xjcAfgbVV9VHd1v0nAw/BbdN/W2BH773Hvdz9gP0AZPX17r3aautEb+w4JkFaOuu4Ji9a3ayh5da4Ti2hgElhVXXRZwFD3ePafENc43dOyDV+3Qy7xq/r2N0HgR/hZoefjntq5M3APXAxw6u6U67Dbe2/NfAO3Bvu/hyRu8IjdmGMrCYwHjMOtQwn54LnEBudY799g94iN3c8lBmitg4lnWIu1KjMcdxGcBRWs6q5h7lwEJTrM4n6LkUn8pkWal/wvgS3LvCbXvJ/AC/HxQz7iROAP+AmSc7ALby+HNi4VIbvVoYYJbaRci1yjSsXdwllluSlRvPa+oR5c9epZVa15FKV6pczopNGLXtOoSUGNwpGiSO2xAVz12JSLHzeniypjd0dArwa+AWOCaKq56nqzsDdcHXojeQ6wHO7x/J2wC252TQU2IKWm1lrdFKNqaaT5RpsTq6fVsMsS254KkZU21Em0UkWwv0dVxikRl5Mfs3vEuOOfS+1wZawTM5zMKyMcUyWfBT4saqO/YrXMrjYOX6jibGoFCPKGY2wIcY6QYptlIxRakKkZrRPsbVUh6txfceBaXTCXJsYilw7TP2uZWklz6QlvOKfH4aZwnqMinmbLKlhhA8EHtftL/h54OEi8hkAEXkzcHuci9zjYmAz7/eSLm0FhI/YpYxKaNhq3Z4hccMQufhi2MhS5/Z1aGGRsbw55pHKk2IYod6jTmTkXOxxyBkVo7LUVuNa44HUlhsLr5Ti3mGbqGWSixmtj9j9BriNqm4kIicCOwLnAb8Fnq2q14rIJ3BLaM7DPWGyZuciJ3HjledpeMNrOmcsf4y1jdLpa1jeOCYohpxXW7fQKKdilwuFkts4xFWdxGTMOAeLIWVP4l7FZA2ZNT7wTk+fCIE78E+fnc1ZYw8HsHxCBOD+wGW4zRYeAny1S/8c8FlcrPAOuG27sghZ3CjGKmQ7NW5B7lgpxufnyckeV2NOuWm1cSX/f4xlDr1OJZYS0yWGIfG9USZOavUY970rlR226XFgmoPfrKN11vgdLJ8sWUNVtwTuhduA4Qdd+vGq+oLu2J44g1gF3+UM02MY0lBiLsaQuFLoeqRc19SInnN/Y3HOWJn++TnW2jJZUhv/TLnhuTLG2QlbjMrQc8eNoe00hZp65OKbo1yHeXvWuHXWeIUZbhE5HMcK7wp8KHLec3HPIVehZqKihNp4VehWh+eXYjKhG56bsCg16hQDCOsdst5aY52qQ5ieM1qTYEglfXIYpfxxGZmFQGqgLZ3TI2f8RrmGi24dYW7WWFX3xbm/vwaeEpz3DNzC6vck5Gb3I4yxopaOHzvmf2riiT1ikwux9Fh5NXHOXlZNY48Zq5zOoR4xJhcG18eBVjmTiPWlWHoNZmmiJ7yXpWtVG3poNbDzjNZZ4+8Bu/ezxh0Oxm23tXefICKPAA4C7ot78mQlxF7eFLKiXAfuEcbgwo4dHssZrpjMVDk5+OWldI+5zDnWGtMzpXvKtU7p2oJJMbacCztLcb7askZFKjRRiommzo+hVlYMi275TOwRO+CZIrJV95rODXC7Uv8GQETuBRwKXEL3QqcapIyF/903LC0MIjRIKSNUM5KmDG2pvBA1nTzGElPsL2SpqbJj7rZ/Tsloxu5BrF6luqXyhANOrMyWckNPIExP6VmbVlNOS/4eNUY8x3hjA2ipzMWM2neWLAH+FzgW99jcJsCJwPa43am3BG6nqteIyPdxM8qX454zPk1VHxoV3CG3Q3XYEcLvNZ0X0myrhuHVyIvpnjo/V59YGbXHcrqMmq+EofdhFNSWGZbbYvBrjqXuT217iOnYglrmn/Iuhryz5HWbP20iBO6d539uKlMmtYbwy8A7cS9jeqWq7ikiB+A2XT1YRK5V1Vt3eXcEXq+qe4vICV3+ld5r7CP38iZoD26XDE1JTs4Qx/QZV8fKNdaSEcsZOv/8Gl1i59TKqEXqOo+jrKGGrGbAaTE6JaO5UCi1kyHrCF+z+T4TMYTvOv+o2VxHGJssEZE7AE8mmCnu9h18P/CKFiVSNL0UZwvz+v/D772MWpcgHNlHacA5PXLH+jJzRrAkJ+cah9fCv4Y5458y1rE6pJAabHIhipwrG6YPcf1CYxGrc6i3/73GSJYM6Dhd1ty9M9d4RQyaLAHOwb2p7joRuQFYR0QuwDHG7YCTuvSHAP/XxRJXgD9rvPbGO65wLNYgauJssZiaf36NYfUbvC831hFyyDW0MI4X0zE0dDk9c2XU6hczMrHrGuv8Q13rlgEmHBxiiLGwUN8ahpa77qHRDttI6JnUGG0/f6v3k0NN+xkKmyxx+xFuAHwB2EdV1wL+oap3VNW/4V7k9Jfu/4+BPWOucWzWuEfKUKRQYigpxPLFGnJNvjA9x7xqDXcou1X/FEMJB4VUebGOGTuei3O1MMNYXXJM1M+XY7c1+Wv0SjHA8FjsdwpDWOBQI2YsMI1R9iNM4WnAV1X1gu731bXKxBheKk/qeM6V9L/7nTjXiEuNLjw/xfTCsnP5Y7JTDKKGuZT0b0mP5UndhzA2FcuTK7N0LWNpNW5pbf7Y+SUDGxsASx7OqOwsh1T4ZFSjOG/7EY4yWXIEbnb4etzjda9V1etF5BBgTdxrPtcFPqCqn87JT02W+KjpEH2+FteslnENaayjuI0leX6nqzEoOb1G0aPmWEzvmjKgLRSRck1LMUc/b6zMIfq3YNwya9tJjyGTJS/f/KkT8WTff/7nV53Jkg6vwz1adx/ce0le06WvgYsfPgZ4NPBGEdlmVEV9dy43soUMpBSrS8FnjUNd75xbWSMvV7cUM8npHdOjlvnVxr5KLK4Ub/Tz5Zh9KvaXcvnDc2r0Sx3PodZFrhlkh7rXvqczquzFgsH7EarqpepwPXA4sHOX/yLgO6r6D1W9Ehcn3D4UGnvErsZ4xW56DLFRsOXmhx22lR2WYosthrrVEPlyY4ay5IrHDEEpFujLiH1P6errWTPgxO5r7B6XXOhYmb4xTYUlWgaOkJnVXPuYvjXXMXbfY3Xzj49iDBfzZMmWwN+Bv6vqM0RkExF5u4j8DrcF19rdKT8A9heRM0XkVzhW+OuI3OhkSU1cqcWdHWLAwvw5Y1rDMlLuWo37lzLmLS5jqFfMbYoxydIAkDOaNTq2sKeYHqFxqQkT+GmpY/61CM/JsdT+eKyNllh6SnYuPaZHrv65AWSxY5T9CH8I7A/cABwHPL9LfyRwNi5OKLhH8H5XEh67iS0dqcVVy8lJdbKQLaR09mWmDEKtociVW6pL7LyYfrFO75edMujheTEGFTOUqXLDwcGvQ0z3mOGO6ekb+ti1CfUsGatYOSGD9OuTQs39bGFssQEzNtANlR9isU6W9I/YvR14eTdZ8nPgaap6bpD3dbit+l8EbI5be7iNqibrWTNZ0iN1Q1tHtyHnDEWJTdQy1ZTbGx4rGefwf6tOuXsQGoewc9YMbjV1adFtnPlrZfqo8WBGYX2j4LpLThz0iN1LN3/KRDzZD57/hdmcLOlwCCvvR7gl8JQuzvctEdm6S/8w7s12lwC/BA7IGcEe/qg9dKSqPW/co2PN+TmDU1N2aBxSLk5OXsiEajpo7J7Uune5kEKqvJLrFmObMQZYU2ZMx5Tc8HuO9baEB1oYaI08H631X8xYo5TBnzUWkV28Q2sD/1LVnUTkicBhwINxMcEzgIfjjOX3ROREVb0mkLsfsB+ArL5elsVAuvPGXNAWtyTXWWtZUYlh1cipZbqtbClVz7DMlCtfyxhjxrjWqNUag5Levsxa9unrVxOaaa1XiaH7MlrZYS0mIXeabuwkMMp+hH8B9hWRM3Bvsduhy/9c4J64F79/FrgUt8xmBeSeLGmJ2aSYXSw2FZ4XNujcSJ5iCamO2IqUAS2xk1DHmJFIXb9Y/Ch23WLXLse6cvJy+qfqlPudMl4xZhzqnLo2Mf1ig214ToyZltpuOCjXtudUmp/u6xzqPaoHNG8Y+ojdM4BbA0d1b6g7BbewGtw7StZT1a1wLHEH3BvtsiiNzi3n9zL89FHdj5hbGeuEuQ5Yq3sos2TEY+k5tzs2AKR0inUiP09pECgx5BrX0S8r1zbCwcI39L6sGoaWcpFTeg9tszE9S/lzx0PdUtckPNaKRbdVPyQfsbsK2ENEfgk8ETi6S18K3NylvwT3lrurSmWk3Jswzf8dGs/+f8oAhOfHykvFgmLn51zhlIsWM/gl41nLWmJ61RiN2O9Y54x1/tTx0rWL5c+hJm/MwJbYUHitYgNA7vrXGv/UIJIbWEv1qHHlc95ATT9ZLGidLPkF3VvsgOfgXN4NgH+w/CXvGwJ7q+o9VHU73Os8b9eiVO6G5phKOPrn3Imw0YflxgxYq3EapZGljEzOAPf5Uu5VSt+U4czJyRmJEnNL6V1iO0Pc7FqdW2SWZMUG1Nj5sXZbqmOtO59j7y2MPIVFt6A684jdy4A9Orf5cNw+hIPQN4SUe9vnCdPCfGEjSbmvpUZaKid0afq0FCPJyS0xyzBvjkEOqUvqeCjbzxfruCVjG5OT0ykVDohd51CHmrrVtIFWxAbWkPnFyivVJ1dWKl+qbY5rsF6MrnFssuSbwP2Aj4nI2biXND2gy78UOEFEfikiP8U9h7ySaxzuRxh28JT70v+uYTlhWo9cA025HzljUTJkJV1qR+VSB29xNVP6xfLk3P+cUc51+Fi5IfOJMashDCZntIcyohh8nUOjnbse4XUMzw1lxAaDEkHwy+kx9HrOI6oWVAOIyMuBPXBvpVsC/AvYXVW/KyLHAJuq6r1F5L3AbVX1OSLyTmA/Vc26xrkF1bU3K5WvxEJy8nykZMdc7FrdUnmG6lySXatHqeyYnNY61mLWOmt4n3LtYpxlQlv7qtGzx5DdZ56/+ZMnQt8+cf6XZndBdWSyZH3gz8D7RORM3JMk/TrBNwDrisi5wKOAG4cqV+saQJrdpJhm7H8sFpNyRf0yw++hvBqmVmNQUyi5UjFWm2KpLQzVPz8V84rpkZLReo5/bq2eo56buuetLDO8/ikW3csruda5tJwBHVdYYFXH0MmSK3HLZfZV1e1xO8xsCKCq/1LVJ3fLZ47CvfmuGaHr2sLQwrTYebH/pXNLMkvnpfSO6d5ijGrc99Q5QzpC2PFi5be4wX3+Wv1rwiI5oxoOUi1hhFS5qRBBLn9Mdu11C/+XQiUxGaOwVp3Q37QwaLJEnT/9VODg7pnjv+OWyfjnPQy3uPo1DEAYI8q5vf33IXGzUvwuxQRyLKzVMI3CaFrOj6FkgHKsoVRujiXVGqCYLjFZ4f/cPUqdH5ZTi9T1y9Ux5YGUZPteii8r9r2k7ygu/LxtujDKfoQ/U9UHq+rOOEa4bIcZEbkn8ElgL1VdaaKky7NssuRDB+0fbXylThozVLUuX43bEJOb61Ql9yjnupaMUaysVB1aDFQpPafbqHGw1vNTuuTueQ1q2t2QwSrnoZTaa60bH+paO/CPYgTnEdVPlqjq5jgW+MNuP8J/AxCRtXGs7+Pd7zvi9id8pqomt9/yH7F7yWs/CsRnx/wOXxqpfRclvNEpQxZ2nJRxSbG8VuZQa4RiHbrEIEZ1eYa41uOS14IcG2/VI9ZOSm51TqeU5+Cnhe0sRQJy9Ui5yKkBMuxHo4RGYBG6xhm8SkR+DZwFfENVf9ilvwm3gPqjInKGiGRf7t4jNqrF3ICcW5NyjWL5Y65TapSsdX/HbRxqOoefr8QGhugwi8iFHlqvQemahr9TBqTFM4il5wbYGCGIhQNKcmrSFyuaDKGqnqCqe3bfX6Wqd1PVu6jqIV6e56nqBqq6Q/dZ6Z3GJcQaAQzvwKkRsGRkYzrlmGUrU/GRigWF8nNGuZSWQollt9Zn3LHRoeXV6JELV7T8bi23VqcU04zl7X/nPI/agaKEeYsRVq8jnDREZD9VPXRW85mOi0fHeapLa95aPPNOT5yI4TjyT1+d3XWEC4T9ZjzfNMs2HWcz3zTLnoSOixbFjVkNBoMhxGz4kePDLDFCg8FgmApmiRHWxjCmlW+aZZuOs5lvmmVPQsdqTHOnmElgZiZLDAbDqoOn3ekJEzEcn/vT16YyWTJLjNBgMKwimObi50nADKHBYGjGvL3FbiqGUETuCuwFbNolXQwco6q/noY+BoNhcWPBZ41F5DW4zRsE+Hn3EeAoEXntQuuzGCAi6zfm30hEduw+GyXyrCYiq3Xf1+ry3jbIs5aIiPf7YSLyChHZPVP2TiLyBBF5XDdgThwisob3/dadDrfNnROcf+vC8ceNop8np3hfFgqLcav+ceO5wH1U9SBV/Uz3OQjYuTu2DCKysYh8TEQ+IiK3E5EDu1cAfFFENunyvFhENuy+byUiPxaRv4rIySJyj0DerUXkrSJyjoj8TUT+LCInicizg3y3EZF3isiRIvK04NhHc5XrytgxZnzG0OGKhiHR6a4Uke+LyHNzRlFEdhCRk4ATgHd3nx9112hHL9/jce+rvlhE9gJOBN4DnCUij/VEnoLbxBcReRXwduCWwMu73cv9sh/aPZd+EO41sPsBnxKRE0RkMy/fPTp9LhSRQ0VkA+/Yz73vz/G+LxGRH3Tt4qciso137NnA5SLyu85AnwW8CzhTRPZJXasAv/LkPTH47A0c2v8O6vwXEfmkiOzqDxghGu7LXUXkWyLyTRHZUkSO6Or8cxG5W2VdFiWm4RovBe4A/ClI34SVQw9H4HbFXgc4HvfC+D2Ax+N2u9kLeKGqfrjL/wHgYFX9mojs0uV5oCfvs8DXgEcD/97J/TzwBhHZRlX/u8t3OO4F9V8BntM15qep6vW4d7Usg4h8VFX3774/CPgc8AdgKxF5gaoe1x17Nm5H76uAA4CPAH8EthGRV6vqUaULB3wXuKNX9hOD4wJ8pDe4qvrVLv3XuM119wHeLSI/wW2a+3VVvc47/wjgBap6clDH+3XXZPsu6c3d91sCZ+IGtt+KyJ26a/aNLt/qqnp19/0pwINV9ToROQg4HXidV8whwKNU9c8isgXwflV9oIg8EvgUbrdzgI8BBwInAc8DfiIij1PVPwBrevJejDOo4F4s9gXgkbg28zFg1+7YK4C7AOt2dbmXqv6hY1zf665T/6qKGAT3ju8eXwC+g3t7Y2/c1gEei1uH/FUv75+BM4C3Ap8WkS/j3hV+UlDGEdTdl0NxA9KtgR/idoXaF9gT+LBX55FhkyWj47+AH4jI74ELu7Q7AlvhGq+PjVT1QwAisr+qvqtL/5CI9OzRr8O/qerXwG0QISLrBvI2V9Ujuu/vF5FTVPVtIrIvblTvDeGWqrp39/1oEXk98MME2/IN49uAx6vq6SJyZ+CLwHHdsdoO98FIGeA61fpBWm2nu1FVjwWOFZFbdsefijOa31HVnvWuE3Y2AFU9SUTWCdIu6/S9QFV/26X9STp3ucM1IrKdqp6N29X8FsB1uHsWeiOrq+qfu+8XAHfqZH5PRA7x8q2rqt/uvr9XRE4Dvi0izyT9wMM2qvrv3fevicibvGM3q+qVONZ8bWdQUdXLA5L2DpyRuSki36/LA3Cs9hRV/RiAiOyiqvtGzvtHN4h/WNz2dU/F7dq0PvB5b2CuvS/rquo3ujLfpqqf79K/ISJviZQ/GDZZMiJU9duda7IzK06WnKKqNwfZ/Qb26eDY6t3/L4vIEbhR9Wsi8l841vdwXIfy8Q8ReZCq/qQzan/pdFoauCZri8hqqrq0O/52EbkYtwFtLh50G1U9vTvnvMAo1Ha4fXFG8/qI/NBVq+10ywroGOAXgS+KyHo4dt3jW+LeUPhplg9SmwHPAr7t5cO7Pr4LujqwlpftP4HPinuvzRXAqSLyY9wLwN4R6HiqiHwKx2Qeh3MDEZFbsfxe9+Wsp6p/6+pzfMfYv4J7Y2KPJd2gIsDtRWRNVe3fn+Mzxws6N31d4Dci8j7cAPIInPvf43TgaF35tbaIyPP676p6SsdiXyIix+NYWcpA+/flAjq3V1wI5Clevtr74l+n8PW6a2FIYiqzxl0HCul/DF8XkVur6rWq+oY+UUS2AnoW8vqO0R0FbAmsjYsvHQ08PZD3n8AnRWRr4By6Tiwit8e5qj2+gTOk3/d0PkJELgM+FMi8q4ichWvUm4vIBqp6dWcE/cZX2+FOAc5W1Z+GF0NEDvR/N3S6z0bS6IzJ/3q/Xyoie+AMkT9IfaR38Tvs19XtX6r6cy99M5xh7uWd1cWwHgVsg2PCFwEvU9W/Buq8AHg+cH/cde/dWsWFMnq8C7gbXvvpytkVeKOX71Xe91NxA9jVIrIxcIx37BnAi4C/Aa8FdsO57BcAz/by7Us3cEawwlZzXfv+gIh8Cefyp3B8LFFVfwO8xfv9UnHxy3ClRXhfPuL1l2Wx7K6/fJ8xYt4exJj5J0u60XFT4GRVvdZL381zkcJzjlTVZ0bS7wv8RlX/1jGN1wA74tzid/Qso8t7Z+CJuM59M+5VBJ9T1WsCmXcKirlEVW8UN4HzkD5OJyK3wXU4xcVrHo3rXBcAb1PVS7t8t8UZmH/WXaFlemwKHAzspKp3bjnXYGjFE+742IkYjq9d8I3ikyUishtuPmB14JPdZKt//OW4+PFNuDjsc1Q1nJNYATO96YKIvAT4OvAS4GxxM5Q93tHlOSb8AE/wvvs4DPhH9/0QYD0cw/gnLujcl/tS3ETLLYD74FjmZsBJ4iZhlkFV/xR8buzSr/QmK1DVa1T1nd1s+bWq+hVV3VNV9++NYJfvL6ERFJHbla6Vql6sqv8eM4Iisp6IHCQivxE3U3mViPy6S1vfyxebpT9LvFn6Lt9u3vf1ReRTXb7PibesQ0ROF5E3iMiWJf1l+Yz+2ZKf0V9dRF4gIm8TkQcGx95ABiKy0qsjJL7q4GoJVh2IWy70HHEzsmd2dft82B4K5R8a/L6ViLxaRF4lIrcQkWd37fbd4i3JCXTcMqPjnUXkMBH5f931/ER3Pb8kIpvX6lmDaS2fERd++QiwO7AtsI+IbBtk+wWOENwT+DIu5JDFTBtCnAt2b1V9PLAL8EYROaA71o8cS3DvVH4/8L7u/9+77+8L5K2mqn2weydV/S9V/YmqvgXwDcjzcS+v/3841/Xuqvp6nNt0cK3yIvIt7/vGIvLRCiNzkNfodxKR84CTReRPIvLQQP5OInK8iHxGRDYTke+JWy5xiojcy8v6ReBqYBdVva2q3g54WJf2RS/fETh2fCHObbsO9z7rE+neSdPBj++9F+faPxbn1v+Pd2wD3ATP8eKWcLxMRO6QuFyfBc7DXeO3AB8Engk8TET88v4HeChwFfBBEfFjYctm0UXk7yJyTff/7yLyd2DLPt0754Vd7BaWrzrYAO89PB0+hZvUe2d3bY7t0t4gbsDuy71t4nM73IoHH0cAGwFb4FZH7ISbkBHczHZMxw9mdDwCdw+uxYUOfoMzGN9meahhLJjiDtU7A+eq6nmqegNu1YdPkFDV4z0ycRLORmQx066xiJyjqnf3ft8aZ+F/BTxcVXcQF4s7ANfIXqWqZ4jIeQlm9CXgOFU9XEQOx8VYThU3efNZVb1Pl++XOEN5vbh1at/T7pUDInK2qm7nydwxLKc/BByrqv16x2+zfCnQ03Ad/3O4yYpHqOpefdmqeo/u+/HAq7tY4DY413xZPErcurk344zNu3Gxty+Li5f9P1W9f5fvt6p6l8Q1XnZMRH6hqvfqvl+gqv5SnTNUdYfu++mqumOYXsj3YNxkzxNxy3mOUm/XZBE5U907svvfp6jqfbr7+ytVvWuXflY30vfrMj+Ke6f2PsBJnv4f7K7Lq1T18i7tj6q6Rab+p/RtIFLWsu/d75NU9X7iXl52hqrerUu/Gbc0zHfxtPu9qaqu5ck4o2vDghtMNlFV7X6f6ZVdq2Pu/i07Ng489o57TsRwfOOCY7OusYg8CdhNVZ/X/X4mcF9VDVec9Pk/DFzWkZokZv1Z48tFZAdVPQNAVa8V957lw3Azj31g+uDOyB0sIpeTrtfzcEHsN+CWc/xMRC7EMaDnefk+CZwiIicDD8a5z/2kShgwPwX4ESs2/B7re99rlgIBrCEia3TM9ZaqekpXz991nc7Hmqr6rU7mu1T1y13eH4jIe718fxKRVwP/6xmFjXCTARd6+Wpm6QH+TVwcRoDbiIjo8hE16mWo6onAiR17eiRuVtR3FWtn9NfyZN4E7Ccib8bNNt/aO/ZSEbk37omlo3Fx2VjnrV11cKOIbKluydOOwA1dOdeLiC/3PGBXdbPAK6Bra7FroyJyXH8Nu9++zFodl3YD5nrArURkp26g34pg5n1UTGodoYjsx4o7ah+qA18zICLPwLHsh5byzrohfBbBuq2u8T9LRP4nSL8IeLKIPAbnKq8EdZMhzxY3cbEFrv4X9cbBy/cBEfk+bnbyfepm8VC3zu0hgdhf4xa7/j4sL2j4tUbmo8Bx4hYdf1tEPoCbXX44bvGtj3+JyKNwDV9F5PGqerQ4F9pfivQU3IzojzoDqMDluNnTf/fyfV0Ks/QdPoGb/QY367wh8GdxM7K+jivF5NQtkfo2wXIc4IXAJ2T5jP5zu7LDGf1TJZgoU9W3iFve5LuTqOppIvII3PrUH+FivqE+rxcXhyytOngVzsW/Htdunurpd6yX7xBcSGAlQ8jKsapTvevtL0PaEhfe8XWsWRnxatyKh6U4T+N14t4xvh6ryHb9ndHLGb6LcfH6Hku6tBXQ3ffXAw9V9yBEFjPtGq8K6Kj6L7VbVBwce7yqHt19fyvwbvVmvrv0rYCDVPVJXtouOMOwDa7TXYhr9Ifp8hgnIrI9rnMtBV7WnfMfuIbxfPWW4IibfV+Ccx+Ts+9SOUs/7nxd2t26vCUdd8YRp1PEBcp3w60GOC6Q5+d7MC4uemoh3907eb+O5Ls/cFOp3BAi8mlVfVYuT5g3YNmxfNGVEZF8xwKP6zynsWGPO+4xEcNx3AXHlVzjNXAD7K50649xT32d4+W5Fy6EtluMoETlmiGcHERkX1U9fKHzhXnFzYK/CMdedwAOUNWvd8f8ON5LcOxpQfN5Ou6PC/DnZL4ZNwGwBu6JnPviJi8eCXxHVd+eyLczbpH2pPOFKxUEZ4B/CKCqy55Oqs0byQfOQxiUbxyYliEEELfW9RCcJ3WYugce3oob5I7pvLl7sHx97gWlupshnCAkCFgvVL4wr7jJn/t3MdbNcaPlkV0I4Be6PMA+lXwDZO6Acw8vA5ao6jXiHh08WZdPHEwr3y9wrv0nWT5JchSdK62qP/LqXJVXRE7HTRCW8lWXPSp232z3iRiOb134LduhelWEuKdKoodwSyMmkq8x72q9q6mq53eu95fFLQaXGcjXkvemLs74TxH5g3YL3NVt5rB0BvLdG7eK4fUsX8VwXcII1ebdqTJfS9kjwZ41NoTYCPeUyNVBugA/nWC+lrzF2fcp52vJe4OI3ErdOrF7L6uwe2566bTzacMqhtq8485nWBl2kUbHscCt+w7sQ0ROmGC+lry1s+/TyteS9yHazQLqihMAa+Imiqadr9e9uIqhNe+4842CeduGy2KEBoOhGY/abLeJGI7vXvhtixEaDIZVA/P2XmMzhAaDoRnz5knO+qYLBoPBMHEYIzQYDM2YN9fYGKHBYFj0MEZoMBiaMW/LZ8wQGgyGZiy1yRKDwWCYLxgjNBgMzZgvPmiM0GAwGIwRGgyGdtjyGYPBYJgzGCM0GAzNmDdGaIbQYDA0w541NhgMhjmDMUKDwdCMeXONjREaDIZFD2OEBoOhGfasscFgWPSwyRKDwWCYMxgjNBgMzbDJEoPBYJgzGCM0GAzNmLcYoRlCg8HQDHONDQaDYc5gjNBgMDRj3tYRGiM0GAyLHsYIDQZDM+zlTQaDwTBnMEZoMBiaMW8xQjOEBoOhGeYaGwwGw5zBGKHBYGjGvLnGxggNBsOihzFCg8HQjHmLEZohNBgMzTDX2GAwGOYMxggNBkMz5s01NkZoMBgWPYwRGgyGZsxbjNAMocFgaIbq0mmrMFaYa2wwGBY9jBEaDIZm2Fb9BoPBMGcwRmgwGJoxb2+xM0ZoMBgWPYwRGgyGZsxbjNAMocFgaIa5xgaDwTBnMEZoMBiaYc8aGwwGw5zBGKHBYGiGPWtsMBgWPWyyxGAwGOYMxggNBkMz5m0doTFCg8Gw6GGM0GAwNGPeYoRmCA0GQzNsHaHBYDDMGYwRGgyGZsyba2yM0GAwLHoYIzQYDM2w5TMGg8EwZzBGaDAYmjFvMUIzhAaDoRm2fMZgMBjmDMYIDQZDM+ZtGy5jhAaDYdHDGKHBYGjGvMUIzRAaDIZmzNussbnGBoNh0cMYocFgaIZNlhgMBsOcwRihwWBohsUIDQbDooeqTuRTAxHZTUR+KyLnishrI8fXFpEvdMdPFpHNSzLNEBoMhlUGIrI68BFgd2BbYB8R2TbI9lzgalXdCjgYeFdJrhlCg8HQDJ3QpwI7A+eq6nmqegPweWCvIM9ewP92378M7CoikhNqhtBgMKxK2BS40Pt9UZcWzaOqNwF/A26XE2qTJQaDoRk33XBxlmENhYjsB+znJR2qqodOoiwfZggNBsPMoDN6OcN3MbCZ93tJlxbLc5GIrAGsB1yVK9dcY4PBsCrhFGBrEdlCRNYCngocE+Q5BviP7vuTgB9qYUraGKHBYFhloKo3iciLge8AqwOHqeo5IvJW4FRVPQb4FHCkiJwL/AVnLLOQeVsYaTAYDK0w19hgMCx6mCE0GAyLHmYIDQbDoocZQoPBsOhhhtBgMCx6mCE0GAyLHmYIDQbDoocZQoPBsOjx/wE1kA1JBhguMAAAAABJRU5ErkJggg==\n",
      "text/plain": [
       "<Figure size 360x576 with 2 Axes>"
      ]
     },
     "metadata": {
      "needs_background": "light"
     },
     "output_type": "display_data"
    }
   ],
   "source": [
    "import seaborn as sns\n",
    "#           2 3\n",
    "# 2 3 4  x  4 5\n",
    "# 4 5 4     2 1\n",
    "\n",
    "similarity = np.matmul(c10h_annotator_mask.T,c10h_annotator_mask)\n",
    "np.fill_diagonal(similarity, 0)\n",
    "print(similarity.shape)\n",
    "ax = sns.heatmap(similarity, square=True)"
>>>>>>> Stashed changes
   ]
  },
  {
   "cell_type": "markdown",
   "id": "9df7cf6d",
   "metadata": {},
   "source": [
    "# 2. Benchmark Evaluation -- experiment as needed\n",
    "\n",
    "**Major Benchmarks**\n",
    "- How good is consensus quality-score for any given consensus\n",
    "    - Plots: auroc, auprc\n",
    "    - Scores: auroc\n",
    "- How accurate are consensus labels: accuracy\n",
    "    - Overall: accuracy\n",
    "    - Per-class: precision,recall,f1 scores\n",
    "- How good are annotator-quality scores\n",
    "    - Distribution of individual annotator accuracy vs ground truth\n",
    "    - Spearman correlation between annotator scores vs annotator accuracy\n",
    "\n",
    "**Side Benchmarks**\n",
    "- Annotator Agreement Consensus vs. Label Accuracy\n",
    "- Annotator vs Model Accuracy\n",
    "- Label quality scores distribution\n",
    "- Worst Class per Annotator distribution"
   ]
  },
  {
   "cell_type": "markdown",
   "id": "4d3fb618",
   "metadata": {},
   "source": [
    "## How good is consensus quality-score for any given consensus \n",
    "## [model baseline]\n",
    "#### AUROC vs AUPRC curves\n",
    "- ROC Curves summarize the trade-off between the true positive rate and false positive rate for a predictive model using different probability threshold\n",
    "- Precision-Recall curves summarize the trade-off between the true positive rate and the positive predictive value for a predictive model using different probability thresholds.\n",
    "- Precision-Recall curves: imbalanced datasets (more sensitive to positive class), ROC curves: balanced datasets\n",
    "- Data behavior in curves is relatively similar (i.e. well performing label will perform well in both curves)"
   ]
  },
  {
   "cell_type": "code",
   "execution_count": null,
   "id": "702132b4",
   "metadata": {},
   "outputs": [],
   "source": [
    "results_list_base, precision_recall_curve_results_base = benchmark_results_base(pred_labels, true_labels, score_params, model)"
   ]
  },
  {
   "cell_type": "code",
   "execution_count": null,
   "id": "9019dfea",
   "metadata": {},
   "outputs": [],
   "source": [
    "pd.DataFrame(results_list_base)"
   ]
  },
  {
   "cell_type": "markdown",
   "id": "9c2fb2fa",
   "metadata": {},
   "source": [
    "## [consensus labels, same metrics as base]"
   ]
  },
  {
   "cell_type": "code",
   "execution_count": null,
   "id": "90d7e6f1",
   "metadata": {},
   "outputs": [],
   "source": [
    "results_list_base_con, precision_recall_curve_results_base_con = benchmark_results_base(consensus_labels, c10h_true_labels, score_params, model)"
   ]
  },
  {
   "cell_type": "code",
   "execution_count": null,
   "id": "7ce59275",
   "metadata": {},
   "outputs": [],
   "source": [
    "pd.DataFrame(results_list_base_con)"
   ]
  },
  {
   "cell_type": "markdown",
   "id": "e66244f7",
   "metadata": {},
   "source": [
    "## [consensus labels, new label_quality scores]"
   ]
  },
  {
   "cell_type": "code",
   "execution_count": null,
   "id": "5d3e4bc3",
   "metadata": {},
   "outputs": [],
   "source": [
    "# slow because calculates label_quality_multiannotator for each annotator ~ 1 min each\n",
    "results_list_consensus, precision_recall_curve_results_consensus = benchmark_results_annotators(c10h_labels, c10h_true_labels, score_params_consensus, model)"
   ]
  },
  {
   "cell_type": "markdown",
   "id": "73667ee0",
   "metadata": {},
   "source": [
    "### AUROC score per method\n",
    "**Base model with labels = model predictions**"
   ]
  },
  {
   "cell_type": "code",
   "execution_count": null,
   "id": "47ccc87f",
   "metadata": {},
   "outputs": [],
   "source": [
    "pd.DataFrame(results_list_base)"
   ]
  },
  {
   "cell_type": "markdown",
   "id": "9651b470",
   "metadata": {},
   "source": [
    "**Base score calculations with labels = consensus labels**"
   ]
  },
  {
   "cell_type": "code",
   "execution_count": null,
   "id": "0c78f545",
   "metadata": {},
   "outputs": [],
   "source": [
    "pd.DataFrame(results_list_base_con)"
   ]
  },
  {
   "cell_type": "markdown",
   "id": "5b3874ad",
   "metadata": {},
   "source": [
    "**Different Multiannotator label quality scoring methods**"
   ]
  },
  {
   "cell_type": "code",
   "execution_count": null,
   "id": "72902b57",
   "metadata": {},
   "outputs": [],
   "source": [
    "pd.DataFrame(results_list_consensus)"
   ]
  },
  {
   "cell_type": "markdown",
   "id": "4a14a73e",
   "metadata": {},
   "source": [
    "## How accurate are consensus labels\n",
    "#### Overall accuracy and per-class precision, recall, f1 scores"
   ]
  },
  {
   "cell_type": "code",
   "execution_count": null,
   "id": "3f96219d",
   "metadata": {},
   "outputs": [],
   "source": [
    "get_consensus_label_accuracy(c10h_labels, pred_probs, true_labels)"
   ]
  },
  {
   "cell_type": "markdown",
   "id": "a0ffe4cf",
   "metadata": {},
   "source": [
    "## How good are annotator-quality scores \n",
    "#### Distribution of individual annotator accuracy vs ground truth"
   ]
  },
  {
   "cell_type": "code",
   "execution_count": null,
   "id": "0c616c49",
   "metadata": {},
   "outputs": [],
   "source": [
    "annotator_accuracy_df = plt_annotator_accuracy(c10h_labels_error_mask,  c10h_annotator_mask)\n",
    "annotator_accuracy_df.describe()"
   ]
  },
  {
   "cell_type": "markdown",
   "id": "b292acf9",
   "metadata": {},
   "source": [
    "#### Spearman Correlation\n",
    "- Nonparametric measure of the monotonicity of the relationship between two datasets\n",
    "- Correlations of -1 or +1 imply an exact monotonic relationship. Positive correlations imply that as x increases, so does y. Negative correlations imply that as x increases, y decreases.\n",
    "- The p-value roughly indicates the probability of an uncorrelated system producing datasets that have a Spearman correlation at least as extreme as the one computed from these datasets. The p-values are not entirely reliable\n",
    "- TODO: figure out why spearman correlation is 0 when we randomly remove random number of datapoints per row"
   ]
  },
  {
   "cell_type": "code",
   "execution_count": null,
   "id": "1779eb36",
   "metadata": {},
   "outputs": [],
   "source": [
    "label_quality_multiannotator, multiannotator_stats = get_label_quality_multiannotator(pd.DataFrame(c10h_labels), pred_probs, return_annotator_stats = True, verbose=False)"
   ]
  },
  {
   "cell_type": "code",
   "execution_count": null,
   "id": "b51c590b",
   "metadata": {},
   "outputs": [],
   "source": [
    "quality_score = multiannotator_stats['overall_quality'].values\n",
    "accuracy = annotator_accuracy_df['score'].values\n",
    "get_spearman_correlation(quality_score, accuracy)"
   ]
  },
  {
   "cell_type": "markdown",
   "id": "b3860339",
   "metadata": {},
   "source": [
    "## Side Benchmarks\n",
    "#### Annotator Agreement Consensus vs. Label Accuracy"
   ]
  },
  {
   "cell_type": "code",
   "execution_count": null,
   "id": "de76f99f",
   "metadata": {},
   "outputs": [],
   "source": [
    "plot_labels_multiannotator(c10h_labels, c10h_true_labels)"
   ]
  },
  {
   "cell_type": "markdown",
   "id": "b8bd1f45",
   "metadata": {},
   "source": [
    "#### Annotator vs Model accuracy"
   ]
  },
  {
   "cell_type": "code",
   "execution_count": null,
   "id": "fbc25b85",
   "metadata": {},
   "outputs": [],
   "source": [
    "# check how much the consensus labels differ from\n",
    "c10h_labels_df = pd.DataFrame(c10h_labels)\n",
    "consensus_labels = get_consensus_label(c10h_labels_df, pred_probs)\n",
    "\n",
    "print('Probability annotators alone correctly predict labels: ', (true_labels == consensus_labels).sum() / 10000)\n",
    "model_pred_labels = np.argmax(pred_probs, axis=1) # true labels == to what the model is likeley to predict\n",
    "print('Probability model alone correctly predicts labels: ', (model_pred_labels == true_labels).sum() / 10000) # suggests model is x% likeley to predict with the consensus\n",
    "print('Similar prediction between model preds and consensus_labels: ', (model_pred_labels == consensus_labels).sum())"
   ]
  },
  {
   "cell_type": "markdown",
   "id": "9deba0e3",
   "metadata": {},
   "source": [
    "#### Label quality scores distribution"
   ]
  },
  {
   "cell_type": "code",
   "execution_count": null,
   "id": "a39726d1",
   "metadata": {},
   "outputs": [],
   "source": [
    "label_quality_scores = get_label_quality_scores(consensus_labels, pred_probs)\n",
    "pd.DataFrame(label_quality_scores, columns=['']).plot.hist(bins=30,)"
   ]
  },
  {
   "cell_type": "markdown",
   "id": "21aaffb4",
   "metadata": {},
   "source": [
    "#### Worst Class Per Annotator Distribution"
   ]
  },
  {
   "cell_type": "code",
   "execution_count": null,
   "id": "9082ae65",
   "metadata": {},
   "outputs": [],
   "source": [
    "multiannotator_stats = get_multiannotator_stats(c10h_labels_df, pred_probs, consensus_labels, 'agreement')\n",
    "multiannotator_stats['worst_class'].plot.hist(bins=10,)"
   ]
  },
  {
   "cell_type": "markdown",
   "id": "3eee9120",
   "metadata": {},
   "source": [
    "# 3. Label Issue Visualization"
   ]
  },
  {
   "cell_type": "code",
   "execution_count": null,
   "id": "06f95c60",
   "metadata": {},
   "outputs": [],
   "source": [
    "classes = {0:\"airplane\", \n",
    "           1:\"automobile\", \n",
    "           2:\"bird\", \n",
    "           3:\"cat\", \n",
    "           4:\"deer\",\n",
    "           5:\"dog\", \n",
    "           6:\"frog\", \n",
    "           7:\"horse\", \n",
    "           8:\"ship\", \n",
    "           9:\"truck\"}\n",
    "\n",
    "def get_label_issues(labels, pred_probs, true_labels, images):\n",
    "    label_issues = find_label_issues(labels=labels,\n",
    "                        pred_probs=pred_probs,\n",
    "                        return_indices_ranked_by='self_confidence',\n",
    "                        )\n",
    "    issue_consensus_labels = labels[label_issues]\n",
    "    issue_images = images[label_issues]\n",
    "    issue_true_labels = true_labels[label_issues]\n",
    "    issue_is_issue = (issue_consensus_labels != issue_true_labels) + 0\n",
    "    issue_real_image_paths = [path + '/' + '/'.join(image.split('/')[-5:]) for image in issue_images]\n",
    "\n",
    "    print('Number of label issues detected: ', len(label_issues))\n",
    "    print('Number of true label issues: ', true_labels.shape[0] - np.sum(labels == true_labels))\n",
    "    print('Number of true label issues detected: ', np.sum(issue_is_issue))\n",
    "    \n",
    "    issues_df = pd.DataFrame(zip(issue_consensus_labels, issue_true_labels, issue_is_issue, issue_real_image_paths),\n",
    "            columns = ['label','true_label','is_issue','image_png'])\n",
    "    return issues_df\n",
    "\n",
    "def visualize_label_issues(issues_df, classes, scale=100):\n",
    "    print('Visualizing', len(issues_df), 'issues\\n')\n",
    "    \n",
    "    listOfImageNames = issues_df['image_png'].values\n",
    "\n",
    "    for index, row in issues_df.iterrows():\n",
    "        print('Correctly identified: ', bool(row['is_issue']), '\\nGiven label: ', classes[row['label']], '\\nTrue label: ', classes[row['true_label']],)\n",
    "        image = Image(filename=row['image_png'])\n",
    "        display(Image(filename=row['image_png'], width=scale))"
   ]
  },
  {
   "cell_type": "markdown",
   "id": "8dd99baf",
   "metadata": {},
   "source": [
    "#### Run find_label_issues on the consensus labels and visualize label issues."
   ]
  },
  {
   "cell_type": "code",
   "execution_count": null,
   "id": "a34c63e8",
   "metadata": {},
   "outputs": [],
   "source": [
    "# check how much the consensus label issues differ from true labels\n",
    "c10h_labels_df = pd.DataFrame(c10h_labels)\n",
    "consensus_labels = get_consensus_label(c10h_labels_df, pred_probs)\n",
    "issues_df = get_label_issues(consensus_labels, pred_probs, true_labels, images)"
   ]
  },
  {
   "cell_type": "code",
   "execution_count": null,
   "id": "a2b0876b",
   "metadata": {},
   "outputs": [],
   "source": [
    "true_issues_df = issues_df[issues_df['is_issue'] == 1] # get a df of correctly identified true issues\n",
    "# visualize_label_issues(issues_df, classes)\n",
    "visualize_label_issues(true_issues_df, classes)"
   ]
  },
  {
   "cell_type": "markdown",
   "id": "89da87ed",
   "metadata": {},
   "source": [
    "#### Run find_label_issues on an individual annotator's labels and visualize label issues."
   ]
  },
  {
   "cell_type": "code",
   "execution_count": null,
   "id": "29be732a",
   "metadata": {},
   "outputs": [],
   "source": [
    "annotator_accuracy = c10h_labels_error_mask.sum(axis=0) /  c10h_annotator_mask.sum(axis=0)\n",
    "worst_annotator = np.argmin(annotator_accuracy)\n",
    "best_annotator = np.argmax(annotator_accuracy)\n",
    "print('worst annotator: ', worst_annotator, 'accuracy: ', annotator_accuracy[worst_annotator])\n",
    "print('best annotator: ', best_annotator, 'accuracy: ', annotator_accuracy[best_annotator])"
   ]
  },
  {
   "cell_type": "code",
   "execution_count": null,
   "id": "542cff41",
   "metadata": {},
   "outputs": [],
   "source": [
    "annotator_id = 1 # worst = 2561, best = 1957\n",
    "\n",
    "a_c10h_labels = c10h_labels[:,annotator_id]\n",
    "a_c10h_annotator_mask =  c10h_annotator_mask[:,annotator_id]\n",
    "a_c10h_labels_error_mask = c10h_labels_error_mask[:,annotator_id]\n",
    "\n",
    "a_labels = true_labels.copy()\n",
    "a_labels[a_c10h_annotator_mask] = a_c10h_labels[a_c10h_annotator_mask]\n",
    "\n",
    "print('Annotator accuracy: ', np.sum(a_labels[a_c10h_annotator_mask] == true_labels[a_c10h_annotator_mask]) / a_c10h_annotator_mask.sum())\n",
    "print('Annotator accuracy: ', annotator_accuracy[annotator_id])\n",
    "print('Num correctly labeled points for annotator ', annotator_id, ': ', np.sum(a_labels == true_labels))\n",
    "print('Annotator + True label accuracy: ', np.sum(a_labels == true_labels) / len(a_labels))\n",
    "\n",
    "issues_df = get_label_issues(a_labels, pred_probs, true_labels, images)"
   ]
  }
 ],
 "metadata": {
  "kernelspec": {
   "display_name": "Python 3 (ipykernel)",
   "language": "python",
   "name": "python3"
  },
  "language_info": {
   "codemirror_mode": {
    "name": "ipython",
    "version": 3
   },
   "file_extension": ".py",
   "mimetype": "text/x-python",
   "name": "python",
   "nbconvert_exporter": "python",
   "pygments_lexer": "ipython3",
   "version": "3.8.10"
  }
 },
 "nbformat": 4,
 "nbformat_minor": 5
}
