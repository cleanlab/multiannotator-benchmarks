{
 "cells": [
  {
   "cell_type": "code",
   "execution_count": 1,
   "metadata": {},
   "outputs": [],
   "source": [
    "import numpy as np\n",
    "import pandas as pd\n",
    "\n",
    "from benchmark_functions import benchmark_results"
   ]
  },
  {
   "cell_type": "code",
   "execution_count": 2,
   "metadata": {},
   "outputs": [],
   "source": [
    "c10h_labels = np.load(\"processed_data/c10h_labels.npy\")\n",
    "c10h_true_labels = np.load(\"processed_data/c10h_true_labels.npy\")\n",
    "c10h_labels_drop = np.load(\"processed_data/c10h_labels_drop.npy\")\n",
    "c10h_true_labels_drop = np.load(\"processed_data/c10h_true_labels_drop.npy\")\n",
    "pred_probs = np.load(\"processed_data/pred_probs.npy\")\n",
    "model = \"resnet18\" "
   ]
  },
  {
   "cell_type": "code",
   "execution_count": 6,
   "metadata": {},
   "outputs": [],
   "source": [
    "methods = [\n",
    "    (\"majority\", \"auto\"),\n",
    "    (\"majority\", \"lqs\"),\n",
    "    (\"majority\", \"agreement\"),\n",
    "    (\"majority\", \"active_label_cleaning\"),\n",
    "    (\"majority\", \"bayes\"),\n",
    "    (\"dawid_skene\", \"auto\"),\n",
    "    (\"GLAD\", \"auto\")\n",
    "]"
   ]
  },
  {
   "cell_type": "code",
   "execution_count": 7,
   "metadata": {},
   "outputs": [],
   "source": [
    "results = benchmark_results(c10h_labels, c10h_true_labels, pred_probs, methods, model)"
   ]
  },
  {
   "cell_type": "code",
   "execution_count": null,
   "metadata": {},
   "outputs": [],
   "source": [
    "pd.DataFrame(results)"
   ]
  }
 ],
 "metadata": {
  "kernelspec": {
   "display_name": "Python 3.9.13 ('cl-dev')",
   "language": "python",
   "name": "python3"
  },
  "language_info": {
   "codemirror_mode": {
    "name": "ipython",
    "version": 3
   },
   "file_extension": ".py",
   "mimetype": "text/x-python",
   "name": "python",
   "nbconvert_exporter": "python",
   "pygments_lexer": "ipython3",
   "version": "3.9.13"
  },
  "orig_nbformat": 4,
  "vscode": {
   "interpreter": {
    "hash": "fd37c5155b81d9880db910bf38875fc18587adb30e75dd48f09a5f71019d6271"
   }
  }
 },
 "nbformat": 4,
 "nbformat_minor": 2
}
