{
 "cells": [
  {
   "cell_type": "markdown",
   "id": "861406e6",
   "metadata": {},
   "source": [
    "# This notebook trains a model with cross-val on the entire dataset\n",
    "- Gets pred_probs on holdout and saves results as numpy files\n",
    "- Make sure you run ``evaluate_benchmarks`` on local and push/pull newest ``cifar10_test_consensus_dataset`` first"
   ]
  },
  {
   "cell_type": "code",
   "execution_count": null,
   "id": "cd34358d",
   "metadata": {},
   "outputs": [],
   "source": [
    "# %load_ext autoreload\n",
    "# %autoreload 2\n",
    "\n",
    "import sys\n",
    "\n",
    "sys.path.insert(0, \"../\")\n",
    "\n",
    "from autogluon.vision import ImagePredictor, ImageDataset\n",
    "import numpy as np\n",
    "import pandas as pd\n",
    "import pickle\n",
    "import datetime\n",
    "from pathlib import Path\n",
    "import cleanlab\n",
    "from utils.cross_validation_autogluon import cross_val_predict_autogluon_image_dataset\n",
    "\n",
    "pd.set_option('display.max_rows', None)\n",
    "pd.set_option('display.max_columns', None)\n",
    "pd.set_option('display.max_colwidth', None)"
   ]
  },
  {
   "cell_type": "markdown",
   "id": "6f4af41e",
   "metadata": {},
   "source": [
    "## Load data"
   ]
  },
  {
   "cell_type": "code",
   "execution_count": null,
   "id": "52251f3a",
   "metadata": {},
   "outputs": [],
   "source": [
    "# Load consensus test files\n",
    "data_filepath = './data/model_data_070622/cifar10_test_consensus_dataset.csv'\n",
    "df = pd.read_csv(data_filepath)\n",
    "\n",
    "# Create mini train dataset for testing\n",
    "num_from_each_group = 15\n",
    "mini_df = df.groupby(\"label\").head(num_from_each_group)\n",
    "mini_df.groupby(\"label\")[\"image\"].count().reset_index()"
   ]
  },
  {
   "cell_type": "markdown",
   "id": "3a1e1497",
   "metadata": {},
   "source": [
    "**Model and data saving params**"
   ]
  },
  {
   "cell_type": "code",
   "execution_count": null,
   "id": "7b09f51a",
   "metadata": {},
   "outputs": [],
   "source": [
    "# save/load folders\n",
    "model_folder = './data/cifar10_consensus' # + [model_type]\n",
    "\n",
    "# generate cross-validated predicted probabilities for various models\n",
    "models = [\n",
    "    \"resnet18\",\n",
    "    \"swin_base_patch4_window7_224\"\n",
    "]\n",
    "\n",
    "# xvalidation parameters\n",
    "num_cv_folds = 5 # number K in stratified K-folds cross-validation\n",
    "verbose = 1 # verbose for dataloading duing crossval to numpy save\n",
    "\n",
    "# shared model parameters\n",
    "epochs = 1 #100\n",
    "holdout_frac = 0.2\n",
    "time_limit = 60 #21600\n",
    "random_state = 123"
   ]
  },
  {
   "cell_type": "markdown",
   "id": "b541971a",
   "metadata": {},
   "source": [
    "## Run cross validation on `models`"
   ]
  },
  {
   "cell_type": "code",
   "execution_count": null,
   "id": "3e793c24",
   "metadata": {},
   "outputs": [],
   "source": [
    "%%time\n",
    "# run cross-validation for each model\n",
    "for model in models:\n",
    "    \n",
    "    print(\"----\")\n",
    "    print(f\"Running cross-validation for model: {model}\")\n",
    "\n",
    "    MODEL_PARAMS = {\n",
    "        \"model\": model,\n",
    "        \"epochs\": epochs,\n",
    "        \"holdout_frac\": holdout_frac,\n",
    "    }\n",
    "\n",
    "    # results of cross-validation will be saved to pickle files for each model/fold\n",
    "    _ = \\\n",
    "        cross_val_predict_autogluon_image_dataset(\n",
    "            dataset=mini_df,\n",
    "            out_folder=f\"{model_folder}_{model}/\", # save results of cross-validation in pickle files for each fold\n",
    "            n_splits=num_cv_folds,\n",
    "            model_params=MODEL_PARAMS,\n",
    "            time_limit=time_limit,\n",
    "            random_state=random_state,\n",
    "        )"
   ]
  },
  {
   "cell_type": "markdown",
   "id": "bc171378",
   "metadata": {},
   "source": [
    "## Read per-fold pickle files from xvalidation and save data as numpy arrays"
   ]
  },
  {
   "cell_type": "code",
   "execution_count": null,
   "id": "23da39c0",
   "metadata": {},
   "outputs": [],
   "source": [
    "# load pickle file util\n",
    "def load_pickle(pickle_file_name, verbose=1):\n",
    "    \"\"\"Load pickle file\"\"\"\n",
    "\n",
    "    if verbose:\n",
    "        print(f\"Loading {pickle_file_name}\")\n",
    "\n",
    "    with open(pickle_file_name, 'rb') as handle:\n",
    "        out = pickle.load(handle)\n",
    "        \n",
    "    return out\n",
    "\n",
    "# get the original label from file path (aka \"true labels\" y)\n",
    "get_orig_label_idx_from_file_path = np.vectorize(lambda f: label_name_to_idx_map[Path(f).parts[-2]])\n",
    "\n",
    "# get original label name to idx mapping\n",
    "label_name_to_idx_map = {'airplane': 0,\n",
    "                         'automobile': 1,\n",
    "                         'bird': 2,\n",
    "                         'cat': 3,\n",
    "                         'deer': 4,\n",
    "                         'dog': 5,\n",
    "                         'frog': 6,\n",
    "                         'horse': 7,\n",
    "                         'ship': 8,\n",
    "                         'truck': 9}"
   ]
  },
  {
   "cell_type": "markdown",
   "id": "ba7e7837",
   "metadata": {},
   "source": [
    "#### Save pickle files per fold as single files per model"
   ]
  },
  {
   "cell_type": "code",
   "execution_count": null,
   "id": "d6102283",
   "metadata": {},
   "outputs": [],
   "source": [
    "results_list = []\n",
    "\n",
    "for model in models:\n",
    "\n",
    "    pred_probs = []\n",
    "    labels = []\n",
    "    images = []\n",
    "    \n",
    "    for split_num in range(num_cv_folds):\n",
    "\n",
    "        out_subfolder = f\"{model_folder}_{model}/split_{split_num}/\"\n",
    "        \n",
    "        # pickle file name to read\n",
    "        get_pickle_file_name = (\n",
    "            lambda object_name: f\"{out_subfolder}_{object_name}_split_{split_num}\"\n",
    "        )\n",
    "\n",
    "        # NOTE: the \"test_\" prefix in the pickle name correspond to the \"test\" split during cross-validation.\n",
    "        pred_probs_split = load_pickle(get_pickle_file_name(\"test_pred_probs\"), verbose=verbose)\n",
    "        labels_split = load_pickle(get_pickle_file_name(\"test_labels\"), verbose=verbose)\n",
    "        images_split = load_pickle(get_pickle_file_name(\"test_image_files\"), verbose=verbose)\n",
    "        indices_split = load_pickle(get_pickle_file_name(\"test_indices\"), verbose=verbose)\n",
    "\n",
    "        # append to list so we can combine data from all the splits\n",
    "        pred_probs.append(pred_probs_split)\n",
    "        labels.append(labels_split)\n",
    "        images.append(images_split)    \n",
    "\n",
    "    # convert list to array\n",
    "    pred_probs = np.vstack(pred_probs)\n",
    "    labels = np.hstack(labels) # remember that this is the noisy labels (s)\n",
    "    images = np.hstack(images)\n",
    "    \n",
    "    # get the true labels (y) from the original file path\n",
    "    true_labels = get_orig_label_idx_from_file_path(images)\n",
    "    \n",
    "    # save to Numpy files\n",
    "    numpy_out_folder = f\"{model_folder}_{model}/\"\n",
    "    \n",
    "    print(f\"Saving to numpy files in this folder: {numpy_out_folder}\")\n",
    "    \n",
    "    np.save(numpy_out_folder + \"pred_probs\", pred_probs)\n",
    "    np.save(numpy_out_folder + \"labels\", labels)\n",
    "    np.save(numpy_out_folder + \"images\", images)\n",
    "    np.save(numpy_out_folder + \"true_labels\", true_labels)\n",
    "\n",
    "    # check the accuracy\n",
    "    acc_labels = (pred_probs.argmax(axis=1) == labels).mean() # noisy labels (s)\n",
    "    acc_true_labels = (pred_probs.argmax(axis=1) == true_labels).mean() # true labels (y)    \n",
    "    acc_noisy_vs_true_labels = (labels == true_labels).mean()\n",
    "    \n",
    "    print(f\"Model: {model}\")\n",
    "    print(f\"  Accuracy (argmax pred vs labels): {acc_labels}\")\n",
    "    print(f\"  Accuracy (argmax pred vs true labels) : {acc_true_labels}\")\n",
    "    print(f\"  Accuracy (labels vs true labels)       : {acc_noisy_vs_true_labels}\")\n",
    "    \n",
    "    results = {\n",
    "        \"model\": model,\n",
    "        \"Accuracy (argmax pred vs noisy labels)\": acc_labels,\n",
    "        \"Accuracy (argmax pred vs true labels)\": acc_true_labels,\n",
    "        \"Accuracy (noisy vs true labels)\": acc_noisy_vs_true_labels\n",
    "    }\n",
    "    \n",
    "    results_list.append(results)"
   ]
  },
  {
   "cell_type": "code",
   "execution_count": null,
   "id": "8c8d3b40",
   "metadata": {},
   "outputs": [],
   "source": [
    "for model in models:\n",
    "    numpy_out_folder = f\"{model_folder}_{model}/\"\n",
    "\n",
    "    pred_probs = np.load(numpy_out_folder + 'pred_probs.npy')\n",
    "    labels = np.load(numpy_out_folder + 'labels.npy')\n",
    "    true_labels =  np.load(numpy_out_folder + 'true_labels.npy')\n",
    "    print(f'{model}\\n pred_probs[{pred_probs.shape}],labels[{labels.shape}], true_labels[{true_labels.shape}]\\n')"
   ]
  }
 ],
 "metadata": {
  "kernelspec": {
   "display_name": "Python 3 (ipykernel)",
   "language": "python",
   "name": "python3"
  },
  "language_info": {
   "codemirror_mode": {
    "name": "ipython",
    "version": 3
   },
   "file_extension": ".py",
   "mimetype": "text/x-python",
   "name": "python",
   "nbconvert_exporter": "python",
   "pygments_lexer": "ipython3",
   "version": "3.8.10"
  }
 },
 "nbformat": 4,
 "nbformat_minor": 5
}
